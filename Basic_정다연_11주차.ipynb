{
 "cells": [
  {
   "cell_type": "markdown",
   "id": "98c7592f",
   "metadata": {
    "id": "YT0En5VzLOo4"
   },
   "source": [
    "# 11장 – 심층 신경망 훈련하기"
   ]
  },
  {
   "cell_type": "code",
   "execution_count": 1,
   "id": "3b742d72",
   "metadata": {
    "execution": {
     "iopub.execute_input": "2021-10-10T01:38:48.460540Z",
     "iopub.status.busy": "2021-10-10T01:38:48.459595Z",
     "iopub.status.idle": "2021-10-10T01:38:50.305510Z",
     "shell.execute_reply": "2021-10-10T01:38:50.304882Z"
    },
    "id": "M1cwJnMALOo-"
   },
   "outputs": [],
   "source": [
    "# 파이썬 ≥3.5 필수\n",
    "import sys\n",
    "assert sys.version_info >= (3, 5)\n",
    "\n",
    "# 사이킷런 ≥0.20 필수\n",
    "import sklearn\n",
    "assert sklearn.__version__ >= \"0.20\"\n",
    "\n",
    "# 텐서플로 ≥2.0 필수\n",
    "import tensorflow as tf\n",
    "from tensorflow import keras\n",
    "assert tf.__version__ >= \"2.0\"\n",
    "\n",
    "%load_ext tensorboard\n",
    "\n",
    "# 공통 모듈 임포트\n",
    "import numpy as np\n",
    "import os\n",
    "\n",
    "# 노트북 실행 결과를 동일하게 유지하기 위해\n",
    "np.random.seed(42)\n",
    "\n",
    "# 깔끔한 그래프 출력을 위해\n",
    "%matplotlib inline\n",
    "import matplotlib as mpl\n",
    "import matplotlib.pyplot as plt\n",
    "mpl.rc('axes', labelsize=14)\n",
    "mpl.rc('xtick', labelsize=12)\n",
    "mpl.rc('ytick', labelsize=12)\n",
    "\n",
    "# 그림을 저장할 위치\n",
    "PROJECT_ROOT_DIR = \".\"\n",
    "CHAPTER_ID = \"deep\"\n",
    "IMAGES_PATH = os.path.join(PROJECT_ROOT_DIR, \"images\", CHAPTER_ID)\n",
    "os.makedirs(IMAGES_PATH, exist_ok=True)\n",
    "\n",
    "def save_fig(fig_id, tight_layout=True, fig_extension=\"png\", resolution=300):\n",
    "    path = os.path.join(IMAGES_PATH, fig_id + \".\" + fig_extension)\n",
    "    print(\"그림 저장:\", fig_id)\n",
    "    if tight_layout:\n",
    "        plt.tight_layout()\n",
    "    plt.savefig(path, format=fig_extension, dpi=resolution)"
   ]
  },
  {
   "cell_type": "markdown",
   "id": "0c1608c4",
   "metadata": {
    "id": "Uts4Q0qDLOpA"
   },
   "source": [
    "# 그레이디언트 소실과 폭주 문제"
   ]
  },
  {
   "cell_type": "code",
   "execution_count": 2,
   "id": "23aaa4bf",
   "metadata": {
    "execution": {
     "iopub.execute_input": "2021-10-10T01:38:50.309533Z",
     "iopub.status.busy": "2021-10-10T01:38:50.309024Z",
     "iopub.status.idle": "2021-10-10T01:38:50.312073Z",
     "shell.execute_reply": "2021-10-10T01:38:50.311605Z"
    },
    "id": "C27geIKhLOpA"
   },
   "outputs": [],
   "source": [
    "def logit(z):\n",
    "    return 1 / (1 + np.exp(-z))"
   ]
  },
  {
   "cell_type": "code",
   "execution_count": 3,
   "id": "311c5ece",
   "metadata": {
    "colab": {
     "base_uri": "https://localhost:8080/",
     "height": 315
    },
    "execution": {
     "iopub.execute_input": "2021-10-10T01:38:50.332774Z",
     "iopub.status.busy": "2021-10-10T01:38:50.331093Z",
     "iopub.status.idle": "2021-10-10T01:38:50.828592Z",
     "shell.execute_reply": "2021-10-10T01:38:50.828047Z"
    },
    "id": "YnIN46vHLOpA",
    "outputId": "4eedd9b3-375d-404f-8f62-399ba30e8927"
   },
   "outputs": [
    {
     "name": "stdout",
     "output_type": "stream",
     "text": [
      "그림 저장: sigmoid_saturation_plot\n"
     ]
    },
    {
     "data": {
      "image/png": "[encoded data removed]",
      "text/plain": [
       "<Figure size 432x288 with 1 Axes>"
      ]
     },
     "metadata": {
      "needs_background": "light"
     },
     "output_type": "display_data"
    }
   ],
   "source": [
    "z = np.linspace(-5, 5, 200)\n",
    "\n",
    "plt.plot([-5, 5], [0, 0], 'k-') # plot의 범위 지정\n",
    "plt.plot([-5, 5], [1, 1], 'k--')\n",
    "plt.plot([0, 0], [-0.2, 1.2], 'k-')\n",
    "plt.plot([-5, 5], [-3/4, 7/4], 'g--')\n",
    "plt.plot(z, logit(z), \"b-\", linewidth=2) # 로지스틱 함수 사용\n",
    "props = dict(facecolor='black', shrink=0.1)\n",
    "plt.annotate('Saturating', xytext=(3.5, 0.7), xy=(5, 1), arrowprops=props, fontsize=14, ha=\"center\")\n",
    "plt.annotate('Saturating', xytext=(-3.5, 0.3), xy=(-5, 0), arrowprops=props, fontsize=14, ha=\"center\")\n",
    "plt.annotate('Linear', xytext=(2, 0.2), xy=(0, 0.5), arrowprops=props, fontsize=14, ha=\"center\")\n",
    "plt.grid(True)\n",
    "plt.title(\"Sigmoid activation function\", fontsize=14)\n",
    "plt.axis([-5, 5, -0.2, 1.2])\n",
    "\n",
    "save_fig(\"sigmoid_saturation_plot\")\n",
    "plt.show()"
   ]
  },
  {
   "cell_type": "markdown",
   "id": "d086a14b",
   "metadata": {},
   "source": [
    "로지스틱 활성화 함수의 선형과 수렴에 대해서 나타내고 있다."
   ]
  },
  {
   "cell_type": "markdown",
   "id": "554274f8",
   "metadata": {
    "id": "z9my8UBcLOpB"
   },
   "source": [
    "## Xavier 초기화와 He 초기화"
   ]
  },
  {
   "cell_type": "code",
   "execution_count": 4,
   "id": "e9ae4771",
   "metadata": {
    "colab": {
     "base_uri": "https://localhost:8080/"
    },
    "execution": {
     "iopub.execute_input": "2021-10-10T01:38:50.833228Z",
     "iopub.status.busy": "2021-10-10T01:38:50.832616Z",
     "iopub.status.idle": "2021-10-10T01:38:51.066605Z",
     "shell.execute_reply": "2021-10-10T01:38:51.066207Z"
    },
    "id": "P0IEVGXYLOpC",
    "outputId": "59e0c68a-57c7-4b97-e1ba-c5ec4699143f"
   },
   "outputs": [
    {
     "data": {
      "text/plain": [
       "['Constant',\n",
       " 'GlorotNormal',\n",
       " 'GlorotUniform',\n",
       " 'HeNormal',\n",
       " 'HeUniform',\n",
       " 'Identity',\n",
       " 'Initializer',\n",
       " 'LecunNormal',\n",
       " 'LecunUniform',\n",
       " 'Ones',\n",
       " 'Orthogonal',\n",
       " 'RandomNormal',\n",
       " 'RandomUniform',\n",
       " 'TruncatedNormal',\n",
       " 'VarianceScaling',\n",
       " 'Zeros',\n",
       " 'constant',\n",
       " 'deserialize',\n",
       " 'get',\n",
       " 'glorot_normal',\n",
       " 'glorot_uniform',\n",
       " 'he_normal',\n",
       " 'he_uniform',\n",
       " 'identity',\n",
       " 'lecun_normal',\n",
       " 'lecun_uniform',\n",
       " 'ones',\n",
       " 'orthogonal',\n",
       " 'random_normal',\n",
       " 'random_uniform',\n",
       " 'serialize',\n",
       " 'truncated_normal',\n",
       " 'variance_scaling',\n",
       " 'zeros']"
      ]
     },
     "execution_count": 4,
     "metadata": {},
     "output_type": "execute_result"
    }
   ],
   "source": [
    "[name for name in dir(keras.initializers) if not name.startswith(\"_\")]"
   ]
  },
  {
   "cell_type": "code",
   "execution_count": 5,
   "id": "4cd1bb45",
   "metadata": {
    "colab": {
     "base_uri": "https://localhost:8080/"
    },
    "execution": {
     "iopub.execute_input": "2021-10-10T01:38:51.069690Z",
     "iopub.status.busy": "2021-10-10T01:38:51.068919Z",
     "iopub.status.idle": "2021-10-10T01:38:51.079268Z",
     "shell.execute_reply": "2021-10-10T01:38:51.079684Z"
    },
    "id": "kBczZ42qLOpC",
    "outputId": "fcd6d092-8bc6-4f3b-d5d2-9c2363356cc0"
   },
   "outputs": [
    {
     "data": {
      "text/plain": [
       "<keras.layers.core.dense.Dense at 0x2c1dc509eb0>"
      ]
     },
     "execution_count": 5,
     "metadata": {},
     "output_type": "execute_result"
    }
   ],
   "source": [
    "keras.layers.Dense(10, activation=\"relu\", kernel_initializer=\"he_normal\")"
   ]
  },
  {
   "cell_type": "markdown",
   "id": "006c8146",
   "metadata": {},
   "source": [
    "he_normal 방식으로 초기화 지정"
   ]
  },
  {
   "cell_type": "code",
   "execution_count": 6,
   "id": "41fcc466",
   "metadata": {
    "colab": {
     "base_uri": "https://localhost:8080/"
    },
    "execution": {
     "iopub.execute_input": "2021-10-10T01:38:51.082808Z",
     "iopub.status.busy": "2021-10-10T01:38:51.081918Z",
     "iopub.status.idle": "2021-10-10T01:38:51.089362Z",
     "shell.execute_reply": "2021-10-10T01:38:51.088952Z"
    },
    "id": "iSo-rN5kLOpC",
    "outputId": "6ffa008e-752f-4861-eea3-34ff3bbc1b92"
   },
   "outputs": [
    {
     "data": {
      "text/plain": [
       "<keras.layers.core.dense.Dense at 0x2c1eaae17c0>"
      ]
     },
     "execution_count": 6,
     "metadata": {},
     "output_type": "execute_result"
    }
   ],
   "source": [
    "init = keras.initializers.VarianceScaling(scale=2., mode='fan_avg',\n",
    "                                          distribution='uniform')\n",
    "keras.layers.Dense(10, activation=\"relu\", kernel_initializer=init)"
   ]
  },
  {
   "cell_type": "markdown",
   "id": "d130081c",
   "metadata": {},
   "source": [
    "fan_in 대신 fan_avg 기반의 균등분포 초기화를 사용하고자 할 때 사용함."
   ]
  },
  {
   "cell_type": "markdown",
   "id": "96bcf452",
   "metadata": {
    "id": "ehWhAiMGLOpC"
   },
   "source": [
    "## 수렴하지 않는 활성화 함수"
   ]
  },
  {
   "cell_type": "markdown",
   "id": "f8f59f9e",
   "metadata": {
    "id": "Xm1OvmTKLOpD"
   },
   "source": [
    "### LeakyReLU"
   ]
  },
  {
   "cell_type": "code",
   "execution_count": 7,
   "id": "05495910",
   "metadata": {
    "execution": {
     "iopub.execute_input": "2021-10-10T01:38:51.093592Z",
     "iopub.status.busy": "2021-10-10T01:38:51.092825Z",
     "iopub.status.idle": "2021-10-10T01:38:51.095060Z",
     "shell.execute_reply": "2021-10-10T01:38:51.094664Z"
    },
    "id": "WPfFeM26LOpD"
   },
   "outputs": [],
   "source": [
    "def leaky_relu(z, alpha=0.01):\n",
    "    return np.maximum(alpha*z, z)"
   ]
  },
  {
   "cell_type": "code",
   "execution_count": 8,
   "id": "51324951",
   "metadata": {
    "colab": {
     "base_uri": "https://localhost:8080/",
     "height": 315
    },
    "execution": {
     "iopub.execute_input": "2021-10-10T01:38:51.115275Z",
     "iopub.status.busy": "2021-10-10T01:38:51.113109Z",
     "iopub.status.idle": "2021-10-10T01:38:51.472111Z",
     "shell.execute_reply": "2021-10-10T01:38:51.472494Z"
    },
    "id": "mmZMEcRNLOpD",
    "outputId": "cf247de8-97dd-4112-957b-da2410a244bb"
   },
   "outputs": [
    {
     "name": "stdout",
     "output_type": "stream",
     "text": [
      "그림 저장: leaky_relu_plot\n"
     ]
    },
    {
     "data": {
      "image/png": "[encoded data removed]",
      "text/plain": [
       "<Figure size 432x288 with 1 Axes>"
      ]
     },
     "metadata": {
      "needs_background": "light"
     },
     "output_type": "display_data"
    }
   ],
   "source": [
    "plt.plot(z, leaky_relu(z, 0.05), \"b-\", linewidth=2)\n",
    "plt.plot([-5, 5], [0, 0], 'k-')\n",
    "plt.plot([0, 0], [-0.5, 4.2], 'k-')\n",
    "plt.grid(True)\n",
    "props = dict(facecolor='black', shrink=0.1)\n",
    "plt.annotate('Leak', xytext=(-3.5, 0.5), xy=(-5, -0.2), arrowprops=props, fontsize=14, ha=\"center\")\n",
    "plt.title(\"Leaky ReLU activation function\", fontsize=14)\n",
    "plt.axis([-5, 5, -0.5, 4.2])\n",
    "\n",
    "save_fig(\"leaky_relu_plot\")\n",
    "plt.show()"
   ]
  },
  {
   "cell_type": "markdown",
   "id": "118a7d2a",
   "metadata": {},
   "source": [
    "LeakyReLU 활성화 함수의 plot 이다. \n",
    "- 기울기가 활성화 함수를 죽지 않게 만들어주는 역할을 한다."
   ]
  },
  {
   "cell_type": "code",
   "execution_count": 9,
   "id": "e9096e34",
   "metadata": {
    "colab": {
     "base_uri": "https://localhost:8080/"
    },
    "execution": {
     "iopub.execute_input": "2021-10-10T01:38:51.477786Z",
     "iopub.status.busy": "2021-10-10T01:38:51.477118Z",
     "iopub.status.idle": "2021-10-10T01:38:51.479835Z",
     "shell.execute_reply": "2021-10-10T01:38:51.480201Z"
    },
    "id": "c34zBGD7LOpD",
    "outputId": "9643bc1e-80f4-4e41-d9ef-9e287d3aa839"
   },
   "outputs": [
    {
     "data": {
      "text/plain": [
       "['deserialize',\n",
       " 'elu',\n",
       " 'exponential',\n",
       " 'gelu',\n",
       " 'get',\n",
       " 'hard_sigmoid',\n",
       " 'linear',\n",
       " 'relu',\n",
       " 'selu',\n",
       " 'serialize',\n",
       " 'sigmoid',\n",
       " 'softmax',\n",
       " 'softplus',\n",
       " 'softsign',\n",
       " 'swish',\n",
       " 'tanh']"
      ]
     },
     "execution_count": 9,
     "metadata": {},
     "output_type": "execute_result"
    }
   ],
   "source": [
    "[m for m in dir(keras.activations) if not m.startswith(\"_\")]"
   ]
  },
  {
   "cell_type": "code",
   "execution_count": 10,
   "id": "53b492c3",
   "metadata": {
    "colab": {
     "base_uri": "https://localhost:8080/"
    },
    "execution": {
     "iopub.execute_input": "2021-10-10T01:38:51.484467Z",
     "iopub.status.busy": "2021-10-10T01:38:51.483860Z",
     "iopub.status.idle": "2021-10-10T01:38:51.487056Z",
     "shell.execute_reply": "2021-10-10T01:38:51.486549Z"
    },
    "id": "eD78rel6LOpD",
    "outputId": "fe4f2def-dab3-4ce7-e8a9-4c291652ad49"
   },
   "outputs": [
    {
     "data": {
      "text/plain": [
       "['LeakyReLU', 'PReLU', 'ReLU', 'ThresholdedReLU']"
      ]
     },
     "execution_count": 10,
     "metadata": {},
     "output_type": "execute_result"
    }
   ],
   "source": [
    "[m for m in dir(keras.layers) if \"relu\" in m.lower()]"
   ]
  },
  {
   "cell_type": "markdown",
   "id": "d0423ff4",
   "metadata": {
    "id": "zT5BPUCELOpE"
   },
   "source": [
    "LeakyReLU를 사용해 패션 MNIST에서 신경망을 훈련"
   ]
  },
  {
   "cell_type": "code",
   "execution_count": 11,
   "id": "e8d26b2f",
   "metadata": {
    "colab": {
     "base_uri": "https://localhost:8080/"
    },
    "execution": {
     "iopub.execute_input": "2021-10-10T01:38:51.491570Z",
     "iopub.status.busy": "2021-10-10T01:38:51.490837Z",
     "iopub.status.idle": "2021-10-10T01:38:52.134589Z",
     "shell.execute_reply": "2021-10-10T01:38:52.135056Z"
    },
    "id": "aW_rOsgrLOpE",
    "outputId": "084bc2a5-6e0f-43f6-d802-1923722147b2"
   },
   "outputs": [],
   "source": [
    "(X_train_full, y_train_full), (X_test, y_test) = keras.datasets.fashion_mnist.load_data()\n",
    "X_train_full = X_train_full / 255.0\n",
    "X_test = X_test / 255.0\n",
    "X_valid, X_train = X_train_full[:5000], X_train_full[5000:]\n",
    "y_valid, y_train = y_train_full[:5000], y_train_full[5000:]"
   ]
  },
  {
   "cell_type": "code",
   "execution_count": 12,
   "id": "544a464a",
   "metadata": {
    "execution": {
     "iopub.execute_input": "2021-10-10T01:38:52.138875Z",
     "iopub.status.busy": "2021-10-10T01:38:52.137680Z",
     "iopub.status.idle": "2021-10-10T01:38:52.183038Z",
     "shell.execute_reply": "2021-10-10T01:38:52.183455Z"
    },
    "id": "zvSaZ4qGLOpE"
   },
   "outputs": [],
   "source": [
    "tf.random.set_seed(42)\n",
    "np.random.seed(42)\n",
    "\n",
    "model = keras.models.Sequential([\n",
    "    keras.layers.Flatten(input_shape=[28, 28]),\n",
    "    keras.layers.Dense(300, kernel_initializer=\"he_normal\"),\n",
    "    keras.layers.LeakyReLU(),\n",
    "    keras.layers.Dense(100, kernel_initializer=\"he_normal\"),\n",
    "    keras.layers.LeakyReLU(),\n",
    "    keras.layers.Dense(10, activation=\"softmax\")\n",
    "])"
   ]
  },
  {
   "cell_type": "markdown",
   "id": "e3d86d7d",
   "metadata": {},
   "source": [
    "은닉층 사이 LeakyReLU 활성화 함수를 넣어준 모델"
   ]
  },
  {
   "cell_type": "code",
   "execution_count": 13,
   "id": "ab3a5e0e",
   "metadata": {
    "colab": {
     "base_uri": "https://localhost:8080/"
    },
    "execution": {
     "iopub.execute_input": "2021-10-10T01:38:52.188151Z",
     "iopub.status.busy": "2021-10-10T01:38:52.187685Z",
     "iopub.status.idle": "2021-10-10T01:38:52.196173Z",
     "shell.execute_reply": "2021-10-10T01:38:52.196553Z"
    },
    "id": "8iTzAFZ5LOpE",
    "outputId": "c12c6c73-2dc4-4d2e-d55c-9757687bdb0f"
   },
   "outputs": [],
   "source": [
    "model.compile(loss=\"sparse_categorical_crossentropy\",\n",
    "              optimizer=keras.optimizers.SGD(learning_rate=1e-3),\n",
    "              metrics=[\"accuracy\"])"
   ]
  },
  {
   "cell_type": "code",
   "execution_count": 14,
   "id": "d53fe85f",
   "metadata": {
    "colab": {
     "base_uri": "https://localhost:8080/"
    },
    "execution": {
     "iopub.execute_input": "2021-10-10T01:38:52.199552Z",
     "iopub.status.busy": "2021-10-10T01:38:52.199069Z",
     "iopub.status.idle": "2021-10-10T01:39:25.601210Z",
     "shell.execute_reply": "2021-10-10T01:39:25.601692Z"
    },
    "id": "JqVTPhfHLOpE",
    "outputId": "01533869-0d27-4f3d-d948-5125abed292b",
    "scrolled": true
   },
   "outputs": [
    {
     "name": "stdout",
     "output_type": "stream",
     "text": [
      "Epoch 1/10\n",
      "1719/1719 [==============================] - 11s 5ms/step - loss: 1.2909 - accuracy: 0.6034 - val_loss: 0.8844 - val_accuracy: 0.7238\n",
      "Epoch 2/10\n",
      "1719/1719 [==============================] - 9s 5ms/step - loss: 0.7989 - accuracy: 0.7412 - val_loss: 0.7093 - val_accuracy: 0.7702\n",
      "Epoch 3/10\n",
      "1719/1719 [==============================] - 8s 5ms/step - loss: 0.6823 - accuracy: 0.7750 - val_loss: 0.6392 - val_accuracy: 0.7908\n",
      "Epoch 4/10\n",
      "1719/1719 [==============================] - 8s 5ms/step - loss: 0.6209 - accuracy: 0.7948 - val_loss: 0.5848 - val_accuracy: 0.8098\n",
      "Epoch 5/10\n",
      "1719/1719 [==============================] - 9s 5ms/step - loss: 0.5816 - accuracy: 0.8064 - val_loss: 0.5528 - val_accuracy: 0.8204\n",
      "Epoch 6/10\n",
      "1719/1719 [==============================] - 9s 5ms/step - loss: 0.5535 - accuracy: 0.8142 - val_loss: 0.5299 - val_accuracy: 0.8284\n",
      "Epoch 7/10\n",
      "1719/1719 [==============================] - 9s 5ms/step - loss: 0.5323 - accuracy: 0.8204 - val_loss: 0.5110 - val_accuracy: 0.8368\n",
      "Epoch 8/10\n",
      "1719/1719 [==============================] - 9s 5ms/step - loss: 0.5161 - accuracy: 0.8251 - val_loss: 0.5037 - val_accuracy: 0.8332\n",
      "Epoch 9/10\n",
      "1719/1719 [==============================] - 9s 5ms/step - loss: 0.5031 - accuracy: 0.8280 - val_loss: 0.4864 - val_accuracy: 0.8394\n",
      "Epoch 10/10\n",
      "1719/1719 [==============================] - 9s 5ms/step - loss: 0.4918 - accuracy: 0.8326 - val_loss: 0.4783 - val_accuracy: 0.8414\n"
     ]
    }
   ],
   "source": [
    "history = model.fit(X_train, y_train, epochs=10,\n",
    "                    validation_data=(X_valid, y_valid))"
   ]
  },
  {
   "cell_type": "markdown",
   "id": "aac165c0",
   "metadata": {
    "id": "O4AS1dmTLOpE"
   },
   "source": [
    "## PReLU"
   ]
  },
  {
   "cell_type": "code",
   "execution_count": 15,
   "id": "be0b9842",
   "metadata": {
    "execution": {
     "iopub.execute_input": "2021-10-10T01:39:25.612504Z",
     "iopub.status.busy": "2021-10-10T01:39:25.609687Z",
     "iopub.status.idle": "2021-10-10T01:39:25.647517Z",
     "shell.execute_reply": "2021-10-10T01:39:25.647024Z"
    },
    "id": "eLqcJVxfLOpF"
   },
   "outputs": [],
   "source": [
    "tf.random.set_seed(42)\n",
    "np.random.seed(42)\n",
    "\n",
    "model = keras.models.Sequential([\n",
    "    keras.layers.Flatten(input_shape=[28, 28]),\n",
    "    keras.layers.Dense(300, kernel_initializer=\"he_normal\"),\n",
    "    keras.layers.PReLU(),\n",
    "    keras.layers.Dense(100, kernel_initializer=\"he_normal\"),\n",
    "    keras.layers.PReLU(),\n",
    "    keras.layers.Dense(10, activation=\"softmax\")\n",
    "])"
   ]
  },
  {
   "cell_type": "markdown",
   "id": "849a3334",
   "metadata": {},
   "source": [
    "LeakyReLU를 이전에 활성화 함수로 사용했던 것을 PReLU로 대체해서 사용"
   ]
  },
  {
   "cell_type": "code",
   "execution_count": 16,
   "id": "b29dc5b4",
   "metadata": {
    "colab": {
     "base_uri": "https://localhost:8080/"
    },
    "execution": {
     "iopub.execute_input": "2021-10-10T01:39:25.653376Z",
     "iopub.status.busy": "2021-10-10T01:39:25.652888Z",
     "iopub.status.idle": "2021-10-10T01:39:25.657907Z",
     "shell.execute_reply": "2021-10-10T01:39:25.658260Z"
    },
    "id": "BMKER0vWLOpF",
    "outputId": "583a79aa-d7bd-4a39-fd9d-93cd688e382e"
   },
   "outputs": [],
   "source": [
    "model.compile(loss=\"sparse_categorical_crossentropy\",\n",
    "              optimizer=keras.optimizers.SGD(learning_rate=1e-3),\n",
    "              metrics=[\"accuracy\"])"
   ]
  },
  {
   "cell_type": "code",
   "execution_count": 17,
   "id": "f5605421",
   "metadata": {
    "colab": {
     "base_uri": "https://localhost:8080/"
    },
    "execution": {
     "iopub.execute_input": "2021-10-10T01:39:25.662822Z",
     "iopub.status.busy": "2021-10-10T01:39:25.661910Z",
     "iopub.status.idle": "2021-10-10T01:40:02.780206Z",
     "shell.execute_reply": "2021-10-10T01:40:02.780614Z"
    },
    "id": "eb_t9z8gLOpF",
    "outputId": "9e341bc4-fe02-40ea-e0a3-e10d41822b23"
   },
   "outputs": [
    {
     "name": "stdout",
     "output_type": "stream",
     "text": [
      "Epoch 1/10\n",
      "1719/1719 [==============================] - 11s 6ms/step - loss: 1.3336 - accuracy: 0.5937 - val_loss: 0.9069 - val_accuracy: 0.6980\n",
      "Epoch 2/10\n",
      "1719/1719 [==============================] - 9s 5ms/step - loss: 0.8206 - accuracy: 0.7271 - val_loss: 0.7295 - val_accuracy: 0.7608\n",
      "Epoch 3/10\n",
      "1719/1719 [==============================] - 8s 5ms/step - loss: 0.7026 - accuracy: 0.7685 - val_loss: 0.6579 - val_accuracy: 0.7854\n",
      "Epoch 4/10\n",
      "1719/1719 [==============================] - 10s 6ms/step - loss: 0.6384 - accuracy: 0.7912 - val_loss: 0.5996 - val_accuracy: 0.8066\n",
      "Epoch 5/10\n",
      "1719/1719 [==============================] - 10s 6ms/step - loss: 0.5957 - accuracy: 0.8042 - val_loss: 0.5642 - val_accuracy: 0.8192\n",
      "Epoch 6/10\n",
      "1719/1719 [==============================] - 10s 6ms/step - loss: 0.5644 - accuracy: 0.8131 - val_loss: 0.5387 - val_accuracy: 0.8240\n",
      "Epoch 7/10\n",
      "1719/1719 [==============================] - 10s 6ms/step - loss: 0.5406 - accuracy: 0.8197 - val_loss: 0.5167 - val_accuracy: 0.8330\n",
      "Epoch 8/10\n",
      "1719/1719 [==============================] - 10s 6ms/step - loss: 0.5219 - accuracy: 0.8248 - val_loss: 0.5085 - val_accuracy: 0.8342\n",
      "Epoch 9/10\n",
      "1719/1719 [==============================] - 10s 6ms/step - loss: 0.5069 - accuracy: 0.8272 - val_loss: 0.4875 - val_accuracy: 0.8396\n",
      "Epoch 10/10\n",
      "1719/1719 [==============================] - 10s 6ms/step - loss: 0.4939 - accuracy: 0.8317 - val_loss: 0.4789 - val_accuracy: 0.8418\n"
     ]
    }
   ],
   "source": [
    "history = model.fit(X_train, y_train, epochs=10,\n",
    "                    validation_data=(X_valid, y_valid))"
   ]
  },
  {
   "cell_type": "markdown",
   "id": "12ed519a",
   "metadata": {
    "id": "Vkr7NgOmLOpF"
   },
   "source": [
    "### ELU"
   ]
  },
  {
   "cell_type": "code",
   "execution_count": 18,
   "id": "c4b29c37",
   "metadata": {
    "execution": {
     "iopub.execute_input": "2021-10-10T01:40:02.783470Z",
     "iopub.status.busy": "2021-10-10T01:40:02.782940Z",
     "iopub.status.idle": "2021-10-10T01:40:02.786174Z",
     "shell.execute_reply": "2021-10-10T01:40:02.786530Z"
    },
    "id": "6znM2r0RLOpF"
   },
   "outputs": [],
   "source": [
    "def elu(z, alpha=1):\n",
    "    return np.where(z < 0, alpha * (np.exp(z) - 1), z)"
   ]
  },
  {
   "cell_type": "code",
   "execution_count": 19,
   "id": "ba9352d6",
   "metadata": {
    "colab": {
     "base_uri": "https://localhost:8080/",
     "height": 315
    },
    "execution": {
     "iopub.execute_input": "2021-10-10T01:40:02.789002Z",
     "iopub.status.busy": "2021-10-10T01:40:02.788539Z",
     "iopub.status.idle": "2021-10-10T01:40:03.203810Z",
     "shell.execute_reply": "2021-10-10T01:40:03.204222Z"
    },
    "id": "WpZo3sG7LOpF",
    "outputId": "5ab0f776-575a-4b00-809e-1e4eba3f8140"
   },
   "outputs": [
    {
     "name": "stdout",
     "output_type": "stream",
     "text": [
      "그림 저장: elu_plot\n"
     ]
    },
    {
     "data": {
      "image/png": "[encoded data removed]",
      "text/plain": [
       "<Figure size 432x288 with 1 Axes>"
      ]
     },
     "metadata": {
      "needs_background": "light"
     },
     "output_type": "display_data"
    }
   ],
   "source": [
    "plt.plot(z, elu(z), \"b-\", linewidth=2)\n",
    "plt.plot([-5, 5], [0, 0], 'k-')\n",
    "plt.plot([-5, 5], [-1, -1], 'k--')\n",
    "plt.plot([0, 0], [-2.2, 3.2], 'k-')\n",
    "plt.grid(True)\n",
    "plt.title(r\"ELU activation function ($\\alpha=1$)\", fontsize=14)\n",
    "plt.axis([-5, 5, -2.2, 3.2])\n",
    "\n",
    "save_fig(\"elu_plot\")\n",
    "plt.show()"
   ]
  },
  {
   "cell_type": "markdown",
   "id": "4d2deb70",
   "metadata": {
    "id": "CFEUCydjLOpF"
   },
   "source": [
    "텐서플로에서 쉽게 ELU를 적용할 수 있습니다. 층을 만들 때 활성화 함수로 지정하면 됩니다:"
   ]
  },
  {
   "cell_type": "code",
   "execution_count": 20,
   "id": "f8fa1983",
   "metadata": {
    "colab": {
     "base_uri": "https://localhost:8080/"
    },
    "execution": {
     "iopub.execute_input": "2021-10-10T01:40:03.206818Z",
     "iopub.status.busy": "2021-10-10T01:40:03.206357Z",
     "iopub.status.idle": "2021-10-10T01:40:03.210866Z",
     "shell.execute_reply": "2021-10-10T01:40:03.211283Z"
    },
    "id": "zFuLenUVLOpG",
    "outputId": "816e5af3-9913-4216-f689-540e580314ce"
   },
   "outputs": [
    {
     "data": {
      "text/plain": [
       "<keras.layers.core.dense.Dense at 0x2c1ebf394f0>"
      ]
     },
     "execution_count": 20,
     "metadata": {},
     "output_type": "execute_result"
    }
   ],
   "source": [
    "keras.layers.Dense(10, activation=\"elu\")"
   ]
  },
  {
   "cell_type": "markdown",
   "id": "a31ab87d",
   "metadata": {
    "id": "mkd4JNYELOpG"
   },
   "source": [
    "### SELU"
   ]
  },
  {
   "cell_type": "markdown",
   "id": "02124728",
   "metadata": {
    "id": "mzoAhWWhLOpG"
   },
   "source": [
    "- 훈련하는 동안 완전 연결 층만 쌓아서 신경망을 만들고 SELU 활성화 함수와 LeCun 초기화를 사용한다면 자기 정규화됩니다. \n",
    "- 각 층의 출력이 평균과 표준편차를 보존하는 경향 존재\n",
    "    - 이는 그레이디언트 소실과 폭주 문제를 막아준다.\n",
    "    - 그 결과로 SELU 활성화 함수는 이런 종류의 네트워크(특히 아주 깊은 네트워크)에서 다른 활성화 함수보다 뛰어난 성능을 종종 낸다"
   ]
  },
  {
   "cell_type": "code",
   "execution_count": 21,
   "id": "b80ad1b3",
   "metadata": {
    "execution": {
     "iopub.execute_input": "2021-10-10T01:40:03.213673Z",
     "iopub.status.busy": "2021-10-10T01:40:03.213180Z",
     "iopub.status.idle": "2021-10-10T01:40:03.217737Z",
     "shell.execute_reply": "2021-10-10T01:40:03.218145Z"
    },
    "id": "NYXUfjHCLOpG"
   },
   "outputs": [],
   "source": [
    "from scipy.special import erfc\n",
    "\n",
    "# alpha와 scale은 평균 0과 표준 편차 1로 자기 정규화합니다\n",
    "alpha_0_1 = -np.sqrt(2 / np.pi) / (erfc(1/np.sqrt(2)) * np.exp(1/2) - 1)\n",
    "scale_0_1 = (1 - erfc(1 / np.sqrt(2)) * np.sqrt(np.e)) * np.sqrt(2 * np.pi) * (2 * erfc(np.sqrt(2))*np.e**2 + np.pi*erfc(1/np.sqrt(2))**2*np.e - 2*(2+np.pi)*erfc(1/np.sqrt(2))*np.sqrt(np.e)+np.pi+2)**(-1/2)"
   ]
  },
  {
   "cell_type": "code",
   "execution_count": 22,
   "id": "03790259",
   "metadata": {
    "execution": {
     "iopub.execute_input": "2021-10-10T01:40:03.221270Z",
     "iopub.status.busy": "2021-10-10T01:40:03.220422Z",
     "iopub.status.idle": "2021-10-10T01:40:03.223128Z",
     "shell.execute_reply": "2021-10-10T01:40:03.223501Z"
    },
    "id": "fyup_FSkLOpG"
   },
   "outputs": [],
   "source": [
    "def selu(z, scale=scale_0_1, alpha=alpha_0_1):\n",
    "    return scale * elu(z, alpha)"
   ]
  },
  {
   "cell_type": "code",
   "execution_count": 23,
   "id": "fd534656",
   "metadata": {
    "colab": {
     "base_uri": "https://localhost:8080/",
     "height": 315
    },
    "execution": {
     "iopub.execute_input": "2021-10-10T01:40:03.241211Z",
     "iopub.status.busy": "2021-10-10T01:40:03.240655Z",
     "iopub.status.idle": "2021-10-10T01:40:03.533608Z",
     "shell.execute_reply": "2021-10-10T01:40:03.533982Z"
    },
    "id": "cNpfVGctLOpH",
    "outputId": "bea53b1c-cfb9-4675-fba9-d4d6cfa3acca"
   },
   "outputs": [
    {
     "name": "stdout",
     "output_type": "stream",
     "text": [
      "그림 저장: selu_plot\n"
     ]
    },
    {
     "data": {
      "image/png": "[encoded data removed]",
      "text/plain": [
       "<Figure size 432x288 with 1 Axes>"
      ]
     },
     "metadata": {
      "needs_background": "light"
     },
     "output_type": "display_data"
    }
   ],
   "source": [
    "plt.plot(z, selu(z), \"b-\", linewidth=2)\n",
    "plt.plot([-5, 5], [0, 0], 'k-')\n",
    "plt.plot([-5, 5], [-1.758, -1.758], 'k--')\n",
    "plt.plot([0, 0], [-2.2, 3.2], 'k-')\n",
    "plt.grid(True)\n",
    "plt.title(\"SELU activation function\", fontsize=14)\n",
    "plt.axis([-5, 5, -2.2, 3.2])\n",
    "\n",
    "save_fig(\"selu_plot\")\n",
    "plt.show()"
   ]
  },
  {
   "cell_type": "markdown",
   "id": "f2175cbc",
   "metadata": {
    "id": "ZFaak_jnLOpH"
   },
   "source": [
    "- 기본적으로 SELU 하이퍼파라미터(`scale`과 `alpha`)는 각 뉴런의 평균 출력이 0에 가깝고 표준 편차는 1에 가깝도록 조정\n",
    "- 이 활성화 함수를 사용하면 1,000개의 층이 있는 심층 신경망도 모든 층에 걸쳐 거의 평균이 0이고 표준 편차를 1로 유지\n",
    "=> 이를 통해 그레이디언트 폭주와 소실 문제를 피할 수 있음"
   ]
  },
  {
   "cell_type": "code",
   "execution_count": 24,
   "id": "141c7123",
   "metadata": {
    "colab": {
     "base_uri": "https://localhost:8080/"
    },
    "execution": {
     "iopub.execute_input": "2021-10-10T01:40:03.539386Z",
     "iopub.status.busy": "2021-10-10T01:40:03.538932Z",
     "iopub.status.idle": "2021-10-10T01:40:07.250188Z",
     "shell.execute_reply": "2021-10-10T01:40:07.251429Z"
    },
    "id": "qWawJStoLOpH",
    "outputId": "b3bc870c-db53-4449-8391-3203a5cc2380"
   },
   "outputs": [
    {
     "name": "stdout",
     "output_type": "stream",
     "text": [
      "Layer 0: mean -0.00, std deviation 1.00\n",
      "Layer 100: mean 0.02, std deviation 0.96\n",
      "Layer 200: mean 0.01, std deviation 0.90\n",
      "Layer 300: mean -0.02, std deviation 0.92\n",
      "Layer 400: mean 0.05, std deviation 0.89\n",
      "Layer 500: mean 0.01, std deviation 0.93\n",
      "Layer 600: mean 0.02, std deviation 0.92\n",
      "Layer 700: mean -0.02, std deviation 0.90\n",
      "Layer 800: mean 0.05, std deviation 0.83\n",
      "Layer 900: mean 0.02, std deviation 1.00\n"
     ]
    }
   ],
   "source": [
    "np.random.seed(42)\n",
    "Z = np.random.normal(size=(500, 100)) # 표준화된 입력\n",
    "for layer in range(1000):\n",
    "    W = np.random.normal(size=(100, 100), scale=np.sqrt(1 / 100)) # LeCun 초기화\n",
    "    Z = selu(np.dot(Z, W))\n",
    "    means = np.mean(Z, axis=0).mean()\n",
    "    stds = np.std(Z, axis=0).mean()\n",
    "    if layer % 100 == 0:\n",
    "        print(\"Layer {}: mean {:.2f}, std deviation {:.2f}\".format(layer, means, stds))"
   ]
  },
  {
   "cell_type": "markdown",
   "id": "5011c95e",
   "metadata": {
    "id": "j5dAdmg4LOpI"
   },
   "source": [
    "쉽게 SELU를 사용할 수 있습니다:"
   ]
  },
  {
   "cell_type": "code",
   "execution_count": 25,
   "id": "3dadf4d2",
   "metadata": {
    "colab": {
     "base_uri": "https://localhost:8080/"
    },
    "execution": {
     "iopub.execute_input": "2021-10-10T01:40:07.257295Z",
     "iopub.status.busy": "2021-10-10T01:40:07.255545Z",
     "iopub.status.idle": "2021-10-10T01:40:07.269371Z",
     "shell.execute_reply": "2021-10-10T01:40:07.270536Z"
    },
    "id": "qFGwIMj2LOpI",
    "outputId": "aa770f5e-3018-4182-c6f0-54a1b5733557"
   },
   "outputs": [
    {
     "data": {
      "text/plain": [
       "<keras.layers.core.dense.Dense at 0x2c1ec146220>"
      ]
     },
     "execution_count": 25,
     "metadata": {},
     "output_type": "execute_result"
    }
   ],
   "source": [
    "keras.layers.Dense(10, activation=\"selu\",\n",
    "                   kernel_initializer=\"lecun_normal\")"
   ]
  },
  {
   "cell_type": "markdown",
   "id": "4c33c252",
   "metadata": {
    "id": "1D-HvWzgLOpI"
   },
   "source": [
    "100개의 은닉층과 SELU 활성화 함수를 사용한 패션 MNIST를 위한 신경망"
   ]
  },
  {
   "cell_type": "code",
   "execution_count": 26,
   "id": "23635697",
   "metadata": {
    "execution": {
     "iopub.execute_input": "2021-10-10T01:40:07.275974Z",
     "iopub.status.busy": "2021-10-10T01:40:07.274312Z",
     "iopub.status.idle": "2021-10-10T01:40:07.283888Z",
     "shell.execute_reply": "2021-10-10T01:40:07.285055Z"
    },
    "id": "YS-krPA1LOpI"
   },
   "outputs": [],
   "source": [
    "np.random.seed(42)\n",
    "tf.random.set_seed(42)"
   ]
  },
  {
   "cell_type": "code",
   "execution_count": 27,
   "id": "d663b5a8",
   "metadata": {
    "execution": {
     "iopub.execute_input": "2021-10-10T01:40:07.291458Z",
     "iopub.status.busy": "2021-10-10T01:40:07.289894Z",
     "iopub.status.idle": "2021-10-10T01:40:08.085708Z",
     "shell.execute_reply": "2021-10-10T01:40:08.086330Z"
    },
    "id": "fXLkoFMELOpI"
   },
   "outputs": [],
   "source": [
    "model = keras.models.Sequential()\n",
    "model.add(keras.layers.Flatten(input_shape=[28, 28]))\n",
    "model.add(keras.layers.Dense(300, activation=\"selu\",\n",
    "                             kernel_initializer=\"lecun_normal\"))\n",
    "for layer in range(99):\n",
    "    model.add(keras.layers.Dense(100, activation=\"selu\",\n",
    "                                 kernel_initializer=\"lecun_normal\"))\n",
    "model.add(keras.layers.Dense(10, activation=\"softmax\"))"
   ]
  },
  {
   "cell_type": "code",
   "execution_count": 28,
   "id": "6efec7df",
   "metadata": {
    "colab": {
     "base_uri": "https://localhost:8080/"
    },
    "execution": {
     "iopub.execute_input": "2021-10-10T01:40:08.089221Z",
     "iopub.status.busy": "2021-10-10T01:40:08.088664Z",
     "iopub.status.idle": "2021-10-10T01:40:08.095267Z",
     "shell.execute_reply": "2021-10-10T01:40:08.095829Z"
    },
    "id": "hxrqewr6LOpI",
    "outputId": "d0898fd1-2ded-45a1-f566-835f8697b0d1"
   },
   "outputs": [],
   "source": [
    "model.compile(loss=\"sparse_categorical_crossentropy\",\n",
    "              optimizer=keras.optimizers.SGD(learning_rate=1e-3),\n",
    "              metrics=[\"accuracy\"])"
   ]
  },
  {
   "cell_type": "markdown",
   "id": "4c422a54",
   "metadata": {
    "id": "s2oGm-VSLOpJ"
   },
   "source": [
    "이제 훈련해 보죠. 입력을 평균 0과 표준 편차 1로 바꾸어야 한다는 것을 잊지 마세요:"
   ]
  },
  {
   "cell_type": "code",
   "execution_count": 29,
   "id": "7b2c3016",
   "metadata": {
    "execution": {
     "iopub.execute_input": "2021-10-10T01:40:08.098323Z",
     "iopub.status.busy": "2021-10-10T01:40:08.097870Z",
     "iopub.status.idle": "2021-10-10T01:40:08.654523Z",
     "shell.execute_reply": "2021-10-10T01:40:08.654961Z"
    },
    "id": "FBS7ewjeLOpJ"
   },
   "outputs": [],
   "source": [
    "pixel_means = X_train.mean(axis=0, keepdims=True)\n",
    "pixel_stds = X_train.std(axis=0, keepdims=True)\n",
    "X_train_scaled = (X_train - pixel_means) / pixel_stds\n",
    "X_valid_scaled = (X_valid - pixel_means) / pixel_stds\n",
    "X_test_scaled = (X_test - pixel_means) / pixel_stds"
   ]
  },
  {
   "cell_type": "code",
   "execution_count": 30,
   "id": "2bbf68a5",
   "metadata": {
    "colab": {
     "base_uri": "https://localhost:8080/"
    },
    "execution": {
     "iopub.execute_input": "2021-10-10T01:40:08.657500Z",
     "iopub.status.busy": "2021-10-10T01:40:08.657029Z",
     "iopub.status.idle": "2021-10-10T01:42:09.522758Z",
     "shell.execute_reply": "2021-10-10T01:42:09.521960Z"
    },
    "id": "DVONLiENLOpJ",
    "outputId": "a28d9107-07a6-49cf-c838-e0465b35b9f4"
   },
   "outputs": [
    {
     "name": "stdout",
     "output_type": "stream",
     "text": [
      "Epoch 1/5\n",
      "1719/1719 [==============================] - 69s 34ms/step - loss: 1.3855 - accuracy: 0.4594 - val_loss: 0.8634 - val_accuracy: 0.6690\n",
      "Epoch 2/5\n",
      "1719/1719 [==============================] - 56s 32ms/step - loss: 0.9131 - accuracy: 0.6453 - val_loss: 0.7527 - val_accuracy: 0.7016\n",
      "Epoch 3/5\n",
      "1719/1719 [==============================] - 54s 32ms/step - loss: 0.7086 - accuracy: 0.7213 - val_loss: 0.7160 - val_accuracy: 0.7372\n",
      "Epoch 4/5\n",
      "1719/1719 [==============================] - 53s 31ms/step - loss: 0.6023 - accuracy: 0.7805 - val_loss: 0.6451 - val_accuracy: 0.7690\n",
      "Epoch 5/5\n",
      "1719/1719 [==============================] - 54s 31ms/step - loss: 0.5526 - accuracy: 0.8071 - val_loss: 0.5466 - val_accuracy: 0.8186\n"
     ]
    }
   ],
   "source": [
    "history = model.fit(X_train_scaled, y_train, epochs=5,\n",
    "                    validation_data=(X_valid_scaled, y_valid))"
   ]
  },
  {
   "cell_type": "markdown",
   "id": "bb46e1bd",
   "metadata": {
    "id": "5k-Ud-OSLOpJ"
   },
   "source": [
    "대신 ReLU 활성화 함수를 사용하면 어떤 일이 일어나는지 확인해 보죠:"
   ]
  },
  {
   "cell_type": "code",
   "execution_count": 31,
   "id": "c837991b",
   "metadata": {
    "execution": {
     "iopub.execute_input": "2021-10-10T01:42:09.541494Z",
     "iopub.status.busy": "2021-10-10T01:42:09.540952Z",
     "iopub.status.idle": "2021-10-10T01:42:09.543422Z",
     "shell.execute_reply": "2021-10-10T01:42:09.543033Z"
    },
    "id": "EFFeHw5pLOpK"
   },
   "outputs": [],
   "source": [
    "np.random.seed(42)\n",
    "tf.random.set_seed(42)"
   ]
  },
  {
   "cell_type": "code",
   "execution_count": 32,
   "id": "bb550fbb",
   "metadata": {
    "execution": {
     "iopub.execute_input": "2021-10-10T01:42:09.549347Z",
     "iopub.status.busy": "2021-10-10T01:42:09.548879Z",
     "iopub.status.idle": "2021-10-10T01:42:10.308513Z",
     "shell.execute_reply": "2021-10-10T01:42:10.308977Z"
    },
    "id": "EIUDPcNJLOpK"
   },
   "outputs": [],
   "source": [
    "model = keras.models.Sequential()\n",
    "model.add(keras.layers.Flatten(input_shape=[28, 28]))\n",
    "model.add(keras.layers.Dense(300, activation=\"relu\", kernel_initializer=\"he_normal\"))\n",
    "for layer in range(99):\n",
    "    model.add(keras.layers.Dense(100, activation=\"relu\", kernel_initializer=\"he_normal\"))\n",
    "model.add(keras.layers.Dense(10, activation=\"softmax\"))"
   ]
  },
  {
   "cell_type": "markdown",
   "id": "a6ca38d8",
   "metadata": {},
   "source": [
    "ReLU 사용"
   ]
  },
  {
   "cell_type": "code",
   "execution_count": 33,
   "id": "0d170009",
   "metadata": {
    "colab": {
     "base_uri": "https://localhost:8080/"
    },
    "execution": {
     "iopub.execute_input": "2021-10-10T01:42:10.314880Z",
     "iopub.status.busy": "2021-10-10T01:42:10.314399Z",
     "iopub.status.idle": "2021-10-10T01:42:10.318079Z",
     "shell.execute_reply": "2021-10-10T01:42:10.318470Z"
    },
    "id": "xZxJ2w38LOpK",
    "outputId": "87a1b639-bce4-40ba-dc9e-8c49ec1acca5"
   },
   "outputs": [],
   "source": [
    "model.compile(loss=\"sparse_categorical_crossentropy\",\n",
    "              optimizer=keras.optimizers.SGD(learning_rate=1e-3),\n",
    "              metrics=[\"accuracy\"])"
   ]
  },
  {
   "cell_type": "code",
   "execution_count": 34,
   "id": "3f2ee0f4",
   "metadata": {
    "colab": {
     "base_uri": "https://localhost:8080/"
    },
    "execution": {
     "iopub.execute_input": "2021-10-10T01:42:10.322386Z",
     "iopub.status.busy": "2021-10-10T01:42:10.321978Z",
     "iopub.status.idle": "2021-10-10T01:43:52.844818Z",
     "shell.execute_reply": "2021-10-10T01:43:52.844361Z"
    },
    "id": "R94X2ls5LOpL",
    "outputId": "7e0f288a-9ff9-4cd5-f38c-4d178a4cfa4d"
   },
   "outputs": [
    {
     "name": "stdout",
     "output_type": "stream",
     "text": [
      "Epoch 1/5\n",
      "1719/1719 [==============================] - 43s 19ms/step - loss: 2.0549 - accuracy: 0.2009 - val_loss: 1.8803 - val_accuracy: 0.3556\n",
      "Epoch 2/5\n",
      "1719/1719 [==============================] - 14s 8ms/step - loss: 1.5634 - accuracy: 0.4004 - val_loss: 1.2184 - val_accuracy: 0.4918\n",
      "Epoch 3/5\n",
      "1719/1719 [==============================] - 16s 10ms/step - loss: 1.1427 - accuracy: 0.5169 - val_loss: 1.0704 - val_accuracy: 0.5478\n",
      "Epoch 4/5\n",
      "1719/1719 [==============================] - 14s 8ms/step - loss: 0.9260 - accuracy: 0.6245 - val_loss: 0.8891 - val_accuracy: 0.6258\n",
      "Epoch 5/5\n",
      "1719/1719 [==============================] - 16s 9ms/step - loss: 0.8468 - accuracy: 0.6734 - val_loss: 1.0624 - val_accuracy: 0.6024\n"
     ]
    }
   ],
   "source": [
    "history = model.fit(X_train_scaled, y_train, epochs=5,\n",
    "                    validation_data=(X_valid_scaled, y_valid))"
   ]
  },
  {
   "cell_type": "markdown",
   "id": "3de938f6",
   "metadata": {
    "id": "pBPfwJ4WLOpL"
   },
   "source": [
    "그레이디언트 폭주나 소실 문제가 발생"
   ]
  },
  {
   "cell_type": "markdown",
   "id": "314ac252",
   "metadata": {
    "id": "PVu2Q063LOpL"
   },
   "source": [
    "# 배치 정규화"
   ]
  },
  {
   "cell_type": "code",
   "execution_count": 35,
   "id": "557af7d8",
   "metadata": {
    "execution": {
     "iopub.execute_input": "2021-10-10T01:43:52.857447Z",
     "iopub.status.busy": "2021-10-10T01:43:52.855778Z",
     "iopub.status.idle": "2021-10-10T01:43:52.908296Z",
     "shell.execute_reply": "2021-10-10T01:43:52.907832Z"
    },
    "id": "RLBH8PjPLOpL"
   },
   "outputs": [],
   "source": [
    "model = keras.models.Sequential([\n",
    "    keras.layers.Flatten(input_shape=[28, 28]),\n",
    "    keras.layers.BatchNormalization(),\n",
    "    keras.layers.Dense(300, activation=\"relu\"),\n",
    "    keras.layers.BatchNormalization(),\n",
    "    keras.layers.Dense(100, activation=\"relu\"),\n",
    "    keras.layers.BatchNormalization(),\n",
    "    keras.layers.Dense(10, activation=\"softmax\")\n",
    "])"
   ]
  },
  {
   "cell_type": "markdown",
   "id": "558d932a",
   "metadata": {},
   "source": [
    "배치 정규화 구현"
   ]
  },
  {
   "cell_type": "code",
   "execution_count": 36,
   "id": "af786544",
   "metadata": {
    "colab": {
     "base_uri": "https://localhost:8080/"
    },
    "execution": {
     "iopub.execute_input": "2021-10-10T01:43:52.913369Z",
     "iopub.status.busy": "2021-10-10T01:43:52.912925Z",
     "iopub.status.idle": "2021-10-10T01:43:52.916358Z",
     "shell.execute_reply": "2021-10-10T01:43:52.916724Z"
    },
    "id": "d5L_RucvLOpL",
    "outputId": "d28e199b-c6c7-4151-de3f-88725bce1f70"
   },
   "outputs": [
    {
     "name": "stdout",
     "output_type": "stream",
     "text": [
      "Model: \"sequential_4\"\n",
      "_________________________________________________________________\n",
      " Layer (type)                Output Shape              Param #   \n",
      "=================================================================\n",
      " flatten_4 (Flatten)         (None, 784)               0         \n",
      "                                                                 \n",
      " batch_normalization (BatchN  (None, 784)              3136      \n",
      " ormalization)                                                   \n",
      "                                                                 \n",
      " dense_212 (Dense)           (None, 300)               235500    \n",
      "                                                                 \n",
      " batch_normalization_1 (Batc  (None, 300)              1200      \n",
      " hNormalization)                                                 \n",
      "                                                                 \n",
      " dense_213 (Dense)           (None, 100)               30100     \n",
      "                                                                 \n",
      " batch_normalization_2 (Batc  (None, 100)              400       \n",
      " hNormalization)                                                 \n",
      "                                                                 \n",
      " dense_214 (Dense)           (None, 10)                1010      \n",
      "                                                                 \n",
      "=================================================================\n",
      "Total params: 271,346\n",
      "Trainable params: 268,978\n",
      "Non-trainable params: 2,368\n",
      "_________________________________________________________________\n"
     ]
    }
   ],
   "source": [
    "model.summary()"
   ]
  },
  {
   "cell_type": "code",
   "execution_count": 37,
   "id": "10361733",
   "metadata": {
    "colab": {
     "base_uri": "https://localhost:8080/"
    },
    "execution": {
     "iopub.execute_input": "2021-10-10T01:43:52.921394Z",
     "iopub.status.busy": "2021-10-10T01:43:52.920950Z",
     "iopub.status.idle": "2021-10-10T01:43:52.925346Z",
     "shell.execute_reply": "2021-10-10T01:43:52.925703Z"
    },
    "id": "S4YmgIVtLOpL",
    "outputId": "c97b1a7d-08d1-4563-b708-ed96353f6310",
    "scrolled": true
   },
   "outputs": [
    {
     "data": {
      "text/plain": [
       "[('batch_normalization/gamma:0', True),\n",
       " ('batch_normalization/beta:0', True),\n",
       " ('batch_normalization/moving_mean:0', False),\n",
       " ('batch_normalization/moving_variance:0', False)]"
      ]
     },
     "execution_count": 37,
     "metadata": {},
     "output_type": "execute_result"
    }
   ],
   "source": [
    "bn1 = model.layers[1]\n",
    "[(var.name, var.trainable) for var in bn1.variables]"
   ]
  },
  {
   "cell_type": "code",
   "execution_count": 38,
   "id": "337822eb",
   "metadata": {
    "execution": {
     "iopub.execute_input": "2021-10-10T01:43:52.928794Z",
     "iopub.status.busy": "2021-10-10T01:43:52.928358Z",
     "iopub.status.idle": "2021-10-10T01:43:52.931377Z",
     "shell.execute_reply": "2021-10-10T01:43:52.931028Z"
    },
    "id": "ya2gRrxPLOpM"
   },
   "outputs": [],
   "source": [
    "# updates 속성은 향후 삭제될 예정입니다.\n",
    "# bn1.updates"
   ]
  },
  {
   "cell_type": "code",
   "execution_count": 39,
   "id": "25699140",
   "metadata": {
    "colab": {
     "base_uri": "https://localhost:8080/"
    },
    "execution": {
     "iopub.execute_input": "2021-10-10T01:43:52.937867Z",
     "iopub.status.busy": "2021-10-10T01:43:52.937098Z",
     "iopub.status.idle": "2021-10-10T01:43:52.940350Z",
     "shell.execute_reply": "2021-10-10T01:43:52.940702Z"
    },
    "id": "TqJdxp-vLOpN",
    "outputId": "c173e440-a4dc-4b5e-c6b2-e669a8117e8c"
   },
   "outputs": [],
   "source": [
    "model.compile(loss=\"sparse_categorical_crossentropy\",\n",
    "              optimizer=keras.optimizers.SGD(learning_rate=1e-3),\n",
    "              metrics=[\"accuracy\"])"
   ]
  },
  {
   "cell_type": "code",
   "execution_count": 40,
   "id": "02c22d64",
   "metadata": {
    "colab": {
     "base_uri": "https://localhost:8080/"
    },
    "execution": {
     "iopub.execute_input": "2021-10-10T01:43:52.944268Z",
     "iopub.status.busy": "2021-10-10T01:43:52.943817Z",
     "iopub.status.idle": "2021-10-10T01:44:41.349798Z",
     "shell.execute_reply": "2021-10-10T01:44:41.350233Z"
    },
    "id": "yNutyZRELOpN",
    "outputId": "1bfd7834-1a6d-4ead-80e3-23c2b1cf64d7"
   },
   "outputs": [
    {
     "name": "stdout",
     "output_type": "stream",
     "text": [
      "Epoch 1/10\n",
      "1719/1719 [==============================] - 9s 5ms/step - loss: 0.8372 - accuracy: 0.7229 - val_loss: 0.5567 - val_accuracy: 0.8128\n",
      "Epoch 2/10\n",
      "1719/1719 [==============================] - 6s 3ms/step - loss: 0.5766 - accuracy: 0.7999 - val_loss: 0.4785 - val_accuracy: 0.8388\n",
      "Epoch 3/10\n",
      "1719/1719 [==============================] - 7s 4ms/step - loss: 0.5207 - accuracy: 0.8188 - val_loss: 0.4446 - val_accuracy: 0.8460\n",
      "Epoch 4/10\n",
      "1719/1719 [==============================] - 7s 4ms/step - loss: 0.4830 - accuracy: 0.8315 - val_loss: 0.4223 - val_accuracy: 0.8510\n",
      "Epoch 5/10\n",
      "1719/1719 [==============================] - 7s 4ms/step - loss: 0.4591 - accuracy: 0.8370 - val_loss: 0.4065 - val_accuracy: 0.8556\n",
      "Epoch 6/10\n",
      "1719/1719 [==============================] - 6s 4ms/step - loss: 0.4423 - accuracy: 0.8447 - val_loss: 0.3950 - val_accuracy: 0.8626\n",
      "Epoch 7/10\n",
      "1719/1719 [==============================] - 6s 4ms/step - loss: 0.4268 - accuracy: 0.8496 - val_loss: 0.3850 - val_accuracy: 0.8624\n",
      "Epoch 8/10\n",
      "1719/1719 [==============================] - 7s 4ms/step - loss: 0.4159 - accuracy: 0.8537 - val_loss: 0.3792 - val_accuracy: 0.8640\n",
      "Epoch 9/10\n",
      "1719/1719 [==============================] - 6s 3ms/step - loss: 0.4044 - accuracy: 0.8577 - val_loss: 0.3734 - val_accuracy: 0.8662\n",
      "Epoch 10/10\n",
      "1719/1719 [==============================] - 6s 4ms/step - loss: 0.3932 - accuracy: 0.8611 - val_loss: 0.3668 - val_accuracy: 0.8696\n"
     ]
    }
   ],
   "source": [
    "history = model.fit(X_train, y_train, epochs=10,\n",
    "                    validation_data=(X_valid, y_valid))"
   ]
  },
  {
   "cell_type": "markdown",
   "id": "69a162f2",
   "metadata": {
    "id": "IeYDw1BwLOpN"
   },
   "source": [
    "이따금 활성화 함수전에 BN을 적용해도 잘 동작합니다(여기에는 논란의 여지가 있습니다). 또한 `BatchNormalization` 층 이전의 층은 편향을 위한 항이 필요 없습니다. `BatchNormalization` 층이 이를 무효화하기 때문입니다. 따라서 필요 없는 파라미터이므로 `use_bias=False`를 지정하여 층을 만들 수 있습니다:"
   ]
  },
  {
   "cell_type": "code",
   "execution_count": 41,
   "id": "13d59195",
   "metadata": {
    "execution": {
     "iopub.execute_input": "2021-10-10T01:44:41.353536Z",
     "iopub.status.busy": "2021-10-10T01:44:41.353031Z",
     "iopub.status.idle": "2021-10-10T01:44:41.410764Z",
     "shell.execute_reply": "2021-10-10T01:44:41.410358Z"
    },
    "id": "-QU5Mn0fLOpN"
   },
   "outputs": [],
   "source": [
    "model = keras.models.Sequential([\n",
    "    keras.layers.Flatten(input_shape=[28, 28]),\n",
    "    keras.layers.BatchNormalization(),\n",
    "    keras.layers.Dense(300, use_bias=False),\n",
    "    keras.layers.BatchNormalization(),\n",
    "    keras.layers.Activation(\"relu\"),\n",
    "    keras.layers.Dense(100, use_bias=False),\n",
    "    keras.layers.BatchNormalization(),\n",
    "    keras.layers.Activation(\"relu\"),\n",
    "    keras.layers.Dense(10, activation=\"softmax\")\n",
    "])"
   ]
  },
  {
   "cell_type": "markdown",
   "id": "cb0d52d5",
   "metadata": {},
   "source": [
    "활성화 함수 추가 모델"
   ]
  },
  {
   "cell_type": "code",
   "execution_count": 42,
   "id": "2c8feb34",
   "metadata": {
    "colab": {
     "base_uri": "https://localhost:8080/"
    },
    "execution": {
     "iopub.execute_input": "2021-10-10T01:44:41.418004Z",
     "iopub.status.busy": "2021-10-10T01:44:41.417540Z",
     "iopub.status.idle": "2021-10-10T01:44:41.419833Z",
     "shell.execute_reply": "2021-10-10T01:44:41.419464Z"
    },
    "id": "1Y-7t8DsLOpN",
    "outputId": "6c1f06be-d777-464c-a38f-694b1421a7db"
   },
   "outputs": [],
   "source": [
    "model.compile(loss=\"sparse_categorical_crossentropy\",\n",
    "              optimizer=keras.optimizers.SGD(learning_rate=1e-3),\n",
    "              metrics=[\"accuracy\"])"
   ]
  },
  {
   "cell_type": "code",
   "execution_count": 43,
   "id": "5a60faba",
   "metadata": {
    "colab": {
     "base_uri": "https://localhost:8080/"
    },
    "execution": {
     "iopub.execute_input": "2021-10-10T01:44:41.423897Z",
     "iopub.status.busy": "2021-10-10T01:44:41.423440Z",
     "iopub.status.idle": "2021-10-10T01:45:29.389120Z",
     "shell.execute_reply": "2021-10-10T01:45:29.389543Z"
    },
    "id": "fhatQCD6LOpN",
    "outputId": "d2c6e642-5ade-4f15-8d57-f50832c61a59"
   },
   "outputs": [
    {
     "name": "stdout",
     "output_type": "stream",
     "text": [
      "Epoch 1/10\n",
      "1719/1719 [==============================] - 9s 5ms/step - loss: 1.0732 - accuracy: 0.6717 - val_loss: 0.6778 - val_accuracy: 0.7864\n",
      "Epoch 2/10\n",
      "1719/1719 [==============================] - 6s 4ms/step - loss: 0.6831 - accuracy: 0.7804 - val_loss: 0.5527 - val_accuracy: 0.8230\n",
      "Epoch 3/10\n",
      "1719/1719 [==============================] - 7s 4ms/step - loss: 0.5972 - accuracy: 0.8022 - val_loss: 0.4977 - val_accuracy: 0.8376\n",
      "Epoch 4/10\n",
      "1719/1719 [==============================] - 6s 3ms/step - loss: 0.5436 - accuracy: 0.8187 - val_loss: 0.4634 - val_accuracy: 0.8446\n",
      "Epoch 5/10\n",
      "1719/1719 [==============================] - 6s 3ms/step - loss: 0.5109 - accuracy: 0.8267 - val_loss: 0.4405 - val_accuracy: 0.8532\n",
      "Epoch 6/10\n",
      "1719/1719 [==============================] - 7s 4ms/step - loss: 0.4879 - accuracy: 0.8339 - val_loss: 0.4226 - val_accuracy: 0.8564\n",
      "Epoch 7/10\n",
      "1719/1719 [==============================] - 7s 4ms/step - loss: 0.4721 - accuracy: 0.8376 - val_loss: 0.4098 - val_accuracy: 0.8600\n",
      "Epoch 8/10\n",
      "1719/1719 [==============================] - 6s 4ms/step - loss: 0.4576 - accuracy: 0.8423 - val_loss: 0.3998 - val_accuracy: 0.8628\n",
      "Epoch 9/10\n",
      "1719/1719 [==============================] - 7s 4ms/step - loss: 0.4450 - accuracy: 0.8474 - val_loss: 0.3914 - val_accuracy: 0.8636\n",
      "Epoch 10/10\n",
      "1719/1719 [==============================] - 6s 4ms/step - loss: 0.4328 - accuracy: 0.8504 - val_loss: 0.3836 - val_accuracy: 0.8632\n"
     ]
    }
   ],
   "source": [
    "history = model.fit(X_train, y_train, epochs=10,\n",
    "                    validation_data=(X_valid, y_valid))"
   ]
  },
  {
   "cell_type": "markdown",
   "id": "782d1fd4",
   "metadata": {
    "id": "CWhcWzXCLOpO"
   },
   "source": [
    "## 그레이디언트 클리핑"
   ]
  },
  {
   "cell_type": "markdown",
   "id": "8e1f62e8",
   "metadata": {
    "id": "L73OupHpLOpO"
   },
   "source": [
    "모든 케라스 옵티마이저는 `clipnorm`이나 `clipvalue` 매개변수를 지원합니다:"
   ]
  },
  {
   "cell_type": "code",
   "execution_count": 44,
   "id": "9a9d6624",
   "metadata": {
    "execution": {
     "iopub.execute_input": "2021-10-10T01:45:29.393900Z",
     "iopub.status.busy": "2021-10-10T01:45:29.393401Z",
     "iopub.status.idle": "2021-10-10T01:45:29.395079Z",
     "shell.execute_reply": "2021-10-10T01:45:29.395490Z"
    },
    "id": "PN-aVXL-LOpO"
   },
   "outputs": [],
   "source": [
    "optimizer = keras.optimizers.SGD(clipvalue=1.0)"
   ]
  },
  {
   "cell_type": "code",
   "execution_count": 45,
   "id": "4e27c8c2",
   "metadata": {
    "execution": {
     "iopub.execute_input": "2021-10-10T01:45:29.399558Z",
     "iopub.status.busy": "2021-10-10T01:45:29.399010Z",
     "iopub.status.idle": "2021-10-10T01:45:29.401133Z",
     "shell.execute_reply": "2021-10-10T01:45:29.400776Z"
    },
    "id": "g9Wj01r7LOpO"
   },
   "outputs": [],
   "source": [
    "optimizer = keras.optimizers.SGD(clipnorm=1.0)"
   ]
  },
  {
   "cell_type": "markdown",
   "id": "73c203ed",
   "metadata": {
    "id": "rxEJ6pNyLOpO"
   },
   "source": [
    "## 사전 훈련된 층 재사용하기"
   ]
  },
  {
   "cell_type": "markdown",
   "id": "8077ae0c",
   "metadata": {
    "id": "u-g_PGcmLOpO"
   },
   "source": [
    "### 케라스 모델 재사용하기"
   ]
  },
  {
   "cell_type": "markdown",
   "id": "08e04873",
   "metadata": {
    "id": "rdiVjfkOLOpO"
   },
   "source": [
    "패션 MNIST 훈련 세트를 두 개로 분류\n",
    "* `X_train_A`: 샌달과 셔츠(클래스 5와 6)을 제외한 모든 이미지\n",
    "* `X_train_B`: 샌달과 셔츠 이미지 중 처음 200개만 가진 작은 훈련 세트\n",
    "\n",
    "검증 세트와 테스트 세트도 이렇게 나눕니다. 하지만 이미지 개수는 제한하지 않습니다."
   ]
  },
  {
   "cell_type": "markdown",
   "id": "29b03e2d",
   "metadata": {},
   "source": [
    "- A세트에서 모델을 훈련하고 재사용하여 B 세트 해결\n",
    "- A 작업에서 B작업으로의 지식 전달 -> A세트의 클래스와 B 세트의 클래스와 유사\n",
    "\n",
    "Dense 층을 사용하기 떄문에 동일 위치에 나타난 패턴만 재사용 가능"
   ]
  },
  {
   "cell_type": "code",
   "execution_count": 46,
   "id": "82c75561",
   "metadata": {
    "execution": {
     "iopub.execute_input": "2021-10-10T01:45:29.406937Z",
     "iopub.status.busy": "2021-10-10T01:45:29.406265Z",
     "iopub.status.idle": "2021-10-10T01:45:29.545344Z",
     "shell.execute_reply": "2021-10-10T01:45:29.545764Z"
    },
    "id": "QKHsibRsLOpO"
   },
   "outputs": [],
   "source": [
    "def split_dataset(X, y):\n",
    "    y_5_or_6 = (y == 5) | (y == 6) # sandals or shirts\n",
    "    y_A = y[~y_5_or_6]\n",
    "    y_A[y_A > 6] -= 2 # class indices 7, 8, 9 should be moved to 5, 6, 7\n",
    "    y_B = (y[y_5_or_6] == 6).astype(np.float32) # binary classification task: is it a shirt (class 6)?\n",
    "    return ((X[~y_5_or_6], y_A),\n",
    "            (X[y_5_or_6], y_B))\n",
    "\n",
    "(X_train_A, y_train_A), (X_train_B, y_train_B) = split_dataset(X_train, y_train)\n",
    "(X_valid_A, y_valid_A), (X_valid_B, y_valid_B) = split_dataset(X_valid, y_valid)\n",
    "(X_test_A, y_test_A), (X_test_B, y_test_B) = split_dataset(X_test, y_test)\n",
    "X_train_B = X_train_B[:200]\n",
    "y_train_B = y_train_B[:200]"
   ]
  },
  {
   "cell_type": "code",
   "execution_count": 47,
   "id": "6a06d79f",
   "metadata": {
    "colab": {
     "base_uri": "https://localhost:8080/"
    },
    "execution": {
     "iopub.execute_input": "2021-10-10T01:45:29.549685Z",
     "iopub.status.busy": "2021-10-10T01:45:29.549250Z",
     "iopub.status.idle": "2021-10-10T01:45:29.552047Z",
     "shell.execute_reply": "2021-10-10T01:45:29.552460Z"
    },
    "id": "2s04GUdELOpO",
    "outputId": "7ae8cb0d-3c3e-4adc-e0a7-402b144e6c4d"
   },
   "outputs": [
    {
     "data": {
      "text/plain": [
       "(43986, 28, 28)"
      ]
     },
     "execution_count": 47,
     "metadata": {},
     "output_type": "execute_result"
    }
   ],
   "source": [
    "X_train_A.shape"
   ]
  },
  {
   "cell_type": "code",
   "execution_count": 48,
   "id": "45d00e30",
   "metadata": {
    "colab": {
     "base_uri": "https://localhost:8080/"
    },
    "execution": {
     "iopub.execute_input": "2021-10-10T01:45:29.556359Z",
     "iopub.status.busy": "2021-10-10T01:45:29.555909Z",
     "iopub.status.idle": "2021-10-10T01:45:29.560168Z",
     "shell.execute_reply": "2021-10-10T01:45:29.559793Z"
    },
    "id": "kcEEehIGLOpP",
    "outputId": "9a523e6b-a488-4b42-c5de-8cb786c0e6aa"
   },
   "outputs": [
    {
     "data": {
      "text/plain": [
       "(200, 28, 28)"
      ]
     },
     "execution_count": 48,
     "metadata": {},
     "output_type": "execute_result"
    }
   ],
   "source": [
    "X_train_B.shape"
   ]
  },
  {
   "cell_type": "code",
   "execution_count": 49,
   "id": "d1fa5a76",
   "metadata": {
    "colab": {
     "base_uri": "https://localhost:8080/"
    },
    "execution": {
     "iopub.execute_input": "2021-10-10T01:45:29.566054Z",
     "iopub.status.busy": "2021-10-10T01:45:29.564814Z",
     "iopub.status.idle": "2021-10-10T01:45:29.568414Z",
     "shell.execute_reply": "2021-10-10T01:45:29.567976Z"
    },
    "id": "smwubTT0LOpP",
    "outputId": "c39f2a1c-c114-45a7-9601-472bf72e6dfd"
   },
   "outputs": [
    {
     "data": {
      "text/plain": [
       "array([4, 0, 5, 7, 7, 7, 4, 4, 3, 4, 0, 1, 6, 3, 4, 3, 2, 6, 5, 3, 4, 5,\n",
       "       1, 3, 4, 2, 0, 6, 7, 1], dtype=uint8)"
      ]
     },
     "execution_count": 49,
     "metadata": {},
     "output_type": "execute_result"
    }
   ],
   "source": [
    "y_train_A[:30]"
   ]
  },
  {
   "cell_type": "code",
   "execution_count": 50,
   "id": "e9075792",
   "metadata": {
    "colab": {
     "base_uri": "https://localhost:8080/"
    },
    "execution": {
     "iopub.execute_input": "2021-10-10T01:45:29.573570Z",
     "iopub.status.busy": "2021-10-10T01:45:29.573056Z",
     "iopub.status.idle": "2021-10-10T01:45:29.575830Z",
     "shell.execute_reply": "2021-10-10T01:45:29.576238Z"
    },
    "id": "hNJqisASLOpP",
    "outputId": "3d2a1920-82e3-47c5-ba65-d8977fe4b5ab"
   },
   "outputs": [
    {
     "data": {
      "text/plain": [
       "array([1., 1., 0., 0., 0., 0., 1., 1., 1., 0., 0., 1., 1., 0., 0., 0., 0.,\n",
       "       0., 0., 1., 1., 0., 0., 1., 1., 0., 1., 1., 1., 1.], dtype=float32)"
      ]
     },
     "execution_count": 50,
     "metadata": {},
     "output_type": "execute_result"
    }
   ],
   "source": [
    "y_train_B[:30]"
   ]
  },
  {
   "cell_type": "code",
   "execution_count": 51,
   "id": "8520c732",
   "metadata": {
    "execution": {
     "iopub.execute_input": "2021-10-10T01:45:29.601104Z",
     "iopub.status.busy": "2021-10-10T01:45:29.599747Z",
     "iopub.status.idle": "2021-10-10T01:45:29.601831Z",
     "shell.execute_reply": "2021-10-10T01:45:29.602225Z"
    },
    "id": "2qkd71BzLOpP"
   },
   "outputs": [],
   "source": [
    "tf.random.set_seed(42)\n",
    "np.random.seed(42)"
   ]
  },
  {
   "cell_type": "code",
   "execution_count": 52,
   "id": "68b52689",
   "metadata": {
    "execution": {
     "iopub.execute_input": "2021-10-10T01:45:29.607726Z",
     "iopub.status.busy": "2021-10-10T01:45:29.606975Z",
     "iopub.status.idle": "2021-10-10T01:45:29.648838Z",
     "shell.execute_reply": "2021-10-10T01:45:29.649280Z"
    },
    "id": "_dou1YzGLOpP"
   },
   "outputs": [],
   "source": [
    "model_A = keras.models.Sequential()\n",
    "model_A.add(keras.layers.Flatten(input_shape=[28, 28]))\n",
    "for n_hidden in (300, 100, 50, 50, 50):\n",
    "    model_A.add(keras.layers.Dense(n_hidden, activation=\"selu\"))\n",
    "model_A.add(keras.layers.Dense(8, activation=\"softmax\"))"
   ]
  },
  {
   "cell_type": "code",
   "execution_count": 53,
   "id": "915efbd9",
   "metadata": {
    "colab": {
     "base_uri": "https://localhost:8080/"
    },
    "execution": {
     "iopub.execute_input": "2021-10-10T01:45:29.656414Z",
     "iopub.status.busy": "2021-10-10T01:45:29.655721Z",
     "iopub.status.idle": "2021-10-10T01:45:29.658744Z",
     "shell.execute_reply": "2021-10-10T01:45:29.658227Z"
    },
    "id": "C6TIeUe-LOpQ",
    "outputId": "4c4ac391-fad4-4814-bd44-ec2d8eccec6e"
   },
   "outputs": [],
   "source": [
    "model_A.compile(loss=\"sparse_categorical_crossentropy\",\n",
    "                optimizer=keras.optimizers.SGD(learning_rate=1e-3),\n",
    "                metrics=[\"accuracy\"])"
   ]
  },
  {
   "cell_type": "code",
   "execution_count": 54,
   "id": "83358be5",
   "metadata": {
    "colab": {
     "base_uri": "https://localhost:8080/"
    },
    "execution": {
     "iopub.execute_input": "2021-10-10T01:45:29.661972Z",
     "iopub.status.busy": "2021-10-10T01:45:29.661579Z",
     "iopub.status.idle": "2021-10-10T01:46:51.964978Z",
     "shell.execute_reply": "2021-10-10T01:46:51.965446Z"
    },
    "id": "4xR6ixj8LOpQ",
    "outputId": "17a27e5e-a47a-4699-b683-c94e82334ae9"
   },
   "outputs": [
    {
     "name": "stdout",
     "output_type": "stream",
     "text": [
      "Epoch 1/20\n",
      "1375/1375 [==============================] - 6s 4ms/step - loss: 0.6045 - accuracy: 0.8028 - val_loss: 0.3942 - val_accuracy: 0.8612\n",
      "Epoch 2/20\n",
      "1375/1375 [==============================] - 5s 4ms/step - loss: 0.3620 - accuracy: 0.8758 - val_loss: 0.3229 - val_accuracy: 0.8894\n",
      "Epoch 3/20\n",
      "1375/1375 [==============================] - 5s 4ms/step - loss: 0.3192 - accuracy: 0.8890 - val_loss: 0.2943 - val_accuracy: 0.8984\n",
      "Epoch 4/20\n",
      "1375/1375 [==============================] - 5s 4ms/step - loss: 0.2979 - accuracy: 0.8966 - val_loss: 0.2797 - val_accuracy: 0.9046\n",
      "Epoch 5/20\n",
      "1375/1375 [==============================] - 5s 3ms/step - loss: 0.2841 - accuracy: 0.9017 - val_loss: 0.2696 - val_accuracy: 0.9093\n",
      "Epoch 6/20\n",
      "1375/1375 [==============================] - 5s 4ms/step - loss: 0.2742 - accuracy: 0.9062 - val_loss: 0.2647 - val_accuracy: 0.9071\n",
      "Epoch 7/20\n",
      "1375/1375 [==============================] - 4s 3ms/step - loss: 0.2659 - accuracy: 0.9084 - val_loss: 0.2630 - val_accuracy: 0.9093\n",
      "Epoch 8/20\n",
      "1375/1375 [==============================] - 5s 4ms/step - loss: 0.2595 - accuracy: 0.9113 - val_loss: 0.2549 - val_accuracy: 0.9123\n",
      "Epoch 9/20\n",
      "1375/1375 [==============================] - 5s 3ms/step - loss: 0.2540 - accuracy: 0.9134 - val_loss: 0.2512 - val_accuracy: 0.9116\n",
      "Epoch 10/20\n",
      "1375/1375 [==============================] - 6s 5ms/step - loss: 0.2491 - accuracy: 0.9147 - val_loss: 0.2498 - val_accuracy: 0.9173\n",
      "Epoch 11/20\n",
      "1375/1375 [==============================] - 5s 4ms/step - loss: 0.2444 - accuracy: 0.9166 - val_loss: 0.2446 - val_accuracy: 0.9153\n",
      "Epoch 12/20\n",
      "1375/1375 [==============================] - 5s 4ms/step - loss: 0.2405 - accuracy: 0.9191 - val_loss: 0.2448 - val_accuracy: 0.9123\n",
      "Epoch 13/20\n",
      "1375/1375 [==============================] - 4s 3ms/step - loss: 0.2369 - accuracy: 0.9197 - val_loss: 0.2419 - val_accuracy: 0.9160\n",
      "Epoch 14/20\n",
      "1375/1375 [==============================] - 5s 4ms/step - loss: 0.2335 - accuracy: 0.9208 - val_loss: 0.2395 - val_accuracy: 0.9200\n",
      "Epoch 15/20\n",
      "1375/1375 [==============================] - 5s 3ms/step - loss: 0.2306 - accuracy: 0.9212 - val_loss: 0.2417 - val_accuracy: 0.9168\n",
      "Epoch 16/20\n",
      "1375/1375 [==============================] - 5s 4ms/step - loss: 0.2276 - accuracy: 0.9230 - val_loss: 0.2395 - val_accuracy: 0.9190\n",
      "Epoch 17/20\n",
      "1375/1375 [==============================] - 5s 4ms/step - loss: 0.2250 - accuracy: 0.9234 - val_loss: 0.2401 - val_accuracy: 0.9165\n",
      "Epoch 18/20\n",
      "1375/1375 [==============================] - 5s 4ms/step - loss: 0.2223 - accuracy: 0.9244 - val_loss: 0.2414 - val_accuracy: 0.9116\n",
      "Epoch 19/20\n",
      "1375/1375 [==============================] - 5s 4ms/step - loss: 0.2198 - accuracy: 0.9258 - val_loss: 0.2312 - val_accuracy: 0.9180\n",
      "Epoch 20/20\n",
      "1375/1375 [==============================] - 5s 4ms/step - loss: 0.2176 - accuracy: 0.9257 - val_loss: 0.2347 - val_accuracy: 0.9158\n"
     ]
    }
   ],
   "source": [
    "history = model_A.fit(X_train_A, y_train_A, epochs=20,\n",
    "                    validation_data=(X_valid_A, y_valid_A))"
   ]
  },
  {
   "cell_type": "code",
   "execution_count": 55,
   "id": "316296a1",
   "metadata": {
    "execution": {
     "iopub.execute_input": "2021-10-10T01:46:51.971496Z",
     "iopub.status.busy": "2021-10-10T01:46:51.967801Z",
     "iopub.status.idle": "2021-10-10T01:46:51.986661Z",
     "shell.execute_reply": "2021-10-10T01:46:51.986206Z"
    },
    "id": "8UMBGi07LOpQ"
   },
   "outputs": [],
   "source": [
    "model_A.save(\"my_model_A.h5\")"
   ]
  },
  {
   "cell_type": "code",
   "execution_count": 56,
   "id": "a93aeaa8",
   "metadata": {
    "execution": {
     "iopub.execute_input": "2021-10-10T01:46:51.992264Z",
     "iopub.status.busy": "2021-10-10T01:46:51.991799Z",
     "iopub.status.idle": "2021-10-10T01:46:52.034071Z",
     "shell.execute_reply": "2021-10-10T01:46:52.034444Z"
    },
    "id": "qb4XQRc2LOpQ"
   },
   "outputs": [],
   "source": [
    "model_B = keras.models.Sequential()\n",
    "model_B.add(keras.layers.Flatten(input_shape=[28, 28]))\n",
    "for n_hidden in (300, 100, 50, 50, 50):\n",
    "    model_B.add(keras.layers.Dense(n_hidden, activation=\"selu\"))\n",
    "model_B.add(keras.layers.Dense(1, activation=\"sigmoid\"))"
   ]
  },
  {
   "cell_type": "code",
   "execution_count": 57,
   "id": "997de873",
   "metadata": {
    "colab": {
     "base_uri": "https://localhost:8080/"
    },
    "execution": {
     "iopub.execute_input": "2021-10-10T01:46:52.040832Z",
     "iopub.status.busy": "2021-10-10T01:46:52.039574Z",
     "iopub.status.idle": "2021-10-10T01:46:52.043035Z",
     "shell.execute_reply": "2021-10-10T01:46:52.043394Z"
    },
    "id": "bTfx9aSGLOpQ",
    "outputId": "898d02d8-89a1-4d50-ea71-8b0f1063700f"
   },
   "outputs": [],
   "source": [
    "model_B.compile(loss=\"binary_crossentropy\",\n",
    "                optimizer=keras.optimizers.SGD(learning_rate=1e-3),\n",
    "                metrics=[\"accuracy\"])"
   ]
  },
  {
   "cell_type": "code",
   "execution_count": 58,
   "id": "f8f7dcf8",
   "metadata": {
    "colab": {
     "base_uri": "https://localhost:8080/"
    },
    "execution": {
     "iopub.execute_input": "2021-10-10T01:46:52.046830Z",
     "iopub.status.busy": "2021-10-10T01:46:52.046371Z",
     "iopub.status.idle": "2021-10-10T01:46:53.827991Z",
     "shell.execute_reply": "2021-10-10T01:46:53.827549Z"
    },
    "id": "dd6o7rDmLOpQ",
    "outputId": "870bb5da-cf55-45d9-8675-2480d5770e00",
    "scrolled": true
   },
   "outputs": [
    {
     "name": "stdout",
     "output_type": "stream",
     "text": [
      "Epoch 1/20\n",
      "7/7 [==============================] - 2s 105ms/step - loss: 0.5608 - accuracy: 0.7000 - val_loss: 0.4741 - val_accuracy: 0.7708\n",
      "Epoch 2/20\n",
      "7/7 [==============================] - 0s 17ms/step - loss: 0.4199 - accuracy: 0.8000 - val_loss: 0.3745 - val_accuracy: 0.8600\n",
      "Epoch 3/20\n",
      "7/7 [==============================] - 0s 16ms/step - loss: 0.3293 - accuracy: 0.9150 - val_loss: 0.3119 - val_accuracy: 0.9006\n",
      "Epoch 4/20\n",
      "7/7 [==============================] - 0s 16ms/step - loss: 0.2737 - accuracy: 0.9550 - val_loss: 0.2679 - val_accuracy: 0.9310\n",
      "Epoch 5/20\n",
      "7/7 [==============================] - 0s 24ms/step - loss: 0.2338 - accuracy: 0.9600 - val_loss: 0.2359 - val_accuracy: 0.9493\n",
      "Epoch 6/20\n",
      "7/7 [==============================] - 0s 32ms/step - loss: 0.2038 - accuracy: 0.9650 - val_loss: 0.2107 - val_accuracy: 0.9594\n",
      "Epoch 7/20\n",
      "7/7 [==============================] - 0s 23ms/step - loss: 0.1806 - accuracy: 0.9750 - val_loss: 0.1929 - val_accuracy: 0.9615\n",
      "Epoch 8/20\n",
      "7/7 [==============================] - 0s 24ms/step - loss: 0.1636 - accuracy: 0.9750 - val_loss: 0.1772 - val_accuracy: 0.9665\n",
      "Epoch 9/20\n",
      "7/7 [==============================] - 0s 18ms/step - loss: 0.1486 - accuracy: 0.9750 - val_loss: 0.1646 - val_accuracy: 0.9757\n",
      "Epoch 10/20\n",
      "7/7 [==============================] - 0s 20ms/step - loss: 0.1370 - accuracy: 0.9750 - val_loss: 0.1542 - val_accuracy: 0.9757\n",
      "Epoch 11/20\n",
      "7/7 [==============================] - 0s 28ms/step - loss: 0.1270 - accuracy: 0.9800 - val_loss: 0.1449 - val_accuracy: 0.9757\n",
      "Epoch 12/20\n",
      "7/7 [==============================] - 0s 28ms/step - loss: 0.1182 - accuracy: 0.9800 - val_loss: 0.1371 - val_accuracy: 0.9767\n",
      "Epoch 13/20\n",
      "7/7 [==============================] - 0s 32ms/step - loss: 0.1104 - accuracy: 0.9800 - val_loss: 0.1305 - val_accuracy: 0.9777\n",
      "Epoch 14/20\n",
      "7/7 [==============================] - 0s 13ms/step - loss: 0.1039 - accuracy: 0.9850 - val_loss: 0.1247 - val_accuracy: 0.9777\n",
      "Epoch 15/20\n",
      "7/7 [==============================] - 0s 26ms/step - loss: 0.0979 - accuracy: 0.9850 - val_loss: 0.1192 - val_accuracy: 0.9767\n",
      "Epoch 16/20\n",
      "7/7 [==============================] - 0s 36ms/step - loss: 0.0928 - accuracy: 0.9850 - val_loss: 0.1148 - val_accuracy: 0.9767\n",
      "Epoch 17/20\n",
      "7/7 [==============================] - 0s 31ms/step - loss: 0.0885 - accuracy: 0.9850 - val_loss: 0.1108 - val_accuracy: 0.9767\n",
      "Epoch 18/20\n",
      "7/7 [==============================] - 0s 34ms/step - loss: 0.0845 - accuracy: 0.9850 - val_loss: 0.1073 - val_accuracy: 0.9787\n",
      "Epoch 19/20\n",
      "7/7 [==============================] - 0s 30ms/step - loss: 0.0810 - accuracy: 0.9900 - val_loss: 0.1041 - val_accuracy: 0.9797\n",
      "Epoch 20/20\n",
      "7/7 [==============================] - 0s 22ms/step - loss: 0.0777 - accuracy: 0.9900 - val_loss: 0.1012 - val_accuracy: 0.9807\n"
     ]
    }
   ],
   "source": [
    "history = model_B.fit(X_train_B, y_train_B, epochs=20,\n",
    "                      validation_data=(X_valid_B, y_valid_B))"
   ]
  },
  {
   "cell_type": "code",
   "execution_count": 59,
   "id": "a5eecd6e",
   "metadata": {
    "colab": {
     "base_uri": "https://localhost:8080/"
    },
    "execution": {
     "iopub.execute_input": "2021-10-10T01:46:53.833367Z",
     "iopub.status.busy": "2021-10-10T01:46:53.832924Z",
     "iopub.status.idle": "2021-10-10T01:46:53.835776Z",
     "shell.execute_reply": "2021-10-10T01:46:53.836116Z"
    },
    "id": "Bh48HMITLOpQ",
    "outputId": "20546c62-c6b4-450b-cfd8-a879a3ba98a5"
   },
   "outputs": [
    {
     "name": "stdout",
     "output_type": "stream",
     "text": [
      "Model: \"sequential_7\"\n",
      "_________________________________________________________________\n",
      " Layer (type)                Output Shape              Param #   \n",
      "=================================================================\n",
      " flatten_7 (Flatten)         (None, 784)               0         \n",
      "                                                                 \n",
      " dense_224 (Dense)           (None, 300)               235500    \n",
      "                                                                 \n",
      " dense_225 (Dense)           (None, 100)               30100     \n",
      "                                                                 \n",
      " dense_226 (Dense)           (None, 50)                5050      \n",
      "                                                                 \n",
      " dense_227 (Dense)           (None, 50)                2550      \n",
      "                                                                 \n",
      " dense_228 (Dense)           (None, 50)                2550      \n",
      "                                                                 \n",
      " dense_229 (Dense)           (None, 1)                 51        \n",
      "                                                                 \n",
      "=================================================================\n",
      "Total params: 275,801\n",
      "Trainable params: 275,801\n",
      "Non-trainable params: 0\n",
      "_________________________________________________________________\n"
     ]
    }
   ],
   "source": [
    "model_B.summary()"
   ]
  },
  {
   "cell_type": "code",
   "execution_count": 60,
   "id": "9cbf5787",
   "metadata": {
    "execution": {
     "iopub.execute_input": "2021-10-10T01:46:53.842610Z",
     "iopub.status.busy": "2021-10-10T01:46:53.840154Z",
     "iopub.status.idle": "2021-10-10T01:46:53.926739Z",
     "shell.execute_reply": "2021-10-10T01:46:53.927163Z"
    },
    "id": "xpurR4NDLOpQ"
   },
   "outputs": [],
   "source": [
    "model_A = keras.models.load_model(\"my_model_A.h5\")\n",
    "model_B_on_A = keras.models.Sequential(model_A.layers[:-1])\n",
    "model_B_on_A.add(keras.layers.Dense(1, activation=\"sigmoid\"))"
   ]
  },
  {
   "cell_type": "markdown",
   "id": "ed52bf43",
   "metadata": {},
   "source": [
    "`model_B_on_A`와 `model_A`는 층을 공유하기 때문에 하나를 훈련하면 두 모델이 업데이트됩니다. \n",
    "\n",
    "이를 피하려면 `model_A`를 클론한 것을 사용해 `model_B_on_A`를 만들어야 합니다:"
   ]
  },
  {
   "cell_type": "code",
   "execution_count": 61,
   "id": "561c8824",
   "metadata": {
    "execution": {
     "iopub.execute_input": "2021-10-10T01:46:53.936775Z",
     "iopub.status.busy": "2021-10-10T01:46:53.936286Z",
     "iopub.status.idle": "2021-10-10T01:46:54.007785Z",
     "shell.execute_reply": "2021-10-10T01:46:54.007229Z"
    },
    "id": "XPRZk6DqLOpR"
   },
   "outputs": [],
   "source": [
    "model_A_clone = keras.models.clone_model(model_A) #keras를 통한 A 모델 복제\n",
    "model_A_clone.set_weights(model_A.get_weights()) # 가중치 복제\n",
    "model_B_on_A = keras.models.Sequential(model_A_clone.layers[:-1])\n",
    "model_B_on_A.add(keras.layers.Dense(1, activation=\"sigmoid\"))"
   ]
  },
  {
   "cell_type": "code",
   "execution_count": 62,
   "id": "89216111",
   "metadata": {
    "colab": {
     "base_uri": "https://localhost:8080/"
    },
    "execution": {
     "iopub.execute_input": "2021-10-10T01:46:54.012491Z",
     "iopub.status.busy": "2021-10-10T01:46:54.012052Z",
     "iopub.status.idle": "2021-10-10T01:46:54.017729Z",
     "shell.execute_reply": "2021-10-10T01:46:54.018102Z"
    },
    "id": "kNxjby1PLOpR",
    "outputId": "66717c51-8ce1-4616-885a-e7b836abc4b1"
   },
   "outputs": [],
   "source": [
    "for layer in model_B_on_A.layers[:-1]:\n",
    "    layer.trainable = False\n",
    "\n",
    "model_B_on_A.compile(loss=\"binary_crossentropy\",\n",
    "                     optimizer=keras.optimizers.SGD(learning_rate=1e-3),\n",
    "                     metrics=[\"accuracy\"])"
   ]
  },
  {
   "cell_type": "code",
   "execution_count": 63,
   "id": "df8bd509",
   "metadata": {
    "colab": {
     "base_uri": "https://localhost:8080/"
    },
    "execution": {
     "iopub.execute_input": "2021-10-10T01:46:54.023537Z",
     "iopub.status.busy": "2021-10-10T01:46:54.022251Z",
     "iopub.status.idle": "2021-10-10T01:46:56.465171Z",
     "shell.execute_reply": "2021-10-10T01:46:56.465583Z"
    },
    "id": "yvlj3S1jLOpR",
    "outputId": "9cbe60a3-bad2-46ff-d9e7-b61a0e80d487"
   },
   "outputs": [
    {
     "name": "stdout",
     "output_type": "stream",
     "text": [
      "Epoch 1/4\n",
      "7/7 [==============================] - 1s 85ms/step - loss: 0.5373 - accuracy: 0.7250 - val_loss: 0.6168 - val_accuracy: 0.6826\n",
      "Epoch 2/4\n",
      "7/7 [==============================] - 0s 16ms/step - loss: 0.5080 - accuracy: 0.7350 - val_loss: 0.5874 - val_accuracy: 0.6978\n",
      "Epoch 3/4\n",
      "7/7 [==============================] - 0s 15ms/step - loss: 0.4806 - accuracy: 0.7400 - val_loss: 0.5601 - val_accuracy: 0.7140\n",
      "Epoch 4/4\n",
      "7/7 [==============================] - 0s 28ms/step - loss: 0.4552 - accuracy: 0.7550 - val_loss: 0.5354 - val_accuracy: 0.7343\n",
      "Epoch 1/16\n",
      "7/7 [==============================] - 1s 92ms/step - loss: 0.3383 - accuracy: 0.8550 - val_loss: 0.3010 - val_accuracy: 0.9097\n",
      "Epoch 2/16\n",
      "7/7 [==============================] - 0s 20ms/step - loss: 0.2051 - accuracy: 0.9650 - val_loss: 0.2233 - val_accuracy: 0.9513\n",
      "Epoch 3/16\n",
      "7/7 [==============================] - 0s 14ms/step - loss: 0.1554 - accuracy: 0.9850 - val_loss: 0.1841 - val_accuracy: 0.9675\n",
      "Epoch 4/16\n",
      "7/7 [==============================] - 0s 14ms/step - loss: 0.1279 - accuracy: 0.9850 - val_loss: 0.1568 - val_accuracy: 0.9777\n",
      "Epoch 5/16\n",
      "7/7 [==============================] - 0s 18ms/step - loss: 0.1084 - accuracy: 0.9900 - val_loss: 0.1390 - val_accuracy: 0.9797\n",
      "Epoch 6/16\n",
      "7/7 [==============================] - 0s 22ms/step - loss: 0.0949 - accuracy: 0.9950 - val_loss: 0.1250 - val_accuracy: 0.9828\n",
      "Epoch 7/16\n",
      "7/7 [==============================] - 0s 15ms/step - loss: 0.0847 - accuracy: 0.9950 - val_loss: 0.1144 - val_accuracy: 0.9868\n",
      "Epoch 8/16\n",
      "7/7 [==============================] - 0s 16ms/step - loss: 0.0769 - accuracy: 1.0000 - val_loss: 0.1054 - val_accuracy: 0.9878\n",
      "Epoch 9/16\n",
      "7/7 [==============================] - 0s 18ms/step - loss: 0.0702 - accuracy: 1.0000 - val_loss: 0.0981 - val_accuracy: 0.9878\n",
      "Epoch 10/16\n",
      "7/7 [==============================] - 0s 29ms/step - loss: 0.0647 - accuracy: 1.0000 - val_loss: 0.0921 - val_accuracy: 0.9899\n",
      "Epoch 11/16\n",
      "7/7 [==============================] - 0s 30ms/step - loss: 0.0602 - accuracy: 1.0000 - val_loss: 0.0865 - val_accuracy: 0.9899\n",
      "Epoch 12/16\n",
      "7/7 [==============================] - 0s 20ms/step - loss: 0.0560 - accuracy: 1.0000 - val_loss: 0.0818 - val_accuracy: 0.9899\n",
      "Epoch 13/16\n",
      "7/7 [==============================] - 0s 22ms/step - loss: 0.0524 - accuracy: 1.0000 - val_loss: 0.0776 - val_accuracy: 0.9899\n",
      "Epoch 14/16\n",
      "7/7 [==============================] - 0s 27ms/step - loss: 0.0492 - accuracy: 1.0000 - val_loss: 0.0737 - val_accuracy: 0.9899\n",
      "Epoch 15/16\n",
      "7/7 [==============================] - 0s 23ms/step - loss: 0.0463 - accuracy: 1.0000 - val_loss: 0.0706 - val_accuracy: 0.9899\n",
      "Epoch 16/16\n",
      "7/7 [==============================] - 0s 19ms/step - loss: 0.0439 - accuracy: 1.0000 - val_loss: 0.0678 - val_accuracy: 0.9899\n"
     ]
    }
   ],
   "source": [
    "history = model_B_on_A.fit(X_train_B, y_train_B, epochs=4,\n",
    "                           validation_data=(X_valid_B, y_valid_B))\n",
    "\n",
    "for layer in model_B_on_A.layers[:-1]:\n",
    "    layer.trainable = True\n",
    "\n",
    "model_B_on_A.compile(loss=\"binary_crossentropy\",\n",
    "                     optimizer=keras.optimizers.SGD(learning_rate=1e-3),\n",
    "                     metrics=[\"accuracy\"])\n",
    "history = model_B_on_A.fit(X_train_B, y_train_B, epochs=16,\n",
    "                           validation_data=(X_valid_B, y_valid_B))"
   ]
  },
  {
   "cell_type": "markdown",
   "id": "40a24e80",
   "metadata": {
    "id": "ceskFW97LOpR"
   },
   "source": [
    "마지막 점수는 어떤가요?"
   ]
  },
  {
   "cell_type": "code",
   "execution_count": 64,
   "id": "55b8ceda",
   "metadata": {
    "colab": {
     "base_uri": "https://localhost:8080/"
    },
    "execution": {
     "iopub.execute_input": "2021-10-10T01:46:56.469986Z",
     "iopub.status.busy": "2021-10-10T01:46:56.469471Z",
     "iopub.status.idle": "2021-10-10T01:46:56.597181Z",
     "shell.execute_reply": "2021-10-10T01:46:56.597652Z"
    },
    "id": "fmdxUJ9FLOpR",
    "outputId": "40e9cb32-714b-464a-f772-e9afca8895b0"
   },
   "outputs": [
    {
     "name": "stdout",
     "output_type": "stream",
     "text": [
      "63/63 [==============================] - 0s 3ms/step - loss: 0.0928 - accuracy: 0.9815\n"
     ]
    },
    {
     "data": {
      "text/plain": [
       "[0.09284326434135437, 0.9815000295639038]"
      ]
     },
     "execution_count": 64,
     "metadata": {},
     "output_type": "execute_result"
    }
   ],
   "source": [
    "model_B.evaluate(X_test_B, y_test_B)"
   ]
  },
  {
   "cell_type": "code",
   "execution_count": 65,
   "id": "17d470b4",
   "metadata": {
    "colab": {
     "base_uri": "https://localhost:8080/"
    },
    "execution": {
     "iopub.execute_input": "2021-10-10T01:46:56.599942Z",
     "iopub.status.busy": "2021-10-10T01:46:56.599501Z",
     "iopub.status.idle": "2021-10-10T01:46:57.077178Z",
     "shell.execute_reply": "2021-10-10T01:46:57.077594Z"
    },
    "id": "804aagCRLOpR",
    "outputId": "658280f9-3d7f-425c-e172-735fa93c2f65"
   },
   "outputs": [
    {
     "name": "stdout",
     "output_type": "stream",
     "text": [
      "63/63 [==============================] - 0s 3ms/step - loss: 0.0656 - accuracy: 0.9920\n"
     ]
    },
    {
     "data": {
      "text/plain": [
       "[0.06558898091316223, 0.9919999837875366]"
      ]
     },
     "execution_count": 65,
     "metadata": {},
     "output_type": "execute_result"
    }
   ],
   "source": [
    "model_B_on_A.evaluate(X_test_B, y_test_B)"
   ]
  },
  {
   "cell_type": "markdown",
   "id": "0fc0ed2d",
   "metadata": {
    "id": "eoEbJs2sLOpR"
   },
   "source": [
    "훌륭하네요! 꽤 많은 정보를 전달했습니다: 오차율이 4.9배나 줄었네요!"
   ]
  },
  {
   "cell_type": "code",
   "execution_count": 66,
   "id": "d0ab167a",
   "metadata": {
    "colab": {
     "base_uri": "https://localhost:8080/"
    },
    "execution": {
     "iopub.execute_input": "2021-10-10T01:46:57.080325Z",
     "iopub.status.busy": "2021-10-10T01:46:57.079922Z",
     "iopub.status.idle": "2021-10-10T01:46:57.083253Z",
     "shell.execute_reply": "2021-10-10T01:46:57.083624Z"
    },
    "id": "2Oge57HRLOpS",
    "outputId": "0276771b-0a97-4853-b213-f3939ef95cad"
   },
   "outputs": [
    {
     "data": {
      "text/plain": [
       "4.916666666666718"
      ]
     },
     "execution_count": 66,
     "metadata": {},
     "output_type": "execute_result"
    }
   ],
   "source": [
    "(100 - 97.05) / (100 - 99.40)"
   ]
  },
  {
   "cell_type": "markdown",
   "id": "8b2cace2",
   "metadata": {
    "id": "t1Y9NJBjLOpS"
   },
   "source": [
    "# 고속 옵티마이저"
   ]
  },
  {
   "cell_type": "markdown",
   "id": "a460ab6b",
   "metadata": {
    "id": "Ie9qzCm6LOpS"
   },
   "source": [
    "## 모멘텀 옵티마이저"
   ]
  },
  {
   "cell_type": "code",
   "execution_count": 67,
   "id": "51de2a64",
   "metadata": {
    "colab": {
     "base_uri": "https://localhost:8080/"
    },
    "execution": {
     "iopub.execute_input": "2021-10-10T01:46:57.086196Z",
     "iopub.status.busy": "2021-10-10T01:46:57.085763Z",
     "iopub.status.idle": "2021-10-10T01:46:57.088653Z",
     "shell.execute_reply": "2021-10-10T01:46:57.089022Z"
    },
    "id": "-T_eBS6iLOpS",
    "outputId": "f3e8bf9b-7338-4bb1-d2e3-95e54b765fc5"
   },
   "outputs": [],
   "source": [
    "optimizer = keras.optimizers.SGD(learning_rate=0.001, momentum=0.9)"
   ]
  },
  {
   "cell_type": "markdown",
   "id": "ef7bd778",
   "metadata": {
    "id": "gvoYzuDRLOpT"
   },
   "source": [
    "## 네스테로프 가속 경사"
   ]
  },
  {
   "cell_type": "code",
   "execution_count": 68,
   "id": "79d96d0e",
   "metadata": {
    "colab": {
     "base_uri": "https://localhost:8080/"
    },
    "execution": {
     "iopub.execute_input": "2021-10-10T01:46:57.091884Z",
     "iopub.status.busy": "2021-10-10T01:46:57.091407Z",
     "iopub.status.idle": "2021-10-10T01:46:57.094076Z",
     "shell.execute_reply": "2021-10-10T01:46:57.094453Z"
    },
    "id": "DbUw8WL2LOpT",
    "outputId": "100b1730-a636-4dbf-b1d4-eba1ccc5078f"
   },
   "outputs": [],
   "source": [
    "optimizer = keras.optimizers.SGD(learning_rate=0.001, momentum=0.9, nesterov=True)"
   ]
  },
  {
   "cell_type": "markdown",
   "id": "fc22c7de",
   "metadata": {
    "id": "MzY29JPMLOpT"
   },
   "source": [
    "## AdaGrad"
   ]
  },
  {
   "cell_type": "code",
   "execution_count": 69,
   "id": "5449bc99",
   "metadata": {
    "colab": {
     "base_uri": "https://localhost:8080/"
    },
    "execution": {
     "iopub.execute_input": "2021-10-10T01:46:57.097132Z",
     "iopub.status.busy": "2021-10-10T01:46:57.096670Z",
     "iopub.status.idle": "2021-10-10T01:46:57.099287Z",
     "shell.execute_reply": "2021-10-10T01:46:57.099677Z"
    },
    "id": "dR9NgMEoLOpT",
    "outputId": "9c6744f9-7b04-460d-a075-9349f32ef807"
   },
   "outputs": [],
   "source": [
    "optimizer = keras.optimizers.Adagrad(learning_rate=0.001)"
   ]
  },
  {
   "cell_type": "markdown",
   "id": "d4fa4e86",
   "metadata": {
    "id": "RdzjwRZOLOpT"
   },
   "source": [
    "## RMSProp"
   ]
  },
  {
   "cell_type": "code",
   "execution_count": 70,
   "id": "f9eb7cc2",
   "metadata": {
    "colab": {
     "base_uri": "https://localhost:8080/"
    },
    "execution": {
     "iopub.execute_input": "2021-10-10T01:46:57.102022Z",
     "iopub.status.busy": "2021-10-10T01:46:57.101547Z",
     "iopub.status.idle": "2021-10-10T01:46:57.104158Z",
     "shell.execute_reply": "2021-10-10T01:46:57.104530Z"
    },
    "id": "TkjnInhCLOpT",
    "outputId": "12f848e0-138d-474f-d524-5d794f502acf"
   },
   "outputs": [],
   "source": [
    "optimizer = keras.optimizers.RMSprop(learning_rate=0.001, rho=0.9)"
   ]
  },
  {
   "cell_type": "markdown",
   "id": "47e2d51a",
   "metadata": {
    "id": "Aqd3XjSlLOpT"
   },
   "source": [
    "## Adam 옵티마이저"
   ]
  },
  {
   "cell_type": "code",
   "execution_count": 71,
   "id": "e4b0fbf5",
   "metadata": {
    "colab": {
     "base_uri": "https://localhost:8080/"
    },
    "execution": {
     "iopub.execute_input": "2021-10-10T01:46:57.107859Z",
     "iopub.status.busy": "2021-10-10T01:46:57.106779Z",
     "iopub.status.idle": "2021-10-10T01:46:57.110078Z",
     "shell.execute_reply": "2021-10-10T01:46:57.109648Z"
    },
    "id": "ibdJe_cILOpU",
    "outputId": "580762b9-146b-428c-cb45-aabf3d594f08"
   },
   "outputs": [],
   "source": [
    "optimizer = keras.optimizers.Adam(learning_rate=0.001, beta_1=0.9, beta_2=0.999)"
   ]
  },
  {
   "cell_type": "markdown",
   "id": "ef2091ee",
   "metadata": {
    "id": "vOuhwhjQLOpU"
   },
   "source": [
    "## Adamax 옵티마이저"
   ]
  },
  {
   "cell_type": "code",
   "execution_count": 72,
   "id": "0516e24f",
   "metadata": {
    "colab": {
     "base_uri": "https://localhost:8080/"
    },
    "execution": {
     "iopub.execute_input": "2021-10-10T01:46:57.113237Z",
     "iopub.status.busy": "2021-10-10T01:46:57.112816Z",
     "iopub.status.idle": "2021-10-10T01:46:57.115839Z",
     "shell.execute_reply": "2021-10-10T01:46:57.115506Z"
    },
    "id": "_pwlFvReLOpU",
    "outputId": "5b539492-a88d-4516-cc60-625ba75b50f2"
   },
   "outputs": [],
   "source": [
    "optimizer = keras.optimizers.Adamax(learning_rate=0.001, beta_1=0.9, beta_2=0.999)"
   ]
  },
  {
   "cell_type": "markdown",
   "id": "2b4f1575",
   "metadata": {
    "id": "-UL-CtdMLOpU"
   },
   "source": [
    "## Nadam 옵티마이저"
   ]
  },
  {
   "cell_type": "code",
   "execution_count": 73,
   "id": "133149d5",
   "metadata": {
    "colab": {
     "base_uri": "https://localhost:8080/"
    },
    "execution": {
     "iopub.execute_input": "2021-10-10T01:46:57.119278Z",
     "iopub.status.busy": "2021-10-10T01:46:57.118863Z",
     "iopub.status.idle": "2021-10-10T01:46:57.121323Z",
     "shell.execute_reply": "2021-10-10T01:46:57.121661Z"
    },
    "id": "L2jGWQ8vLOpU",
    "outputId": "153add62-35e9-48ec-d28f-deb882deb19e"
   },
   "outputs": [],
   "source": [
    "optimizer = keras.optimizers.Nadam(learning_rate=0.001, beta_1=0.9, beta_2=0.999)"
   ]
  },
  {
   "cell_type": "markdown",
   "id": "00b929be",
   "metadata": {
    "id": "Ow2z1pbiLOpU"
   },
   "source": [
    "## 학습률 스케줄링"
   ]
  },
  {
   "cell_type": "markdown",
   "id": "26f519b2",
   "metadata": {
    "id": "DziEJzDxLOpU"
   },
   "source": [
    "### 거듭제곱 스케줄링"
   ]
  },
  {
   "cell_type": "markdown",
   "id": "66b9b49e",
   "metadata": {
    "id": "_QKqYIBSLOpU"
   },
   "source": [
    "```lr = lr0 / (1 + steps / s)**c```\n",
    "* 케라스는 `c=1`과 `s = 1 / decay`을 사용합니다"
   ]
  },
  {
   "cell_type": "code",
   "execution_count": 74,
   "id": "342bff85",
   "metadata": {
    "colab": {
     "base_uri": "https://localhost:8080/"
    },
    "execution": {
     "iopub.execute_input": "2021-10-10T01:46:57.124881Z",
     "iopub.status.busy": "2021-10-10T01:46:57.124431Z",
     "iopub.status.idle": "2021-10-10T01:46:57.127514Z",
     "shell.execute_reply": "2021-10-10T01:46:57.127126Z"
    },
    "id": "mEhuxik_LOpU",
    "outputId": "6961ec21-f9dd-43d9-c436-068b7b05de23"
   },
   "outputs": [],
   "source": [
    "optimizer = keras.optimizers.SGD(learning_rate=0.01, decay=1e-4)"
   ]
  },
  {
   "cell_type": "code",
   "execution_count": 75,
   "id": "2d98b804",
   "metadata": {
    "execution": {
     "iopub.execute_input": "2021-10-10T01:46:57.134834Z",
     "iopub.status.busy": "2021-10-10T01:46:57.133914Z",
     "iopub.status.idle": "2021-10-10T01:46:57.161584Z",
     "shell.execute_reply": "2021-10-10T01:46:57.161904Z"
    },
    "id": "3ZRa8D0PLOpV"
   },
   "outputs": [],
   "source": [
    "model = keras.models.Sequential([\n",
    "    keras.layers.Flatten(input_shape=[28, 28]),\n",
    "    keras.layers.Dense(300, activation=\"selu\", kernel_initializer=\"lecun_normal\"),\n",
    "    keras.layers.Dense(100, activation=\"selu\", kernel_initializer=\"lecun_normal\"),\n",
    "    keras.layers.Dense(10, activation=\"softmax\")\n",
    "])\n",
    "model.compile(loss=\"sparse_categorical_crossentropy\", optimizer=optimizer, metrics=[\"accuracy\"])"
   ]
  },
  {
   "cell_type": "code",
   "execution_count": 76,
   "id": "2e11b1cf",
   "metadata": {
    "colab": {
     "base_uri": "https://localhost:8080/"
    },
    "execution": {
     "iopub.execute_input": "2021-10-10T01:46:57.165747Z",
     "iopub.status.busy": "2021-10-10T01:46:57.165319Z",
     "iopub.status.idle": "2021-10-10T01:48:17.223077Z",
     "shell.execute_reply": "2021-10-10T01:48:17.223503Z"
    },
    "id": "VpPb6h-cLOpV",
    "outputId": "62d3bf60-04e8-4792-fc24-40eb25959b45"
   },
   "outputs": [
    {
     "name": "stdout",
     "output_type": "stream",
     "text": [
      "Epoch 1/25\n",
      "1719/1719 [==============================] - 6s 3ms/step - loss: 0.4871 - accuracy: 0.8282 - val_loss: 0.4119 - val_accuracy: 0.8572\n",
      "Epoch 2/25\n",
      "1719/1719 [==============================] - 5s 3ms/step - loss: 0.3806 - accuracy: 0.8652 - val_loss: 0.3818 - val_accuracy: 0.8666\n",
      "Epoch 3/25\n",
      "1719/1719 [==============================] - 5s 3ms/step - loss: 0.3482 - accuracy: 0.8755 - val_loss: 0.3801 - val_accuracy: 0.8702\n",
      "Epoch 4/25\n",
      "1719/1719 [==============================] - 5s 3ms/step - loss: 0.3270 - accuracy: 0.8825 - val_loss: 0.3571 - val_accuracy: 0.8770\n",
      "Epoch 5/25\n",
      "1719/1719 [==============================] - 5s 3ms/step - loss: 0.3116 - accuracy: 0.8889 - val_loss: 0.3521 - val_accuracy: 0.8752\n",
      "Epoch 6/25\n",
      "1719/1719 [==============================] - 4s 3ms/step - loss: 0.2980 - accuracy: 0.8946 - val_loss: 0.3493 - val_accuracy: 0.8776\n",
      "Epoch 7/25\n",
      "1719/1719 [==============================] - 5s 3ms/step - loss: 0.2881 - accuracy: 0.8982 - val_loss: 0.3475 - val_accuracy: 0.8820\n",
      "Epoch 8/25\n",
      "1719/1719 [==============================] - 5s 3ms/step - loss: 0.2788 - accuracy: 0.9009 - val_loss: 0.3501 - val_accuracy: 0.8762\n",
      "Epoch 9/25\n",
      "1719/1719 [==============================] - 5s 3ms/step - loss: 0.2706 - accuracy: 0.9029 - val_loss: 0.3383 - val_accuracy: 0.8832\n",
      "Epoch 10/25\n",
      "1719/1719 [==============================] - 5s 3ms/step - loss: 0.2634 - accuracy: 0.9064 - val_loss: 0.3364 - val_accuracy: 0.8850\n",
      "Epoch 11/25\n",
      "1719/1719 [==============================] - 4s 3ms/step - loss: 0.2574 - accuracy: 0.9090 - val_loss: 0.3377 - val_accuracy: 0.8838\n",
      "Epoch 12/25\n",
      "1719/1719 [==============================] - 5s 3ms/step - loss: 0.2516 - accuracy: 0.9115 - val_loss: 0.3439 - val_accuracy: 0.8798\n",
      "Epoch 13/25\n",
      "1719/1719 [==============================] - 5s 3ms/step - loss: 0.2461 - accuracy: 0.9135 - val_loss: 0.3333 - val_accuracy: 0.8870\n",
      "Epoch 14/25\n",
      "1719/1719 [==============================] - 6s 3ms/step - loss: 0.2421 - accuracy: 0.9148 - val_loss: 0.3385 - val_accuracy: 0.8828\n",
      "Epoch 15/25\n",
      "1719/1719 [==============================] - 6s 3ms/step - loss: 0.2372 - accuracy: 0.9167 - val_loss: 0.3335 - val_accuracy: 0.8870\n",
      "Epoch 16/25\n",
      "1719/1719 [==============================] - 6s 4ms/step - loss: 0.2332 - accuracy: 0.9190 - val_loss: 0.3328 - val_accuracy: 0.8870\n",
      "Epoch 17/25\n",
      "1719/1719 [==============================] - 5s 3ms/step - loss: 0.2296 - accuracy: 0.9203 - val_loss: 0.3357 - val_accuracy: 0.8852\n",
      "Epoch 18/25\n",
      "1719/1719 [==============================] - 5s 3ms/step - loss: 0.2256 - accuracy: 0.9217 - val_loss: 0.3310 - val_accuracy: 0.8866\n",
      "Epoch 19/25\n",
      "1719/1719 [==============================] - 6s 4ms/step - loss: 0.2225 - accuracy: 0.9231 - val_loss: 0.3340 - val_accuracy: 0.8850\n",
      "Epoch 20/25\n",
      "1719/1719 [==============================] - 5s 3ms/step - loss: 0.2193 - accuracy: 0.9241 - val_loss: 0.3316 - val_accuracy: 0.8872\n",
      "Epoch 21/25\n",
      "1719/1719 [==============================] - 7s 4ms/step - loss: 0.2159 - accuracy: 0.9252 - val_loss: 0.3316 - val_accuracy: 0.8884\n",
      "Epoch 22/25\n",
      "1719/1719 [==============================] - 6s 3ms/step - loss: 0.2133 - accuracy: 0.9259 - val_loss: 0.3295 - val_accuracy: 0.8886\n",
      "Epoch 23/25\n",
      "1719/1719 [==============================] - 5s 3ms/step - loss: 0.2106 - accuracy: 0.9276 - val_loss: 0.3308 - val_accuracy: 0.8870\n",
      "Epoch 24/25\n",
      "1719/1719 [==============================] - 5s 3ms/step - loss: 0.2079 - accuracy: 0.9287 - val_loss: 0.3319 - val_accuracy: 0.8890\n",
      "Epoch 25/25\n",
      "1719/1719 [==============================] - 5s 3ms/step - loss: 0.2058 - accuracy: 0.9292 - val_loss: 0.3325 - val_accuracy: 0.8882\n"
     ]
    }
   ],
   "source": [
    "n_epochs = 25\n",
    "history = model.fit(X_train_scaled, y_train, epochs=n_epochs,\n",
    "                    validation_data=(X_valid_scaled, y_valid))"
   ]
  },
  {
   "cell_type": "code",
   "execution_count": 77,
   "id": "7923309f",
   "metadata": {
    "colab": {
     "base_uri": "https://localhost:8080/",
     "height": 303
    },
    "execution": {
     "iopub.execute_input": "2021-10-10T01:48:17.239726Z",
     "iopub.status.busy": "2021-10-10T01:48:17.239254Z",
     "iopub.status.idle": "2021-10-10T01:48:17.336361Z",
     "shell.execute_reply": "2021-10-10T01:48:17.335889Z"
    },
    "id": "We15bby8LOpV",
    "outputId": "149c35b0-a4d6-4e5a-8718-11e35b88cf4d"
   },
   "outputs": [
    {
     "data": {
      "image/png": "[encoded data removed]",
      "text/plain": [
       "<Figure size 432x288 with 1 Axes>"
      ]
     },
     "metadata": {
      "needs_background": "light"
     },
     "output_type": "display_data"
    }
   ],
   "source": [
    "import math\n",
    "\n",
    "learning_rate = 0.01\n",
    "decay = 1e-4\n",
    "batch_size = 32\n",
    "n_steps_per_epoch = math.ceil(len(X_train) / batch_size)\n",
    "epochs = np.arange(n_epochs)\n",
    "lrs = learning_rate / (1 + decay * epochs * n_steps_per_epoch)\n",
    "\n",
    "plt.plot(epochs, lrs,  \"o-\")\n",
    "plt.axis([0, n_epochs - 1, 0, 0.01])\n",
    "plt.xlabel(\"Epoch\")\n",
    "plt.ylabel(\"Learning Rate\")\n",
    "plt.title(\"Power Scheduling\", fontsize=14)\n",
    "plt.grid(True)\n",
    "plt.show()"
   ]
  },
  {
   "cell_type": "markdown",
   "id": "f8b6321f",
   "metadata": {
    "id": "txkhYc0BLOpV"
   },
   "source": [
    "### 지수 기반 스케줄링"
   ]
  },
  {
   "cell_type": "markdown",
   "id": "e9f53408",
   "metadata": {
    "id": "m1fGE70_LOpV"
   },
   "source": [
    "```lr = lr0 * 0.1**(epoch / s)```\n",
    "\n",
    "학습률이 s 스텝마다 10배씩 점차 줄어들음 -> 거듭제곱 기반은 학습률이 갈수록 감소, 지수기반은 s번 스텝마다 10배씩 감소"
   ]
  },
  {
   "cell_type": "code",
   "execution_count": 78,
   "id": "33cc902a",
   "metadata": {
    "execution": {
     "iopub.execute_input": "2021-10-10T01:48:17.340258Z",
     "iopub.status.busy": "2021-10-10T01:48:17.339781Z",
     "iopub.status.idle": "2021-10-10T01:48:17.341752Z",
     "shell.execute_reply": "2021-10-10T01:48:17.342087Z"
    },
    "id": "MR9yQ-PhLOpV"
   },
   "outputs": [],
   "source": [
    "def exponential_decay_fn(epoch):\n",
    "    return 0.01 * 0.1**(epoch / 20)"
   ]
  },
  {
   "cell_type": "code",
   "execution_count": 79,
   "id": "0502d4a0",
   "metadata": {
    "execution": {
     "iopub.execute_input": "2021-10-10T01:48:17.345803Z",
     "iopub.status.busy": "2021-10-10T01:48:17.345315Z",
     "iopub.status.idle": "2021-10-10T01:48:17.348063Z",
     "shell.execute_reply": "2021-10-10T01:48:17.348417Z"
    },
    "id": "rkHd1gawLOpW"
   },
   "outputs": [],
   "source": [
    "def exponential_decay(lr0, s):\n",
    "    def exponential_decay_fn(epoch):\n",
    "        return lr0 * 0.1**(epoch / s)\n",
    "    return exponential_decay_fn\n",
    "\n",
    "exponential_decay_fn = exponential_decay(lr0=0.01, s=20)"
   ]
  },
  {
   "cell_type": "code",
   "execution_count": 80,
   "id": "51fd5066",
   "metadata": {
    "execution": {
     "iopub.execute_input": "2021-10-10T01:48:17.355471Z",
     "iopub.status.busy": "2021-10-10T01:48:17.354947Z",
     "iopub.status.idle": "2021-10-10T01:48:17.382424Z",
     "shell.execute_reply": "2021-10-10T01:48:17.382789Z"
    },
    "id": "ZpgT0jO3LOpW"
   },
   "outputs": [],
   "source": [
    "model = keras.models.Sequential([\n",
    "    keras.layers.Flatten(input_shape=[28, 28]),\n",
    "    keras.layers.Dense(300, activation=\"selu\", kernel_initializer=\"lecun_normal\"),\n",
    "    keras.layers.Dense(100, activation=\"selu\", kernel_initializer=\"lecun_normal\"),\n",
    "    keras.layers.Dense(10, activation=\"softmax\")\n",
    "])\n",
    "model.compile(loss=\"sparse_categorical_crossentropy\", optimizer=\"nadam\", metrics=[\"accuracy\"])\n",
    "n_epochs = 25"
   ]
  },
  {
   "cell_type": "code",
   "execution_count": 81,
   "id": "359412e2",
   "metadata": {
    "colab": {
     "base_uri": "https://localhost:8080/"
    },
    "execution": {
     "iopub.execute_input": "2021-10-10T01:48:17.387048Z",
     "iopub.status.busy": "2021-10-10T01:48:17.386588Z",
     "iopub.status.idle": "2021-10-10T01:50:16.164869Z",
     "shell.execute_reply": "2021-10-10T01:50:16.165266Z"
    },
    "id": "cQu05HxbLOpW",
    "outputId": "02764f6b-37ac-4468-dfe7-d38759d9ac72"
   },
   "outputs": [
    {
     "name": "stdout",
     "output_type": "stream",
     "text": [
      "Epoch 1/25\n",
      "1719/1719 [==============================] - 7s 4ms/step - loss: 0.8513 - accuracy: 0.7531 - val_loss: 0.8886 - val_accuracy: 0.7132 - lr: 0.0100\n",
      "Epoch 2/25\n",
      "1719/1719 [==============================] - 7s 4ms/step - loss: 0.6760 - accuracy: 0.7976 - val_loss: 0.7270 - val_accuracy: 0.8162 - lr: 0.0089\n",
      "Epoch 3/25\n",
      "1719/1719 [==============================] - 7s 4ms/step - loss: 0.6356 - accuracy: 0.8100 - val_loss: 0.6359 - val_accuracy: 0.8254 - lr: 0.0079\n",
      "Epoch 4/25\n",
      "1719/1719 [==============================] - 7s 4ms/step - loss: 0.5631 - accuracy: 0.8294 - val_loss: 0.6169 - val_accuracy: 0.8394 - lr: 0.0071\n",
      "Epoch 5/25\n",
      "1719/1719 [==============================] - 7s 4ms/step - loss: 0.4960 - accuracy: 0.8463 - val_loss: 0.4688 - val_accuracy: 0.8592 - lr: 0.0063\n",
      "Epoch 6/25\n",
      "1719/1719 [==============================] - 7s 4ms/step - loss: 0.4498 - accuracy: 0.8587 - val_loss: 0.4674 - val_accuracy: 0.8508 - lr: 0.0056\n",
      "Epoch 7/25\n",
      "1719/1719 [==============================] - 6s 4ms/step - loss: 0.4212 - accuracy: 0.8667 - val_loss: 0.5528 - val_accuracy: 0.8564 - lr: 0.0050\n",
      "Epoch 8/25\n",
      "1719/1719 [==============================] - 7s 4ms/step - loss: 0.3750 - accuracy: 0.8769 - val_loss: 0.5551 - val_accuracy: 0.8470 - lr: 0.0045\n",
      "Epoch 9/25\n",
      "1719/1719 [==============================] - 6s 3ms/step - loss: 0.3469 - accuracy: 0.8842 - val_loss: 0.4715 - val_accuracy: 0.8704 - lr: 0.0040\n",
      "Epoch 10/25\n",
      "1719/1719 [==============================] - 6s 4ms/step - loss: 0.3299 - accuracy: 0.8907 - val_loss: 0.4195 - val_accuracy: 0.8716 - lr: 0.0035\n",
      "Epoch 11/25\n",
      "1719/1719 [==============================] - 7s 4ms/step - loss: 0.3000 - accuracy: 0.8989 - val_loss: 0.4450 - val_accuracy: 0.8730 - lr: 0.0032\n",
      "Epoch 12/25\n",
      "1719/1719 [==============================] - 7s 4ms/step - loss: 0.2836 - accuracy: 0.9034 - val_loss: 0.4411 - val_accuracy: 0.8730 - lr: 0.0028\n",
      "Epoch 13/25\n",
      "1719/1719 [==============================] - 7s 4ms/step - loss: 0.2639 - accuracy: 0.9093 - val_loss: 0.4596 - val_accuracy: 0.8808 - lr: 0.0025\n",
      "Epoch 14/25\n",
      "1719/1719 [==============================] - 7s 4ms/step - loss: 0.2415 - accuracy: 0.9168 - val_loss: 0.4816 - val_accuracy: 0.8744 - lr: 0.0022\n",
      "Epoch 15/25\n",
      "1719/1719 [==============================] - 8s 4ms/step - loss: 0.2255 - accuracy: 0.9226 - val_loss: 0.4981 - val_accuracy: 0.8776 - lr: 0.0020\n",
      "Epoch 16/25\n",
      "1719/1719 [==============================] - 7s 4ms/step - loss: 0.2099 - accuracy: 0.9280 - val_loss: 0.4873 - val_accuracy: 0.8814 - lr: 0.0018\n",
      "Epoch 17/25\n",
      "1719/1719 [==============================] - 7s 4ms/step - loss: 0.1954 - accuracy: 0.9323 - val_loss: 0.4762 - val_accuracy: 0.8834 - lr: 0.0016\n",
      "Epoch 18/25\n",
      "1719/1719 [==============================] - 7s 4ms/step - loss: 0.1805 - accuracy: 0.9373 - val_loss: 0.5003 - val_accuracy: 0.8840 - lr: 0.0014\n",
      "Epoch 19/25\n",
      "1719/1719 [==============================] - 6s 4ms/step - loss: 0.1674 - accuracy: 0.9419 - val_loss: 0.4820 - val_accuracy: 0.8894 - lr: 0.0013\n",
      "Epoch 20/25\n",
      "1719/1719 [==============================] - 6s 4ms/step - loss: 0.1567 - accuracy: 0.9459 - val_loss: 0.4880 - val_accuracy: 0.8854 - lr: 0.0011\n",
      "Epoch 21/25\n",
      "1719/1719 [==============================] - 6s 4ms/step - loss: 0.1455 - accuracy: 0.9494 - val_loss: 0.5431 - val_accuracy: 0.8882 - lr: 0.0010\n",
      "Epoch 22/25\n",
      "1719/1719 [==============================] - 7s 4ms/step - loss: 0.1357 - accuracy: 0.9530 - val_loss: 0.5591 - val_accuracy: 0.8836 - lr: 8.9125e-04\n",
      "Epoch 23/25\n",
      "1719/1719 [==============================] - 6s 4ms/step - loss: 0.1258 - accuracy: 0.9572 - val_loss: 0.5937 - val_accuracy: 0.8864 - lr: 7.9433e-04\n",
      "Epoch 24/25\n",
      "1719/1719 [==============================] - 6s 3ms/step - loss: 0.1186 - accuracy: 0.9599 - val_loss: 0.5948 - val_accuracy: 0.8850 - lr: 7.0795e-04\n",
      "Epoch 25/25\n",
      "1719/1719 [==============================] - 6s 4ms/step - loss: 0.1115 - accuracy: 0.9628 - val_loss: 0.6370 - val_accuracy: 0.8874 - lr: 6.3096e-04\n"
     ]
    }
   ],
   "source": [
    "lr_scheduler = keras.callbacks.LearningRateScheduler(exponential_decay_fn)\n",
    "history = model.fit(X_train_scaled, y_train, epochs=n_epochs,\n",
    "                    validation_data=(X_valid_scaled, y_valid),\n",
    "                    callbacks=[lr_scheduler])"
   ]
  },
  {
   "cell_type": "code",
   "execution_count": 82,
   "id": "b332c6b7",
   "metadata": {
    "colab": {
     "base_uri": "https://localhost:8080/",
     "height": 303
    },
    "execution": {
     "iopub.execute_input": "2021-10-10T01:50:16.181868Z",
     "iopub.status.busy": "2021-10-10T01:50:16.181205Z",
     "iopub.status.idle": "2021-10-10T01:50:16.288294Z",
     "shell.execute_reply": "2021-10-10T01:50:16.287704Z"
    },
    "id": "o06AUsZjLOpW",
    "outputId": "d45e3247-e40f-43d0-8eac-f8de5aef207e"
   },
   "outputs": [
    {
     "data": {
      "image/png": "[encoded data removed]",
      "text/plain": [
       "<Figure size 432x288 with 1 Axes>"
      ]
     },
     "metadata": {
      "needs_background": "light"
     },
     "output_type": "display_data"
    }
   ],
   "source": [
    "plt.plot(history.epoch, history.history[\"lr\"], \"o-\")\n",
    "plt.axis([0, n_epochs - 1, 0, 0.011])\n",
    "plt.xlabel(\"Epoch\")\n",
    "plt.ylabel(\"Learning Rate\")\n",
    "plt.title(\"Exponential Scheduling\", fontsize=14)\n",
    "plt.grid(True)\n",
    "plt.show()"
   ]
  },
  {
   "cell_type": "markdown",
   "id": "1e8f6dee",
   "metadata": {
    "id": "y4leAQjZLOpW"
   },
   "source": [
    "이 스케줄 함수는 두 번째 매개변수로 현재 학습률을 받을 수 있습니다:"
   ]
  },
  {
   "cell_type": "code",
   "execution_count": 83,
   "id": "a0deabfa",
   "metadata": {
    "execution": {
     "iopub.execute_input": "2021-10-10T01:50:16.292347Z",
     "iopub.status.busy": "2021-10-10T01:50:16.291870Z",
     "iopub.status.idle": "2021-10-10T01:50:16.293831Z",
     "shell.execute_reply": "2021-10-10T01:50:16.293416Z"
    },
    "id": "S5QPkNZmLOpW"
   },
   "outputs": [],
   "source": [
    "def exponential_decay_fn(epoch, lr):\n",
    "    return lr * 0.1**(1 / 20)"
   ]
  },
  {
   "cell_type": "markdown",
   "id": "4e9a727c",
   "metadata": {
    "id": "2MB6gpmtLOpX"
   },
   "source": [
    "에포크가 아니라 반복마다 학습률을 업데이트하려면 사용자 정의 콜백 클래스를 작성해야 합니다:"
   ]
  },
  {
   "cell_type": "code",
   "execution_count": 84,
   "id": "cbe59eb1",
   "metadata": {
    "colab": {
     "base_uri": "https://localhost:8080/"
    },
    "execution": {
     "iopub.execute_input": "2021-10-10T01:50:16.304602Z",
     "iopub.status.busy": "2021-10-10T01:50:16.300922Z",
     "iopub.status.idle": "2021-10-10T01:52:30.062081Z",
     "shell.execute_reply": "2021-10-10T01:52:30.062480Z"
    },
    "id": "qpWM_UXaLOpX",
    "outputId": "8cb93574-0746-4276-e079-a57a324189fd"
   },
   "outputs": [
    {
     "name": "stdout",
     "output_type": "stream",
     "text": [
      "Epoch 1/25\n",
      "1719/1719 [==============================] - 10s 5ms/step - loss: 0.8029 - accuracy: 0.7649 - val_loss: 0.8729 - val_accuracy: 0.7412 - lr: 0.0089\n",
      "Epoch 2/25\n",
      "1719/1719 [==============================] - 8s 5ms/step - loss: 0.6330 - accuracy: 0.8040 - val_loss: 0.6496 - val_accuracy: 0.8196 - lr: 0.0079\n",
      "Epoch 3/25\n",
      "1719/1719 [==============================] - 8s 5ms/step - loss: 0.5587 - accuracy: 0.8260 - val_loss: 0.6948 - val_accuracy: 0.7944 - lr: 0.0071\n",
      "Epoch 4/25\n",
      "1719/1719 [==============================] - 9s 5ms/step - loss: 0.5023 - accuracy: 0.8404 - val_loss: 0.4598 - val_accuracy: 0.8564 - lr: 0.0063\n",
      "Epoch 5/25\n",
      "1719/1719 [==============================] - 8s 4ms/step - loss: 0.4657 - accuracy: 0.8541 - val_loss: 0.4658 - val_accuracy: 0.8750 - lr: 0.0056\n",
      "Epoch 6/25\n",
      "1719/1719 [==============================] - 8s 5ms/step - loss: 0.4308 - accuracy: 0.8623 - val_loss: 0.4706 - val_accuracy: 0.8580 - lr: 0.0050\n",
      "Epoch 7/25\n",
      "1719/1719 [==============================] - 10s 6ms/step - loss: 0.3875 - accuracy: 0.8750 - val_loss: 0.5286 - val_accuracy: 0.8598 - lr: 0.0045\n",
      "Epoch 8/25\n",
      "1719/1719 [==============================] - 8s 5ms/step - loss: 0.3579 - accuracy: 0.8806 - val_loss: 0.4774 - val_accuracy: 0.8520 - lr: 0.0040\n",
      "Epoch 9/25\n",
      "1719/1719 [==============================] - 8s 5ms/step - loss: 0.3336 - accuracy: 0.8891 - val_loss: 0.4475 - val_accuracy: 0.8724 - lr: 0.0035\n",
      "Epoch 10/25\n",
      "1719/1719 [==============================] - 9s 5ms/step - loss: 0.3091 - accuracy: 0.8960 - val_loss: 0.4329 - val_accuracy: 0.8784 - lr: 0.0032\n",
      "Epoch 11/25\n",
      "1719/1719 [==============================] - 7s 4ms/step - loss: 0.2850 - accuracy: 0.9031 - val_loss: 0.4643 - val_accuracy: 0.8768 - lr: 0.0028\n",
      "Epoch 12/25\n",
      "1719/1719 [==============================] - 8s 5ms/step - loss: 0.2727 - accuracy: 0.9077 - val_loss: 0.4306 - val_accuracy: 0.8762 - lr: 0.0025\n",
      "Epoch 13/25\n",
      "1719/1719 [==============================] - 8s 5ms/step - loss: 0.2461 - accuracy: 0.9159 - val_loss: 0.4723 - val_accuracy: 0.8826 - lr: 0.0022\n",
      "Epoch 14/25\n",
      "1719/1719 [==============================] - 8s 5ms/step - loss: 0.2295 - accuracy: 0.9195 - val_loss: 0.4703 - val_accuracy: 0.8804 - lr: 0.0020\n",
      "Epoch 15/25\n",
      "1719/1719 [==============================] - 8s 4ms/step - loss: 0.2206 - accuracy: 0.9258 - val_loss: 0.4585 - val_accuracy: 0.8838 - lr: 0.0018\n",
      "Epoch 16/25\n",
      "1719/1719 [==============================] - 7s 4ms/step - loss: 0.1991 - accuracy: 0.9322 - val_loss: 0.4494 - val_accuracy: 0.8922 - lr: 0.0016\n",
      "Epoch 17/25\n",
      "1719/1719 [==============================] - 8s 4ms/step - loss: 0.1863 - accuracy: 0.9377 - val_loss: 0.4882 - val_accuracy: 0.8876 - lr: 0.0014\n",
      "Epoch 18/25\n",
      "1719/1719 [==============================] - 8s 4ms/step - loss: 0.1721 - accuracy: 0.9412 - val_loss: 0.4672 - val_accuracy: 0.8924 - lr: 0.0013\n",
      "Epoch 19/25\n",
      "1719/1719 [==============================] - 9s 5ms/step - loss: 0.1594 - accuracy: 0.9465 - val_loss: 0.4880 - val_accuracy: 0.8868 - lr: 0.0011\n",
      "Epoch 20/25\n",
      "1719/1719 [==============================] - 8s 5ms/step - loss: 0.1502 - accuracy: 0.9502 - val_loss: 0.4811 - val_accuracy: 0.8908 - lr: 9.9967e-04\n",
      "Epoch 21/25\n",
      "1719/1719 [==============================] - 8s 5ms/step - loss: 0.1378 - accuracy: 0.9544 - val_loss: 0.5209 - val_accuracy: 0.8886 - lr: 8.9094e-04\n",
      "Epoch 22/25\n",
      "1719/1719 [==============================] - 9s 5ms/step - loss: 0.1302 - accuracy: 0.9573 - val_loss: 0.5518 - val_accuracy: 0.8918 - lr: 7.9404e-04\n",
      "Epoch 23/25\n",
      "1719/1719 [==============================] - 9s 5ms/step - loss: 0.1219 - accuracy: 0.9606 - val_loss: 0.5392 - val_accuracy: 0.8908 - lr: 7.0767e-04\n",
      "Epoch 24/25\n",
      "1719/1719 [==============================] - 9s 5ms/step - loss: 0.1152 - accuracy: 0.9631 - val_loss: 0.5830 - val_accuracy: 0.8892 - lr: 6.3071e-04\n",
      "Epoch 25/25\n",
      "1719/1719 [==============================] - 8s 5ms/step - loss: 0.1086 - accuracy: 0.9652 - val_loss: 0.6056 - val_accuracy: 0.8888 - lr: 5.6211e-04\n"
     ]
    }
   ],
   "source": [
    "K = keras.backend\n",
    "\n",
    "class ExponentialDecay(keras.callbacks.Callback):\n",
    "    def __init__(self, s=40000):\n",
    "        super().__init__()\n",
    "        self.s = s\n",
    "\n",
    "    def on_batch_begin(self, batch, logs=None):\n",
    "        # 노트: 에포크마다 `batch` 매개변수가 재설정됩니다\n",
    "        lr = K.get_value(self.model.optimizer.lr)\n",
    "        K.set_value(self.model.optimizer.lr, lr * 0.1**(1 / self.s))\n",
    "\n",
    "    def on_epoch_end(self, epoch, logs=None):\n",
    "        logs = logs or {}\n",
    "        logs['lr'] = K.get_value(self.model.optimizer.lr)\n",
    "\n",
    "model = keras.models.Sequential([\n",
    "    keras.layers.Flatten(input_shape=[28, 28]),\n",
    "    keras.layers.Dense(300, activation=\"selu\", kernel_initializer=\"lecun_normal\"),\n",
    "    keras.layers.Dense(100, activation=\"selu\", kernel_initializer=\"lecun_normal\"),\n",
    "    keras.layers.Dense(10, activation=\"softmax\")\n",
    "])\n",
    "lr0 = 0.01\n",
    "optimizer = keras.optimizers.Nadam(learning_rate=lr0)\n",
    "model.compile(loss=\"sparse_categorical_crossentropy\", optimizer=optimizer, metrics=[\"accuracy\"])\n",
    "n_epochs = 25\n",
    "\n",
    "s = 20 * len(X_train) // 32 # 20 에포크 동안 스텝 횟수 (배치 크기 = 32)\n",
    "exp_decay = ExponentialDecay(s)\n",
    "history = model.fit(X_train_scaled, y_train, epochs=n_epochs,\n",
    "                    validation_data=(X_valid_scaled, y_valid),\n",
    "                    callbacks=[exp_decay])"
   ]
  },
  {
   "cell_type": "code",
   "execution_count": 85,
   "id": "50c79aa8",
   "metadata": {
    "execution": {
     "iopub.execute_input": "2021-10-10T01:52:30.066416Z",
     "iopub.status.busy": "2021-10-10T01:52:30.065978Z",
     "iopub.status.idle": "2021-10-10T01:52:30.070940Z",
     "shell.execute_reply": "2021-10-10T01:52:30.071306Z"
    },
    "id": "xsajfS10LOpX"
   },
   "outputs": [],
   "source": [
    "n_steps = n_epochs * len(X_train) // 32\n",
    "steps = np.arange(n_steps)\n",
    "lrs = lr0 * 0.1**(steps / s)"
   ]
  },
  {
   "cell_type": "code",
   "execution_count": 86,
   "id": "7d141614",
   "metadata": {
    "colab": {
     "base_uri": "https://localhost:8080/",
     "height": 303
    },
    "execution": {
     "iopub.execute_input": "2021-10-10T01:52:30.073923Z",
     "iopub.status.busy": "2021-10-10T01:52:30.073468Z",
     "iopub.status.idle": "2021-10-10T01:52:30.213299Z",
     "shell.execute_reply": "2021-10-10T01:52:30.213661Z"
    },
    "id": "nn7VunvILOpX",
    "outputId": "f398261d-37b9-4169-90a9-b54dc00182eb",
    "scrolled": true
   },
   "outputs": [
    {
     "data": {
      "image/png": "[encoded data removed]",
      "text/plain": [
       "<Figure size 432x288 with 1 Axes>"
      ]
     },
     "metadata": {
      "needs_background": "light"
     },
     "output_type": "display_data"
    }
   ],
   "source": [
    "plt.plot(steps, lrs, \"-\", linewidth=2)\n",
    "plt.axis([0, n_steps - 1, 0, lr0 * 1.1])\n",
    "plt.xlabel(\"Batch\")\n",
    "plt.ylabel(\"Learning Rate\")\n",
    "plt.title(\"Exponential Scheduling (per batch)\", fontsize=14)\n",
    "plt.grid(True)\n",
    "plt.show()"
   ]
  },
  {
   "cell_type": "markdown",
   "id": "1497740d",
   "metadata": {
    "id": "t_Zq20ztLOpX"
   },
   "source": [
    "### 기간별 고정 스케줄링"
   ]
  },
  {
   "cell_type": "markdown",
   "id": "49d68e70",
   "metadata": {},
   "source": [
    "일정 횟수의 에포크 동안 일정 학습률을 사용하고, 다른 횟수의 에포크 동안 작은 학습률을 사용하는 방법"
   ]
  },
  {
   "cell_type": "code",
   "execution_count": 87,
   "id": "3866e87a",
   "metadata": {
    "execution": {
     "iopub.execute_input": "2021-10-10T01:52:30.217682Z",
     "iopub.status.busy": "2021-10-10T01:52:30.217244Z",
     "iopub.status.idle": "2021-10-10T01:52:30.218896Z",
     "shell.execute_reply": "2021-10-10T01:52:30.219201Z"
    },
    "id": "up9WMAqWLOpX"
   },
   "outputs": [],
   "source": [
    "def piecewise_constant_fn(epoch):\n",
    "    if epoch < 5:\n",
    "        return 0.01\n",
    "    elif epoch < 15:\n",
    "        return 0.005\n",
    "    else:\n",
    "        return 0.001"
   ]
  },
  {
   "cell_type": "code",
   "execution_count": 88,
   "id": "2db9f1ec",
   "metadata": {
    "execution": {
     "iopub.execute_input": "2021-10-10T01:52:30.223706Z",
     "iopub.status.busy": "2021-10-10T01:52:30.223298Z",
     "iopub.status.idle": "2021-10-10T01:52:30.225327Z",
     "shell.execute_reply": "2021-10-10T01:52:30.224967Z"
    },
    "id": "8isT8EI0LOpY"
   },
   "outputs": [],
   "source": [
    "def piecewise_constant(boundaries, values):\n",
    "    boundaries = np.array([0] + boundaries)\n",
    "    values = np.array(values)\n",
    "    def piecewise_constant_fn(epoch):\n",
    "        return values[np.argmax(boundaries > epoch) - 1]\n",
    "    return piecewise_constant_fn\n",
    "\n",
    "piecewise_constant_fn = piecewise_constant([5, 15], [0.01, 0.005, 0.001])"
   ]
  },
  {
   "cell_type": "code",
   "execution_count": 89,
   "id": "c57664bc",
   "metadata": {
    "colab": {
     "base_uri": "https://localhost:8080/"
    },
    "execution": {
     "iopub.execute_input": "2021-10-10T01:52:30.232878Z",
     "iopub.status.busy": "2021-10-10T01:52:30.232456Z",
     "iopub.status.idle": "2021-10-10T01:54:28.727692Z",
     "shell.execute_reply": "2021-10-10T01:54:28.727295Z"
    },
    "id": "-1w63apOLOpY",
    "outputId": "3d24bc26-1f4a-4688-9e20-f337dae29b0d"
   },
   "outputs": [
    {
     "name": "stdout",
     "output_type": "stream",
     "text": [
      "Epoch 1/25\n",
      "1719/1719 [==============================] - 9s 4ms/step - loss: 0.8253 - accuracy: 0.7610 - val_loss: 1.0720 - val_accuracy: 0.6730 - lr: 0.0100\n",
      "Epoch 2/25\n",
      "1719/1719 [==============================] - 7s 4ms/step - loss: 0.8130 - accuracy: 0.7638 - val_loss: 0.7956 - val_accuracy: 0.7618 - lr: 0.0100\n",
      "Epoch 3/25\n",
      "1719/1719 [==============================] - 6s 4ms/step - loss: 1.0812 - accuracy: 0.6795 - val_loss: 1.1817 - val_accuracy: 0.5778 - lr: 0.0100\n",
      "Epoch 4/25\n",
      "1719/1719 [==============================] - 7s 4ms/step - loss: 0.9365 - accuracy: 0.7273 - val_loss: 1.0723 - val_accuracy: 0.7218 - lr: 0.0100\n",
      "Epoch 5/25\n",
      "1719/1719 [==============================] - 6s 4ms/step - loss: 0.9127 - accuracy: 0.7331 - val_loss: 0.8140 - val_accuracy: 0.7448 - lr: 0.0100\n",
      "Epoch 6/25\n",
      "1719/1719 [==============================] - 6s 3ms/step - loss: 0.5939 - accuracy: 0.8173 - val_loss: 0.6253 - val_accuracy: 0.8242 - lr: 0.0050\n",
      "Epoch 7/25\n",
      "1719/1719 [==============================] - 7s 4ms/step - loss: 0.5651 - accuracy: 0.8317 - val_loss: 0.5828 - val_accuracy: 0.8284 - lr: 0.0050\n",
      "Epoch 8/25\n",
      "1719/1719 [==============================] - 7s 4ms/step - loss: 0.5291 - accuracy: 0.8382 - val_loss: 0.6526 - val_accuracy: 0.8214 - lr: 0.0050\n",
      "Epoch 9/25\n",
      "1719/1719 [==============================] - 6s 4ms/step - loss: 0.5195 - accuracy: 0.8417 - val_loss: 0.6660 - val_accuracy: 0.8038 - lr: 0.0050\n",
      "Epoch 10/25\n",
      "1719/1719 [==============================] - 7s 4ms/step - loss: 0.5166 - accuracy: 0.8442 - val_loss: 0.6558 - val_accuracy: 0.8484 - lr: 0.0050\n",
      "Epoch 11/25\n",
      "1719/1719 [==============================] - 6s 3ms/step - loss: 0.4875 - accuracy: 0.8520 - val_loss: 0.5923 - val_accuracy: 0.8476 - lr: 0.0050\n",
      "Epoch 12/25\n",
      "1719/1719 [==============================] - 6s 3ms/step - loss: 0.4964 - accuracy: 0.8546 - val_loss: 0.6901 - val_accuracy: 0.8332 - lr: 0.0050\n",
      "Epoch 13/25\n",
      "1719/1719 [==============================] - 7s 4ms/step - loss: 0.4958 - accuracy: 0.8515 - val_loss: 0.6612 - val_accuracy: 0.8384 - lr: 0.0050\n",
      "Epoch 14/25\n",
      "1719/1719 [==============================] - 6s 4ms/step - loss: 0.4596 - accuracy: 0.8611 - val_loss: 0.6522 - val_accuracy: 0.8414 - lr: 0.0050\n",
      "Epoch 15/25\n",
      "1719/1719 [==============================] - 6s 4ms/step - loss: 0.4757 - accuracy: 0.8556 - val_loss: 0.7599 - val_accuracy: 0.8120 - lr: 0.0050\n",
      "Epoch 16/25\n",
      "1719/1719 [==============================] - 7s 4ms/step - loss: 0.3440 - accuracy: 0.8896 - val_loss: 0.5617 - val_accuracy: 0.8646 - lr: 0.0010\n",
      "Epoch 17/25\n",
      "1719/1719 [==============================] - 6s 3ms/step - loss: 0.3215 - accuracy: 0.8965 - val_loss: 0.6087 - val_accuracy: 0.8580 - lr: 0.0010\n",
      "Epoch 18/25\n",
      "1719/1719 [==============================] - 6s 3ms/step - loss: 0.3076 - accuracy: 0.9009 - val_loss: 0.6662 - val_accuracy: 0.8626 - lr: 0.0010\n",
      "Epoch 19/25\n",
      "1719/1719 [==============================] - 6s 4ms/step - loss: 0.3012 - accuracy: 0.9025 - val_loss: 0.5912 - val_accuracy: 0.8726 - lr: 0.0010\n",
      "Epoch 20/25\n",
      "1719/1719 [==============================] - 6s 4ms/step - loss: 0.2880 - accuracy: 0.9066 - val_loss: 0.5825 - val_accuracy: 0.8722 - lr: 0.0010\n",
      "Epoch 21/25\n",
      "1719/1719 [==============================] - 7s 4ms/step - loss: 0.2797 - accuracy: 0.9093 - val_loss: 0.5924 - val_accuracy: 0.8700 - lr: 0.0010\n",
      "Epoch 22/25\n",
      "1719/1719 [==============================] - 6s 4ms/step - loss: 0.2711 - accuracy: 0.9113 - val_loss: 0.6211 - val_accuracy: 0.8712 - lr: 0.0010\n",
      "Epoch 23/25\n",
      "1719/1719 [==============================] - 6s 4ms/step - loss: 0.2690 - accuracy: 0.9130 - val_loss: 0.6320 - val_accuracy: 0.8654 - lr: 0.0010\n",
      "Epoch 24/25\n",
      "1719/1719 [==============================] - 6s 3ms/step - loss: 0.2581 - accuracy: 0.9159 - val_loss: 0.6471 - val_accuracy: 0.8676 - lr: 0.0010\n",
      "Epoch 25/25\n",
      "1719/1719 [==============================] - 6s 3ms/step - loss: 0.2529 - accuracy: 0.9171 - val_loss: 0.6508 - val_accuracy: 0.8700 - lr: 0.0010\n"
     ]
    }
   ],
   "source": [
    "lr_scheduler = keras.callbacks.LearningRateScheduler(piecewise_constant_fn)\n",
    "\n",
    "model = keras.models.Sequential([\n",
    "    keras.layers.Flatten(input_shape=[28, 28]),\n",
    "    keras.layers.Dense(300, activation=\"selu\", kernel_initializer=\"lecun_normal\"),\n",
    "    keras.layers.Dense(100, activation=\"selu\", kernel_initializer=\"lecun_normal\"),\n",
    "    keras.layers.Dense(10, activation=\"softmax\")\n",
    "])\n",
    "model.compile(loss=\"sparse_categorical_crossentropy\", optimizer=\"nadam\", metrics=[\"accuracy\"])\n",
    "n_epochs = 25\n",
    "history = model.fit(X_train_scaled, y_train, epochs=n_epochs,\n",
    "                    validation_data=(X_valid_scaled, y_valid),\n",
    "                    callbacks=[lr_scheduler])"
   ]
  },
  {
   "cell_type": "code",
   "execution_count": 90,
   "id": "be5f9a08",
   "metadata": {
    "colab": {
     "base_uri": "https://localhost:8080/",
     "height": 303
    },
    "execution": {
     "iopub.execute_input": "2021-10-10T01:54:28.759763Z",
     "iopub.status.busy": "2021-10-10T01:54:28.745242Z",
     "iopub.status.idle": "2021-10-10T01:54:28.844730Z",
     "shell.execute_reply": "2021-10-10T01:54:28.844017Z"
    },
    "id": "iP46umHULOpY",
    "outputId": "2f649d52-26f2-4d3a-f9e4-6b22e98505ec"
   },
   "outputs": [
    {
     "data": {
      "image/png": "[encoded data removed]",
      "text/plain": [
       "<Figure size 432x288 with 1 Axes>"
      ]
     },
     "metadata": {
      "needs_background": "light"
     },
     "output_type": "display_data"
    }
   ],
   "source": [
    "plt.plot(history.epoch, [piecewise_constant_fn(epoch) for epoch in history.epoch], \"o-\")\n",
    "plt.axis([0, n_epochs - 1, 0, 0.011])\n",
    "plt.xlabel(\"Epoch\")\n",
    "plt.ylabel(\"Learning Rate\")\n",
    "plt.title(\"Piecewise Constant Scheduling\", fontsize=14)\n",
    "plt.grid(True)\n",
    "plt.show()"
   ]
  },
  {
   "cell_type": "markdown",
   "id": "34442fd7",
   "metadata": {
    "id": "PcBjd75fLOpY"
   },
   "source": [
    "### 성능 기반 스케줄링"
   ]
  },
  {
   "cell_type": "markdown",
   "id": "abb7627c",
   "metadata": {},
   "source": [
    "매 N 스탭마다 검증 오차를 측정하고 오차가 줄지 않으면 람다배만큼 학습률을 감소시킨다"
   ]
  },
  {
   "cell_type": "code",
   "execution_count": 91,
   "id": "bc141ae3",
   "metadata": {
    "execution": {
     "iopub.execute_input": "2021-10-10T01:54:28.866786Z",
     "iopub.status.busy": "2021-10-10T01:54:28.866327Z",
     "iopub.status.idle": "2021-10-10T01:54:28.869634Z",
     "shell.execute_reply": "2021-10-10T01:54:28.869117Z"
    },
    "id": "JBL86sCNLOpY"
   },
   "outputs": [],
   "source": [
    "tf.random.set_seed(42)\n",
    "np.random.seed(42)"
   ]
  },
  {
   "cell_type": "code",
   "execution_count": 92,
   "id": "36228807",
   "metadata": {
    "colab": {
     "base_uri": "https://localhost:8080/"
    },
    "execution": {
     "iopub.execute_input": "2021-10-10T01:54:28.878312Z",
     "iopub.status.busy": "2021-10-10T01:54:28.877845Z",
     "iopub.status.idle": "2021-10-10T01:55:53.477033Z",
     "shell.execute_reply": "2021-10-10T01:55:53.477427Z"
    },
    "id": "e_Bc-HBcLOpY",
    "outputId": "ffcfd1c1-2a84-441f-d2cf-50f8ea109e13"
   },
   "outputs": [
    {
     "name": "stdout",
     "output_type": "stream",
     "text": [
      "Epoch 1/25\n",
      "1719/1719 [==============================] - 6s 3ms/step - loss: 0.6003 - accuracy: 0.8056 - val_loss: 0.5262 - val_accuracy: 0.8420 - lr: 0.0200\n",
      "Epoch 2/25\n",
      "1719/1719 [==============================] - 6s 3ms/step - loss: 0.5080 - accuracy: 0.8388 - val_loss: 0.6192 - val_accuracy: 0.8336 - lr: 0.0200\n",
      "Epoch 3/25\n",
      "1719/1719 [==============================] - 6s 3ms/step - loss: 0.5131 - accuracy: 0.8409 - val_loss: 0.5487 - val_accuracy: 0.8406 - lr: 0.0200\n",
      "Epoch 4/25\n",
      "1719/1719 [==============================] - 5s 3ms/step - loss: 0.5194 - accuracy: 0.8455 - val_loss: 0.4931 - val_accuracy: 0.8486 - lr: 0.0200\n",
      "Epoch 5/25\n",
      "1719/1719 [==============================] - 6s 4ms/step - loss: 0.5324 - accuracy: 0.8461 - val_loss: 0.5416 - val_accuracy: 0.8364 - lr: 0.0200\n",
      "Epoch 6/25\n",
      "1719/1719 [==============================] - 5s 3ms/step - loss: 0.5121 - accuracy: 0.8521 - val_loss: 0.5735 - val_accuracy: 0.8540 - lr: 0.0200\n",
      "Epoch 7/25\n",
      "1719/1719 [==============================] - 6s 3ms/step - loss: 0.5130 - accuracy: 0.8555 - val_loss: 0.5489 - val_accuracy: 0.8524 - lr: 0.0200\n",
      "Epoch 8/25\n",
      "1719/1719 [==============================] - 6s 3ms/step - loss: 0.5195 - accuracy: 0.8559 - val_loss: 0.6614 - val_accuracy: 0.8296 - lr: 0.0200\n",
      "Epoch 9/25\n",
      "1719/1719 [==============================] - 6s 3ms/step - loss: 0.5094 - accuracy: 0.8574 - val_loss: 0.6765 - val_accuracy: 0.8406 - lr: 0.0200\n",
      "Epoch 10/25\n",
      "1719/1719 [==============================] - 6s 4ms/step - loss: 0.2941 - accuracy: 0.8973 - val_loss: 0.3858 - val_accuracy: 0.8912 - lr: 0.0100\n",
      "Epoch 11/25\n",
      "1719/1719 [==============================] - 5s 3ms/step - loss: 0.2436 - accuracy: 0.9105 - val_loss: 0.4325 - val_accuracy: 0.8790 - lr: 0.0100\n",
      "Epoch 12/25\n",
      "1719/1719 [==============================] - 7s 4ms/step - loss: 0.2331 - accuracy: 0.9148 - val_loss: 0.4328 - val_accuracy: 0.8794 - lr: 0.0100\n",
      "Epoch 13/25\n",
      "1719/1719 [==============================] - 4s 3ms/step - loss: 0.2115 - accuracy: 0.9218 - val_loss: 0.4386 - val_accuracy: 0.8850 - lr: 0.0100\n",
      "Epoch 14/25\n",
      "1719/1719 [==============================] - 7s 4ms/step - loss: 0.1968 - accuracy: 0.9262 - val_loss: 0.4404 - val_accuracy: 0.8832 - lr: 0.0100\n",
      "Epoch 15/25\n",
      "1719/1719 [==============================] - 6s 3ms/step - loss: 0.1912 - accuracy: 0.9275 - val_loss: 0.4417 - val_accuracy: 0.8846 - lr: 0.0100\n",
      "Epoch 16/25\n",
      "1719/1719 [==============================] - 6s 4ms/step - loss: 0.1352 - accuracy: 0.9458 - val_loss: 0.4330 - val_accuracy: 0.8952 - lr: 0.0050\n",
      "Epoch 17/25\n",
      "1719/1719 [==============================] - 6s 4ms/step - loss: 0.1224 - accuracy: 0.9516 - val_loss: 0.4714 - val_accuracy: 0.8912 - lr: 0.0050\n",
      "Epoch 18/25\n",
      "1719/1719 [==============================] - 6s 4ms/step - loss: 0.1138 - accuracy: 0.9545 - val_loss: 0.4791 - val_accuracy: 0.8908 - lr: 0.0050\n",
      "Epoch 19/25\n",
      "1719/1719 [==============================] - 6s 4ms/step - loss: 0.1084 - accuracy: 0.9573 - val_loss: 0.4779 - val_accuracy: 0.8970 - lr: 0.0050\n",
      "Epoch 20/25\n",
      "1719/1719 [==============================] - 5s 3ms/step - loss: 0.1012 - accuracy: 0.9596 - val_loss: 0.4921 - val_accuracy: 0.8942 - lr: 0.0050\n",
      "Epoch 21/25\n",
      "1719/1719 [==============================] - 6s 4ms/step - loss: 0.0813 - accuracy: 0.9686 - val_loss: 0.5020 - val_accuracy: 0.8968 - lr: 0.0025\n",
      "Epoch 22/25\n",
      "1719/1719 [==============================] - 6s 3ms/step - loss: 0.0758 - accuracy: 0.9705 - val_loss: 0.5248 - val_accuracy: 0.8962 - lr: 0.0025\n",
      "Epoch 23/25\n",
      "1719/1719 [==============================] - 6s 4ms/step - loss: 0.0720 - accuracy: 0.9719 - val_loss: 0.5134 - val_accuracy: 0.8966 - lr: 0.0025\n",
      "Epoch 24/25\n",
      "1719/1719 [==============================] - 7s 4ms/step - loss: 0.0683 - accuracy: 0.9737 - val_loss: 0.5339 - val_accuracy: 0.8968 - lr: 0.0025\n",
      "Epoch 25/25\n",
      "1719/1719 [==============================] - 7s 4ms/step - loss: 0.0663 - accuracy: 0.9747 - val_loss: 0.5415 - val_accuracy: 0.8930 - lr: 0.0025\n"
     ]
    }
   ],
   "source": [
    "lr_scheduler = keras.callbacks.ReduceLROnPlateau(factor=0.5, patience=5)\n",
    "\n",
    "model = keras.models.Sequential([\n",
    "    keras.layers.Flatten(input_shape=[28, 28]),\n",
    "    keras.layers.Dense(300, activation=\"selu\", kernel_initializer=\"lecun_normal\"),\n",
    "    keras.layers.Dense(100, activation=\"selu\", kernel_initializer=\"lecun_normal\"),\n",
    "    keras.layers.Dense(10, activation=\"softmax\")\n",
    "])\n",
    "optimizer = keras.optimizers.SGD(learning_rate=0.02, momentum=0.9)\n",
    "model.compile(loss=\"sparse_categorical_crossentropy\", optimizer=optimizer, metrics=[\"accuracy\"])\n",
    "n_epochs = 25\n",
    "history = model.fit(X_train_scaled, y_train, epochs=n_epochs,\n",
    "                    validation_data=(X_valid_scaled, y_valid),\n",
    "                    callbacks=[lr_scheduler])"
   ]
  },
  {
   "cell_type": "code",
   "execution_count": 93,
   "id": "0958da34",
   "metadata": {
    "colab": {
     "base_uri": "https://localhost:8080/",
     "height": 303
    },
    "execution": {
     "iopub.execute_input": "2021-10-10T01:55:53.492046Z",
     "iopub.status.busy": "2021-10-10T01:55:53.482969Z",
     "iopub.status.idle": "2021-10-10T01:55:53.655600Z",
     "shell.execute_reply": "2021-10-10T01:55:53.656033Z"
    },
    "id": "8pgrsYWWLOpZ",
    "outputId": "6c51dd76-8099-4cc0-c370-b6429ac53b1c"
   },
   "outputs": [
    {
     "data": {
      "image/png": "[encoded data removed]",
      "text/plain": [
       "<Figure size 432x288 with 2 Axes>"
      ]
     },
     "metadata": {
      "needs_background": "light"
     },
     "output_type": "display_data"
    }
   ],
   "source": [
    "plt.plot(history.epoch, history.history[\"lr\"], \"bo-\")\n",
    "plt.xlabel(\"Epoch\")\n",
    "plt.ylabel(\"Learning Rate\", color='b')\n",
    "plt.tick_params('y', colors='b')\n",
    "plt.gca().set_xlim(0, n_epochs - 1)\n",
    "plt.grid(True)\n",
    "\n",
    "ax2 = plt.gca().twinx()\n",
    "ax2.plot(history.epoch, history.history[\"val_loss\"], \"r^-\")\n",
    "ax2.set_ylabel('Validation Loss', color='r')\n",
    "ax2.tick_params('y', colors='r')\n",
    "\n",
    "plt.title(\"Reduce LR on Plateau\", fontsize=14)\n",
    "plt.show()"
   ]
  },
  {
   "cell_type": "markdown",
   "id": "a6b9f808",
   "metadata": {
    "id": "HezOhTgrLOpZ"
   },
   "source": [
    "### tf.keras 스케줄러"
   ]
  },
  {
   "cell_type": "code",
   "execution_count": 94,
   "id": "a7c7404f",
   "metadata": {
    "colab": {
     "base_uri": "https://localhost:8080/"
    },
    "execution": {
     "iopub.execute_input": "2021-10-10T01:55:53.663557Z",
     "iopub.status.busy": "2021-10-10T01:55:53.658013Z",
     "iopub.status.idle": "2021-10-10T01:57:12.590624Z",
     "shell.execute_reply": "2021-10-10T01:57:12.591032Z"
    },
    "id": "mM6gXVz4LOpZ",
    "outputId": "b360316b-a31c-4998-8167-1d6b55a41e23"
   },
   "outputs": [
    {
     "name": "stdout",
     "output_type": "stream",
     "text": [
      "Epoch 1/25\n",
      "1719/1719 [==============================] - 7s 4ms/step - loss: 0.4873 - accuracy: 0.8292 - val_loss: 0.4007 - val_accuracy: 0.8608\n",
      "Epoch 2/25\n",
      "1719/1719 [==============================] - 6s 3ms/step - loss: 0.3784 - accuracy: 0.8659 - val_loss: 0.3691 - val_accuracy: 0.8702\n",
      "Epoch 3/25\n",
      "1719/1719 [==============================] - 5s 3ms/step - loss: 0.3457 - accuracy: 0.8771 - val_loss: 0.3712 - val_accuracy: 0.8688\n",
      "Epoch 4/25\n",
      "1719/1719 [==============================] - 6s 3ms/step - loss: 0.3239 - accuracy: 0.8846 - val_loss: 0.3462 - val_accuracy: 0.8788\n",
      "Epoch 5/25\n",
      "1719/1719 [==============================] - 5s 3ms/step - loss: 0.3086 - accuracy: 0.8909 - val_loss: 0.3404 - val_accuracy: 0.8782\n",
      "Epoch 6/25\n",
      "1719/1719 [==============================] - 7s 4ms/step - loss: 0.2942 - accuracy: 0.8960 - val_loss: 0.3396 - val_accuracy: 0.8790\n",
      "Epoch 7/25\n",
      "1719/1719 [==============================] - 6s 4ms/step - loss: 0.2839 - accuracy: 0.8994 - val_loss: 0.3338 - val_accuracy: 0.8822\n",
      "Epoch 8/25\n",
      "1719/1719 [==============================] - 6s 3ms/step - loss: 0.2749 - accuracy: 0.9019 - val_loss: 0.3351 - val_accuracy: 0.8804\n",
      "Epoch 9/25\n",
      "1719/1719 [==============================] - 5s 3ms/step - loss: 0.2664 - accuracy: 0.9055 - val_loss: 0.3275 - val_accuracy: 0.8816\n",
      "Epoch 10/25\n",
      "1719/1719 [==============================] - 5s 3ms/step - loss: 0.2595 - accuracy: 0.9081 - val_loss: 0.3241 - val_accuracy: 0.8846\n",
      "Epoch 11/25\n",
      "1719/1719 [==============================] - 5s 3ms/step - loss: 0.2539 - accuracy: 0.9108 - val_loss: 0.3243 - val_accuracy: 0.8842\n",
      "Epoch 12/25\n",
      "1719/1719 [==============================] - 5s 3ms/step - loss: 0.2485 - accuracy: 0.9130 - val_loss: 0.3277 - val_accuracy: 0.8832\n",
      "Epoch 13/25\n",
      "1719/1719 [==============================] - 5s 3ms/step - loss: 0.2439 - accuracy: 0.9146 - val_loss: 0.3198 - val_accuracy: 0.8868\n",
      "Epoch 14/25\n",
      "1719/1719 [==============================] - 6s 3ms/step - loss: 0.2404 - accuracy: 0.9156 - val_loss: 0.3221 - val_accuracy: 0.8902\n",
      "Epoch 15/25\n",
      "1719/1719 [==============================] - 6s 3ms/step - loss: 0.2364 - accuracy: 0.9167 - val_loss: 0.3196 - val_accuracy: 0.8878\n",
      "Epoch 16/25\n",
      "1719/1719 [==============================] - 4s 3ms/step - loss: 0.2333 - accuracy: 0.9180 - val_loss: 0.3175 - val_accuracy: 0.8916\n",
      "Epoch 17/25\n",
      "1719/1719 [==============================] - 5s 3ms/step - loss: 0.2305 - accuracy: 0.9191 - val_loss: 0.3182 - val_accuracy: 0.8896\n",
      "Epoch 18/25\n",
      "1719/1719 [==============================] - 6s 4ms/step - loss: 0.2279 - accuracy: 0.9206 - val_loss: 0.3172 - val_accuracy: 0.8900\n",
      "Epoch 19/25\n",
      "1719/1719 [==============================] - 6s 3ms/step - loss: 0.2258 - accuracy: 0.9215 - val_loss: 0.3188 - val_accuracy: 0.8896\n",
      "Epoch 20/25\n",
      "1719/1719 [==============================] - 5s 3ms/step - loss: 0.2239 - accuracy: 0.9223 - val_loss: 0.3166 - val_accuracy: 0.8892\n",
      "Epoch 21/25\n",
      "1719/1719 [==============================] - 6s 4ms/step - loss: 0.2218 - accuracy: 0.9231 - val_loss: 0.3168 - val_accuracy: 0.8892\n",
      "Epoch 22/25\n",
      "1719/1719 [==============================] - 5s 3ms/step - loss: 0.2205 - accuracy: 0.9242 - val_loss: 0.3164 - val_accuracy: 0.8906\n",
      "Epoch 23/25\n",
      "1719/1719 [==============================] - 6s 3ms/step - loss: 0.2190 - accuracy: 0.9234 - val_loss: 0.3165 - val_accuracy: 0.8890\n",
      "Epoch 24/25\n",
      "1719/1719 [==============================] - 6s 3ms/step - loss: 0.2178 - accuracy: 0.9247 - val_loss: 0.3162 - val_accuracy: 0.8906\n",
      "Epoch 25/25\n",
      "1719/1719 [==============================] - 5s 3ms/step - loss: 0.2169 - accuracy: 0.9253 - val_loss: 0.3166 - val_accuracy: 0.8900\n"
     ]
    }
   ],
   "source": [
    "model = keras.models.Sequential([\n",
    "    keras.layers.Flatten(input_shape=[28, 28]),\n",
    "    keras.layers.Dense(300, activation=\"selu\", kernel_initializer=\"lecun_normal\"),\n",
    "    keras.layers.Dense(100, activation=\"selu\", kernel_initializer=\"lecun_normal\"),\n",
    "    keras.layers.Dense(10, activation=\"softmax\")\n",
    "])\n",
    "s = 20 * len(X_train) // 32 # number of steps in 20 epochs (batch size = 32)\n",
    "learning_rate = keras.optimizers.schedules.ExponentialDecay(0.01, s, 0.1)\n",
    "optimizer = keras.optimizers.SGD(learning_rate)\n",
    "model.compile(loss=\"sparse_categorical_crossentropy\", optimizer=optimizer, metrics=[\"accuracy\"])\n",
    "n_epochs = 25\n",
    "history = model.fit(X_train_scaled, y_train, epochs=n_epochs,\n",
    "                    validation_data=(X_valid_scaled, y_valid))"
   ]
  },
  {
   "cell_type": "markdown",
   "id": "f4f53731",
   "metadata": {
    "id": "e7s1E4aILOpZ"
   },
   "source": [
    "구간별 고정 스케줄링은 다음을 사용하세요:"
   ]
  },
  {
   "cell_type": "code",
   "execution_count": 95,
   "id": "b6bd2108",
   "metadata": {
    "execution": {
     "iopub.execute_input": "2021-10-10T01:57:12.595253Z",
     "iopub.status.busy": "2021-10-10T01:57:12.594760Z",
     "iopub.status.idle": "2021-10-10T01:57:12.597407Z",
     "shell.execute_reply": "2021-10-10T01:57:12.597816Z"
    },
    "id": "mB1XJs34LOpa"
   },
   "outputs": [],
   "source": [
    "learning_rate = keras.optimizers.schedules.PiecewiseConstantDecay(\n",
    "    boundaries=[5. * n_steps_per_epoch, 15. * n_steps_per_epoch],\n",
    "    values=[0.01, 0.005, 0.001])"
   ]
  },
  {
   "cell_type": "markdown",
   "id": "b5e90440",
   "metadata": {
    "id": "-QgJ_wlTLOpa"
   },
   "source": [
    "### 1사이클 스케줄링"
   ]
  },
  {
   "cell_type": "markdown",
   "id": "9f9e10cc",
   "metadata": {},
   "source": [
    "훈련 절반동안 초기 학습률을 선형적으로 증가 -> 나머지 절반동안 학습률을 다시 줄임"
   ]
  },
  {
   "cell_type": "code",
   "execution_count": 96,
   "id": "a12bb0d3",
   "metadata": {
    "execution": {
     "iopub.execute_input": "2021-10-10T01:57:12.600160Z",
     "iopub.status.busy": "2021-10-10T01:57:12.599683Z",
     "iopub.status.idle": "2021-10-10T01:57:12.607567Z",
     "shell.execute_reply": "2021-10-10T01:57:12.607949Z"
    },
    "id": "v2ZxFRyHLOpa"
   },
   "outputs": [],
   "source": [
    "K = keras.backend\n",
    "\n",
    "class ExponentialLearningRate(keras.callbacks.Callback):\n",
    "    def __init__(self, factor):\n",
    "        self.factor = factor\n",
    "        self.rates = []\n",
    "        self.losses = []\n",
    "    def on_batch_end(self, batch, logs):\n",
    "        self.rates.append(K.get_value(self.model.optimizer.lr))\n",
    "        self.losses.append(logs[\"loss\"])\n",
    "        K.set_value(self.model.optimizer.lr, self.model.optimizer.lr * self.factor)\n",
    "\n",
    "def find_learning_rate(model, X, y, epochs=1, batch_size=32, min_rate=10**-5, max_rate=10):\n",
    "    init_weights = model.get_weights()\n",
    "    iterations = math.ceil(len(X) / batch_size) * epochs\n",
    "    factor = np.exp(np.log(max_rate / min_rate) / iterations)\n",
    "    init_lr = K.get_value(model.optimizer.lr)\n",
    "    K.set_value(model.optimizer.lr, min_rate)\n",
    "    exp_lr = ExponentialLearningRate(factor)\n",
    "    history = model.fit(X, y, epochs=epochs, batch_size=batch_size,\n",
    "                        callbacks=[exp_lr])\n",
    "    K.set_value(model.optimizer.lr, init_lr)\n",
    "    model.set_weights(init_weights)\n",
    "    return exp_lr.rates, exp_lr.losses\n",
    "\n",
    "def plot_lr_vs_loss(rates, losses):\n",
    "    plt.plot(rates, losses)\n",
    "    plt.gca().set_xscale('log')\n",
    "    plt.hlines(min(losses), min(rates), max(rates))\n",
    "    plt.axis([min(rates), max(rates), min(losses), (losses[0] + min(losses)) / 2])\n",
    "    plt.xlabel(\"Learning rate\")\n",
    "    plt.ylabel(\"Loss\")"
   ]
  },
  {
   "cell_type": "markdown",
   "id": "9d720015",
   "metadata": {
    "id": "4Cttmp_YLv31"
   },
   "source": [
    "**경고**: `on_batch_end()` 메서드에서 `logs[\"loss\"]`로 배치 손실을 모으지만 텐서플로 2.2.0에서 (에포크의) 평균 손실로 바뀌었습니다. (텐서플로 2.2 이상을 사용한다면) 이런 이유로 아래 그래프가 이전보다 훨씬 부드럽습니다. 이는 그래프에서 배치 손실이 폭주하기 시작하는 지점과 그렇지 않은 지점 사이에 지연이 있다는 뜻입니다. 따라서 변동이 심한 그래프에서는 조금 더 작은 학습률을 선택해야 합니다. 또한 `ExponentialLearningRate` 콜백을 조금 바꾸어 (현재 평균 손실과 이전 평균 손실을 기반으로) 배치 손실을 계산할 수 있습니다:\n",
    "\n",
    "```python\n",
    "class ExponentialLearningRate(keras.callbacks.Callback):\n",
    "    def __init__(self, factor):\n",
    "        self.factor = factor\n",
    "        self.rates = []\n",
    "        self.losses = []\n",
    "    def on_epoch_begin(self, epoch, logs=None):\n",
    "        self.prev_loss = 0\n",
    "    def on_batch_end(self, batch, logs=None):\n",
    "        batch_loss = logs[\"loss\"] * (batch + 1) - self.prev_loss * batch\n",
    "        self.prev_loss = logs[\"loss\"]\n",
    "        self.rates.append(K.get_value(self.model.optimizer.lr))\n",
    "        self.losses.append(batch_loss)\n",
    "        K.set_value(self.model.optimizer.lr, self.model.optimizer.lr * self.factor)\n",
    "```"
   ]
  },
  {
   "cell_type": "code",
   "execution_count": 97,
   "id": "c505fa7e",
   "metadata": {
    "colab": {
     "base_uri": "https://localhost:8080/"
    },
    "execution": {
     "iopub.execute_input": "2021-10-10T01:57:12.610286Z",
     "iopub.status.busy": "2021-10-10T01:57:12.609804Z",
     "iopub.status.idle": "2021-10-10T01:57:12.650015Z",
     "shell.execute_reply": "2021-10-10T01:57:12.650412Z"
    },
    "id": "tmWjq-nILOpa",
    "outputId": "783a448c-e0aa-40c4-baaf-672fe71e9cb2"
   },
   "outputs": [],
   "source": [
    "tf.random.set_seed(42)\n",
    "np.random.seed(42)\n",
    "\n",
    "model = keras.models.Sequential([\n",
    "    keras.layers.Flatten(input_shape=[28, 28]),\n",
    "    keras.layers.Dense(300, activation=\"selu\", kernel_initializer=\"lecun_normal\"),\n",
    "    keras.layers.Dense(100, activation=\"selu\", kernel_initializer=\"lecun_normal\"),\n",
    "    keras.layers.Dense(10, activation=\"softmax\")\n",
    "])\n",
    "model.compile(loss=\"sparse_categorical_crossentropy\",\n",
    "              optimizer=keras.optimizers.SGD(learning_rate=1e-3),\n",
    "              metrics=[\"accuracy\"])"
   ]
  },
  {
   "cell_type": "code",
   "execution_count": 98,
   "id": "037cf66e",
   "metadata": {
    "colab": {
     "base_uri": "https://localhost:8080/",
     "height": 307
    },
    "execution": {
     "iopub.execute_input": "2021-10-10T01:57:12.654529Z",
     "iopub.status.busy": "2021-10-10T01:57:12.654075Z",
     "iopub.status.idle": "2021-10-10T01:57:15.002499Z",
     "shell.execute_reply": "2021-10-10T01:57:15.002098Z"
    },
    "id": "N7dpX40rLOpa",
    "outputId": "b76ef619-eeb1-4e4e-af5c-38d1e7336156"
   },
   "outputs": [
    {
     "name": "stdout",
     "output_type": "stream",
     "text": [
      "430/430 [==============================] - 2s 5ms/step - loss: nan - accuracy: 0.3698\n"
     ]
    },
    {
     "data": {
      "image/png": "[encoded data removed]",
      "text/plain": [
       "<Figure size 432x288 with 1 Axes>"
      ]
     },
     "metadata": {
      "needs_background": "light"
     },
     "output_type": "display_data"
    }
   ],
   "source": [
    "batch_size = 128\n",
    "rates, losses = find_learning_rate(model, X_train_scaled, y_train, epochs=1, batch_size=batch_size)\n",
    "plot_lr_vs_loss(rates, losses)"
   ]
  },
  {
   "cell_type": "code",
   "execution_count": 99,
   "id": "ce18733d",
   "metadata": {
    "execution": {
     "iopub.execute_input": "2021-10-10T01:57:15.009692Z",
     "iopub.status.busy": "2021-10-10T01:57:15.009177Z",
     "iopub.status.idle": "2021-10-10T01:57:15.011589Z",
     "shell.execute_reply": "2021-10-10T01:57:15.011207Z"
    },
    "id": "20u-WHSyLOpc"
   },
   "outputs": [],
   "source": [
    "class OneCycleScheduler(keras.callbacks.Callback):\n",
    "    def __init__(self, iterations, max_rate, start_rate=None,\n",
    "                 last_iterations=None, last_rate=None):\n",
    "        self.iterations = iterations\n",
    "        self.max_rate = max_rate\n",
    "        self.start_rate = start_rate or max_rate / 10\n",
    "        self.last_iterations = last_iterations or iterations // 10 + 1\n",
    "        self.half_iteration = (iterations - self.last_iterations) // 2\n",
    "        self.last_rate = last_rate or self.start_rate / 1000\n",
    "        self.iteration = 0\n",
    "    def _interpolate(self, iter1, iter2, rate1, rate2):\n",
    "        return ((rate2 - rate1) * (self.iteration - iter1)\n",
    "                / (iter2 - iter1) + rate1)\n",
    "    def on_batch_begin(self, batch, logs):\n",
    "        if self.iteration < self.half_iteration:\n",
    "            rate = self._interpolate(0, self.half_iteration, self.start_rate, self.max_rate)\n",
    "        elif self.iteration < 2 * self.half_iteration:\n",
    "            rate = self._interpolate(self.half_iteration, 2 * self.half_iteration,\n",
    "                                     self.max_rate, self.start_rate)\n",
    "        else:\n",
    "            rate = self._interpolate(2 * self.half_iteration, self.iterations,\n",
    "                                     self.start_rate, self.last_rate)\n",
    "        self.iteration += 1\n",
    "        K.set_value(self.model.optimizer.lr, rate)"
   ]
  },
  {
   "cell_type": "code",
   "execution_count": 100,
   "id": "3102f84d",
   "metadata": {
    "colab": {
     "base_uri": "https://localhost:8080/"
    },
    "execution": {
     "iopub.execute_input": "2021-10-10T01:57:15.016259Z",
     "iopub.status.busy": "2021-10-10T01:57:15.015403Z",
     "iopub.status.idle": "2021-10-10T01:57:48.534906Z",
     "shell.execute_reply": "2021-10-10T01:57:48.535314Z"
    },
    "id": "3T9DaJx8LOpc",
    "outputId": "322e5539-1922-48f2-b36a-e1789c1d4c66"
   },
   "outputs": [
    {
     "name": "stdout",
     "output_type": "stream",
     "text": [
      "Epoch 1/25\n",
      "430/430 [==============================] - 3s 7ms/step - loss: 0.6607 - accuracy: 0.7697 - val_loss: 0.4921 - val_accuracy: 0.8330\n",
      "Epoch 2/25\n",
      "430/430 [==============================] - 2s 5ms/step - loss: 0.4630 - accuracy: 0.8388 - val_loss: 0.4332 - val_accuracy: 0.8522\n",
      "Epoch 3/25\n",
      "430/430 [==============================] - 2s 5ms/step - loss: 0.4167 - accuracy: 0.8537 - val_loss: 0.4137 - val_accuracy: 0.8562\n",
      "Epoch 4/25\n",
      "430/430 [==============================] - 2s 5ms/step - loss: 0.3875 - accuracy: 0.8640 - val_loss: 0.3856 - val_accuracy: 0.8654\n",
      "Epoch 5/25\n",
      "430/430 [==============================] - 3s 6ms/step - loss: 0.3668 - accuracy: 0.8705 - val_loss: 0.3753 - val_accuracy: 0.8652\n",
      "Epoch 6/25\n",
      "430/430 [==============================] - 2s 6ms/step - loss: 0.3477 - accuracy: 0.8762 - val_loss: 0.3716 - val_accuracy: 0.8706\n",
      "Epoch 7/25\n",
      "430/430 [==============================] - 2s 5ms/step - loss: 0.3334 - accuracy: 0.8804 - val_loss: 0.3561 - val_accuracy: 0.8714\n",
      "Epoch 8/25\n",
      "430/430 [==============================] - 2s 5ms/step - loss: 0.3180 - accuracy: 0.8850 - val_loss: 0.3888 - val_accuracy: 0.8610\n",
      "Epoch 9/25\n",
      "430/430 [==============================] - 2s 6ms/step - loss: 0.3055 - accuracy: 0.8888 - val_loss: 0.3498 - val_accuracy: 0.8732\n",
      "Epoch 10/25\n",
      "430/430 [==============================] - 2s 6ms/step - loss: 0.2934 - accuracy: 0.8924 - val_loss: 0.3357 - val_accuracy: 0.8810\n",
      "Epoch 11/25\n",
      "430/430 [==============================] - 2s 5ms/step - loss: 0.2828 - accuracy: 0.8960 - val_loss: 0.3373 - val_accuracy: 0.8774\n",
      "Epoch 12/25\n",
      "430/430 [==============================] - 2s 4ms/step - loss: 0.2692 - accuracy: 0.9024 - val_loss: 0.3599 - val_accuracy: 0.8684\n",
      "Epoch 13/25\n",
      "430/430 [==============================] - 2s 4ms/step - loss: 0.2515 - accuracy: 0.9089 - val_loss: 0.3250 - val_accuracy: 0.8874\n",
      "Epoch 14/25\n",
      "430/430 [==============================] - 2s 4ms/step - loss: 0.2378 - accuracy: 0.9137 - val_loss: 0.3430 - val_accuracy: 0.8832\n",
      "Epoch 15/25\n",
      "430/430 [==============================] - 2s 5ms/step - loss: 0.2257 - accuracy: 0.9190 - val_loss: 0.3244 - val_accuracy: 0.8840\n",
      "Epoch 16/25\n",
      "430/430 [==============================] - 2s 5ms/step - loss: 0.2140 - accuracy: 0.9240 - val_loss: 0.3236 - val_accuracy: 0.8842\n",
      "Epoch 17/25\n",
      "430/430 [==============================] - 2s 6ms/step - loss: 0.2043 - accuracy: 0.9268 - val_loss: 0.3324 - val_accuracy: 0.8888\n",
      "Epoch 18/25\n",
      "430/430 [==============================] - 2s 5ms/step - loss: 0.1956 - accuracy: 0.9315 - val_loss: 0.3188 - val_accuracy: 0.8932\n",
      "Epoch 19/25\n",
      "430/430 [==============================] - 2s 5ms/step - loss: 0.1874 - accuracy: 0.9347 - val_loss: 0.3209 - val_accuracy: 0.8904\n",
      "Epoch 20/25\n",
      "430/430 [==============================] - 3s 6ms/step - loss: 0.1802 - accuracy: 0.9378 - val_loss: 0.3168 - val_accuracy: 0.8926\n",
      "Epoch 21/25\n",
      "430/430 [==============================] - 2s 5ms/step - loss: 0.1737 - accuracy: 0.9410 - val_loss: 0.3177 - val_accuracy: 0.8902\n",
      "Epoch 22/25\n",
      "430/430 [==============================] - 2s 4ms/step - loss: 0.1684 - accuracy: 0.9431 - val_loss: 0.3160 - val_accuracy: 0.8922\n",
      "Epoch 23/25\n",
      "430/430 [==============================] - 2s 5ms/step - loss: 0.1638 - accuracy: 0.9450 - val_loss: 0.3147 - val_accuracy: 0.8914\n",
      "Epoch 24/25\n",
      "430/430 [==============================] - 2s 5ms/step - loss: 0.1610 - accuracy: 0.9465 - val_loss: 0.3152 - val_accuracy: 0.8924\n",
      "Epoch 25/25\n",
      "430/430 [==============================] - 2s 5ms/step - loss: 0.1593 - accuracy: 0.9471 - val_loss: 0.3140 - val_accuracy: 0.8934\n"
     ]
    }
   ],
   "source": [
    "n_epochs = 25\n",
    "onecycle = OneCycleScheduler(math.ceil(len(X_train) / batch_size) * n_epochs, max_rate=0.05)\n",
    "history = model.fit(X_train_scaled, y_train, epochs=n_epochs, batch_size=batch_size,\n",
    "                    validation_data=(X_valid_scaled, y_valid),\n",
    "                    callbacks=[onecycle])"
   ]
  },
  {
   "cell_type": "markdown",
   "id": "975f0d32",
   "metadata": {
    "id": "i8jPCyOvLOpc"
   },
   "source": [
    "# 규제를 사용해 과대적합 피하기"
   ]
  },
  {
   "cell_type": "markdown",
   "id": "6bac8fbd",
   "metadata": {
    "id": "bNDKKZZxLOpc"
   },
   "source": [
    "## $\\ell_1$과 $\\ell_2$ 규제"
   ]
  },
  {
   "cell_type": "code",
   "execution_count": 101,
   "id": "7bf585d8",
   "metadata": {
    "execution": {
     "iopub.execute_input": "2021-10-10T01:57:48.541019Z",
     "iopub.status.busy": "2021-10-10T01:57:48.540412Z",
     "iopub.status.idle": "2021-10-10T01:57:48.542365Z",
     "shell.execute_reply": "2021-10-10T01:57:48.542713Z"
    },
    "id": "58lwkbU-LOpc"
   },
   "outputs": [],
   "source": [
    "layer = keras.layers.Dense(100, activation=\"elu\",\n",
    "                           kernel_initializer=\"he_normal\",\n",
    "                           kernel_regularizer=keras.regularizers.l2(0.01))\n",
    "# or l1(0.1) for ℓ1 regularization with a factor of 0.1\n",
    "# or l1_l2(0.1, 0.01) for both ℓ1 and ℓ2 regularization, with factors 0.1 and 0.01 respectively"
   ]
  },
  {
   "cell_type": "markdown",
   "id": "9ab5f601",
   "metadata": {},
   "source": [
    "규제 손실을 계산하기 위해 각 스텝에서 호출되는 규제 객체 반환\n",
    "\n",
    "- 케라스의 연결 가중치에 규제 강도 0.01 사용"
   ]
  },
  {
   "cell_type": "code",
   "execution_count": 102,
   "id": "59616999",
   "metadata": {
    "colab": {
     "base_uri": "https://localhost:8080/"
    },
    "execution": {
     "iopub.execute_input": "2021-10-10T01:57:48.550535Z",
     "iopub.status.busy": "2021-10-10T01:57:48.550053Z",
     "iopub.status.idle": "2021-10-10T01:57:59.217444Z",
     "shell.execute_reply": "2021-10-10T01:57:59.216984Z"
    },
    "id": "vcZsRVXwLOpd",
    "outputId": "33d4ca8e-a272-491e-e296-5b99b49274ae"
   },
   "outputs": [
    {
     "name": "stdout",
     "output_type": "stream",
     "text": [
      "Epoch 1/2\n",
      "1719/1719 [==============================] - 8s 4ms/step - loss: 1.5937 - accuracy: 0.8117 - val_loss: 0.7135 - val_accuracy: 0.8330\n",
      "Epoch 2/2\n",
      "1719/1719 [==============================] - 7s 4ms/step - loss: 0.7175 - accuracy: 0.8288 - val_loss: 0.6821 - val_accuracy: 0.8374\n"
     ]
    }
   ],
   "source": [
    "model = keras.models.Sequential([\n",
    "    keras.layers.Flatten(input_shape=[28, 28]),\n",
    "    keras.layers.Dense(300, activation=\"elu\",\n",
    "                       kernel_initializer=\"he_normal\",\n",
    "                       kernel_regularizer=keras.regularizers.l2(0.01)),\n",
    "    keras.layers.Dense(100, activation=\"elu\",\n",
    "                       kernel_initializer=\"he_normal\",\n",
    "                       kernel_regularizer=keras.regularizers.l2(0.01)),\n",
    "    keras.layers.Dense(10, activation=\"softmax\",\n",
    "                       kernel_regularizer=keras.regularizers.l2(0.01))\n",
    "])\n",
    "model.compile(loss=\"sparse_categorical_crossentropy\", optimizer=\"nadam\", metrics=[\"accuracy\"])\n",
    "n_epochs = 2\n",
    "history = model.fit(X_train_scaled, y_train, epochs=n_epochs,\n",
    "                    validation_data=(X_valid_scaled, y_valid))"
   ]
  },
  {
   "cell_type": "code",
   "execution_count": 103,
   "id": "c0e6ecf2",
   "metadata": {
    "colab": {
     "base_uri": "https://localhost:8080/"
    },
    "execution": {
     "iopub.execute_input": "2021-10-10T01:57:59.220063Z",
     "iopub.status.busy": "2021-10-10T01:57:59.219495Z",
     "iopub.status.idle": "2021-10-10T01:58:09.931371Z",
     "shell.execute_reply": "2021-10-10T01:58:09.930960Z"
    },
    "id": "XuNxc8x3LOpd",
    "outputId": "240670f0-0871-4a9b-dd23-c67017e0793f"
   },
   "outputs": [
    {
     "name": "stdout",
     "output_type": "stream",
     "text": [
      "Epoch 1/2\n",
      "1719/1719 [==============================] - 9s 5ms/step - loss: 1.6547 - accuracy: 0.8124 - val_loss: 0.7192 - val_accuracy: 0.8320\n",
      "Epoch 2/2\n",
      "1719/1719 [==============================] - 6s 4ms/step - loss: 0.7171 - accuracy: 0.8271 - val_loss: 0.6803 - val_accuracy: 0.8396\n"
     ]
    }
   ],
   "source": [
    "from functools import partial\n",
    "\n",
    "RegularizedDense = partial(keras.layers.Dense,\n",
    "                           activation=\"elu\",\n",
    "                           kernel_initializer=\"he_normal\",\n",
    "                           kernel_regularizer=keras.regularizers.l2(0.01))\n",
    "\n",
    "model = keras.models.Sequential([\n",
    "    keras.layers.Flatten(input_shape=[28, 28]),\n",
    "    RegularizedDense(300),\n",
    "    RegularizedDense(100),\n",
    "    RegularizedDense(10, activation=\"softmax\")\n",
    "])\n",
    "model.compile(loss=\"sparse_categorical_crossentropy\", optimizer=\"nadam\", metrics=[\"accuracy\"])\n",
    "n_epochs = 2\n",
    "history = model.fit(X_train_scaled, y_train, epochs=n_epochs,\n",
    "                    validation_data=(X_valid_scaled, y_valid))"
   ]
  },
  {
   "cell_type": "markdown",
   "id": "3943f652",
   "metadata": {
    "id": "xdTO1zZbLOpd"
   },
   "source": [
    "## 드롭아웃"
   ]
  },
  {
   "cell_type": "code",
   "execution_count": 104,
   "id": "76472ae3",
   "metadata": {
    "colab": {
     "base_uri": "https://localhost:8080/"
    },
    "execution": {
     "iopub.execute_input": "2021-10-10T01:58:09.940527Z",
     "iopub.status.busy": "2021-10-10T01:58:09.940109Z",
     "iopub.status.idle": "2021-10-10T01:58:31.103411Z",
     "shell.execute_reply": "2021-10-10T01:58:31.102552Z"
    },
    "id": "ppZX7nrcLOpd",
    "outputId": "237369e7-cf6e-4221-f93d-f9abe485fb78"
   },
   "outputs": [
    {
     "name": "stdout",
     "output_type": "stream",
     "text": [
      "Epoch 1/2\n",
      "1719/1719 [==============================] - 12s 6ms/step - loss: 0.5711 - accuracy: 0.8024 - val_loss: 0.3729 - val_accuracy: 0.8618\n",
      "Epoch 2/2\n",
      "1719/1719 [==============================] - 8s 5ms/step - loss: 0.4198 - accuracy: 0.8463 - val_loss: 0.3451 - val_accuracy: 0.8708\n"
     ]
    }
   ],
   "source": [
    "model = keras.models.Sequential([\n",
    "    keras.layers.Flatten(input_shape=[28, 28]),\n",
    "    keras.layers.Dropout(rate=0.2), #드롭아웃 함수 사용\n",
    "    keras.layers.Dense(300, activation=\"elu\", kernel_initializer=\"he_normal\"),\n",
    "    keras.layers.Dropout(rate=0.2),\n",
    "    keras.layers.Dense(100, activation=\"elu\", kernel_initializer=\"he_normal\"),\n",
    "    keras.layers.Dropout(rate=0.2),\n",
    "    keras.layers.Dense(10, activation=\"softmax\")\n",
    "])\n",
    "model.compile(loss=\"sparse_categorical_crossentropy\", optimizer=\"nadam\", metrics=[\"accuracy\"])\n",
    "n_epochs = 2\n",
    "history = model.fit(X_train_scaled, y_train, epochs=n_epochs,\n",
    "                    validation_data=(X_valid_scaled, y_valid))"
   ]
  },
  {
   "cell_type": "markdown",
   "id": "bb51399e",
   "metadata": {
    "id": "FT_W0H3rLOpd"
   },
   "source": [
    "## 알파 드롭아웃"
   ]
  },
  {
   "cell_type": "code",
   "execution_count": 105,
   "id": "a2531268",
   "metadata": {
    "execution": {
     "iopub.execute_input": "2021-10-10T01:58:31.119724Z",
     "iopub.status.busy": "2021-10-10T01:58:31.119220Z",
     "iopub.status.idle": "2021-10-10T01:58:31.121159Z",
     "shell.execute_reply": "2021-10-10T01:58:31.121556Z"
    },
    "id": "BPvHOOYcLOpd"
   },
   "outputs": [],
   "source": [
    "tf.random.set_seed(42)\n",
    "np.random.seed(42)"
   ]
  },
  {
   "cell_type": "code",
   "execution_count": 106,
   "id": "9817a3db",
   "metadata": {
    "colab": {
     "base_uri": "https://localhost:8080/"
    },
    "execution": {
     "iopub.execute_input": "2021-10-10T01:58:31.131333Z",
     "iopub.status.busy": "2021-10-10T01:58:31.130900Z",
     "iopub.status.idle": "2021-10-10T01:59:57.645333Z",
     "shell.execute_reply": "2021-10-10T01:59:57.644857Z"
    },
    "id": "CB_Oe24YLOpe",
    "outputId": "9d4e8f5e-9555-45bd-c32f-094de3c46ded"
   },
   "outputs": [
    {
     "name": "stdout",
     "output_type": "stream",
     "text": [
      "Epoch 1/20\n",
      "1719/1719 [==============================] - 12s 6ms/step - loss: 0.6640 - accuracy: 0.7595 - val_loss: 0.5986 - val_accuracy: 0.8402\n",
      "Epoch 2/20\n",
      "1719/1719 [==============================] - 9s 5ms/step - loss: 0.5572 - accuracy: 0.7950 - val_loss: 0.5663 - val_accuracy: 0.8394\n",
      "Epoch 3/20\n",
      "1719/1719 [==============================] - 10s 6ms/step - loss: 0.5263 - accuracy: 0.8047 - val_loss: 0.5096 - val_accuracy: 0.8584\n",
      "Epoch 4/20\n",
      "1719/1719 [==============================] - 11s 6ms/step - loss: 0.5099 - accuracy: 0.8108 - val_loss: 0.4778 - val_accuracy: 0.8578\n",
      "Epoch 5/20\n",
      "1719/1719 [==============================] - 10s 6ms/step - loss: 0.4927 - accuracy: 0.8168 - val_loss: 0.4433 - val_accuracy: 0.8674\n",
      "Epoch 6/20\n",
      "1719/1719 [==============================] - 10s 6ms/step - loss: 0.4839 - accuracy: 0.8202 - val_loss: 0.4728 - val_accuracy: 0.8606\n",
      "Epoch 7/20\n",
      "1719/1719 [==============================] - 10s 6ms/step - loss: 0.4691 - accuracy: 0.8258 - val_loss: 0.4916 - val_accuracy: 0.8564\n",
      "Epoch 8/20\n",
      "1719/1719 [==============================] - 10s 6ms/step - loss: 0.4686 - accuracy: 0.8266 - val_loss: 0.4356 - val_accuracy: 0.8622\n",
      "Epoch 9/20\n",
      "1719/1719 [==============================] - 10s 6ms/step - loss: 0.4587 - accuracy: 0.8293 - val_loss: 0.4210 - val_accuracy: 0.8684\n",
      "Epoch 10/20\n",
      "1719/1719 [==============================] - 10s 6ms/step - loss: 0.4526 - accuracy: 0.8303 - val_loss: 0.4886 - val_accuracy: 0.8614\n",
      "Epoch 11/20\n",
      "1719/1719 [==============================] - 9s 5ms/step - loss: 0.4494 - accuracy: 0.8333 - val_loss: 0.4169 - val_accuracy: 0.8696\n",
      "Epoch 12/20\n",
      "1719/1719 [==============================] - 10s 6ms/step - loss: 0.4460 - accuracy: 0.8342 - val_loss: 0.5242 - val_accuracy: 0.8514\n",
      "Epoch 13/20\n",
      "1719/1719 [==============================] - 9s 5ms/step - loss: 0.4418 - accuracy: 0.8364 - val_loss: 0.4267 - val_accuracy: 0.8738\n",
      "Epoch 14/20\n",
      "1719/1719 [==============================] - 11s 6ms/step - loss: 0.4374 - accuracy: 0.8386 - val_loss: 0.4601 - val_accuracy: 0.8574\n",
      "Epoch 15/20\n",
      "1719/1719 [==============================] - 12s 7ms/step - loss: 0.4335 - accuracy: 0.8399 - val_loss: 0.4349 - val_accuracy: 0.8740\n",
      "Epoch 16/20\n",
      "1719/1719 [==============================] - 11s 7ms/step - loss: 0.4313 - accuracy: 0.8394 - val_loss: 0.4222 - val_accuracy: 0.8754\n",
      "Epoch 17/20\n",
      "1719/1719 [==============================] - 10s 6ms/step - loss: 0.4294 - accuracy: 0.8398 - val_loss: 0.5746 - val_accuracy: 0.8540\n",
      "Epoch 18/20\n",
      "1719/1719 [==============================] - 10s 6ms/step - loss: 0.4245 - accuracy: 0.8402 - val_loss: 0.4863 - val_accuracy: 0.8730\n",
      "Epoch 19/20\n",
      "1719/1719 [==============================] - 10s 6ms/step - loss: 0.4239 - accuracy: 0.8424 - val_loss: 0.5058 - val_accuracy: 0.8710\n",
      "Epoch 20/20\n",
      "1719/1719 [==============================] - 9s 5ms/step - loss: 0.4187 - accuracy: 0.8436 - val_loss: 0.4574 - val_accuracy: 0.8648\n"
     ]
    }
   ],
   "source": [
    "model = keras.models.Sequential([\n",
    "    keras.layers.Flatten(input_shape=[28, 28]),\n",
    "    keras.layers.AlphaDropout(rate=0.2),\n",
    "    keras.layers.Dense(300, activation=\"selu\", kernel_initializer=\"lecun_normal\"),\n",
    "    keras.layers.AlphaDropout(rate=0.2),\n",
    "    keras.layers.Dense(100, activation=\"selu\", kernel_initializer=\"lecun_normal\"),\n",
    "    keras.layers.AlphaDropout(rate=0.2),\n",
    "    keras.layers.Dense(10, activation=\"softmax\")\n",
    "])\n",
    "optimizer = keras.optimizers.SGD(learning_rate=0.01, momentum=0.9, nesterov=True)\n",
    "model.compile(loss=\"sparse_categorical_crossentropy\", optimizer=optimizer, metrics=[\"accuracy\"])\n",
    "n_epochs = 20\n",
    "history = model.fit(X_train_scaled, y_train, epochs=n_epochs,\n",
    "                    validation_data=(X_valid_scaled, y_valid))"
   ]
  },
  {
   "cell_type": "code",
   "execution_count": 107,
   "id": "75a96530",
   "metadata": {
    "colab": {
     "base_uri": "https://localhost:8080/"
    },
    "execution": {
     "iopub.execute_input": "2021-10-10T01:59:57.649796Z",
     "iopub.status.busy": "2021-10-10T01:59:57.649335Z",
     "iopub.status.idle": "2021-10-10T01:59:58.069051Z",
     "shell.execute_reply": "2021-10-10T01:59:58.069463Z"
    },
    "id": "fisM8Wc8LOpe",
    "outputId": "ed1480c2-b857-4848-c253-5971ef1de0ab"
   },
   "outputs": [
    {
     "name": "stdout",
     "output_type": "stream",
     "text": [
      "313/313 [==============================] - 1s 2ms/step - loss: 0.4878 - accuracy: 0.8535\n"
     ]
    },
    {
     "data": {
      "text/plain": [
       "[0.4878104627132416, 0.8535000085830688]"
      ]
     },
     "execution_count": 107,
     "metadata": {},
     "output_type": "execute_result"
    }
   ],
   "source": [
    "model.evaluate(X_test_scaled, y_test)"
   ]
  },
  {
   "cell_type": "code",
   "execution_count": 108,
   "id": "87b0a11e",
   "metadata": {
    "colab": {
     "base_uri": "https://localhost:8080/"
    },
    "execution": {
     "iopub.execute_input": "2021-10-10T01:59:58.072059Z",
     "iopub.status.busy": "2021-10-10T01:59:58.071606Z",
     "iopub.status.idle": "2021-10-10T02:00:00.292755Z",
     "shell.execute_reply": "2021-10-10T02:00:00.293123Z"
    },
    "id": "C3UO369ULOpe",
    "outputId": "35f4262d-7fb4-4b2e-e97d-8ca189dc3f5c"
   },
   "outputs": [
    {
     "name": "stdout",
     "output_type": "stream",
     "text": [
      "1719/1719 [==============================] - 6s 3ms/step - loss: 0.3693 - accuracy: 0.8739\n"
     ]
    },
    {
     "data": {
      "text/plain": [
       "[0.3692581355571747, 0.8738545179367065]"
      ]
     },
     "execution_count": 108,
     "metadata": {},
     "output_type": "execute_result"
    }
   ],
   "source": [
    "model.evaluate(X_train_scaled, y_train)"
   ]
  },
  {
   "cell_type": "code",
   "execution_count": 109,
   "id": "52052b46",
   "metadata": {
    "colab": {
     "base_uri": "https://localhost:8080/"
    },
    "execution": {
     "iopub.execute_input": "2021-10-10T02:00:00.296785Z",
     "iopub.status.busy": "2021-10-10T02:00:00.296281Z",
     "iopub.status.idle": "2021-10-10T02:00:05.567250Z",
     "shell.execute_reply": "2021-10-10T02:00:05.567645Z"
    },
    "id": "TLppurUFLOpe",
    "outputId": "332d93b8-3a6c-4180-938a-5c4d6647bbe1"
   },
   "outputs": [
    {
     "name": "stdout",
     "output_type": "stream",
     "text": [
      "1719/1719 [==============================] - 10s 6ms/step - loss: 0.4199 - accuracy: 0.8448\n"
     ]
    }
   ],
   "source": [
    "history = model.fit(X_train_scaled, y_train)"
   ]
  },
  {
   "cell_type": "markdown",
   "id": "3165bd5a",
   "metadata": {
    "id": "TP8X2xCnLOpe"
   },
   "source": [
    "## MC 드롭아웃"
   ]
  },
  {
   "cell_type": "markdown",
   "id": "38c061b8",
   "metadata": {},
   "source": [
    "드롭아웃 모델을 재훈련하거나 전혀 수정하지 않고도 성능을 향상할 수 있는 방법"
   ]
  },
  {
   "cell_type": "code",
   "execution_count": 110,
   "id": "93e28516",
   "metadata": {
    "execution": {
     "iopub.execute_input": "2021-10-10T02:00:05.574522Z",
     "iopub.status.busy": "2021-10-10T02:00:05.574061Z",
     "iopub.status.idle": "2021-10-10T02:00:05.576527Z",
     "shell.execute_reply": "2021-10-10T02:00:05.576902Z"
    },
    "id": "Uy_uwuIRLOpe"
   },
   "outputs": [],
   "source": [
    "tf.random.set_seed(42)\n",
    "np.random.seed(42)"
   ]
  },
  {
   "cell_type": "code",
   "execution_count": 111,
   "id": "218993dd",
   "metadata": {
    "execution": {
     "iopub.execute_input": "2021-10-10T02:00:05.607713Z",
     "iopub.status.busy": "2021-10-10T02:00:05.606968Z",
     "iopub.status.idle": "2021-10-10T02:00:16.458599Z",
     "shell.execute_reply": "2021-10-10T02:00:16.459005Z"
    },
    "id": "GPDfhAMBLOpf",
    "scrolled": true
   },
   "outputs": [],
   "source": [
    "y_probas = np.stack([model(X_test_scaled, training=True)\n",
    "                     for sample in range(100)])\n",
    "y_proba = y_probas.mean(axis=0)\n",
    "y_std = y_probas.std(axis=0)"
   ]
  },
  {
   "cell_type": "code",
   "execution_count": 112,
   "id": "3730272d",
   "metadata": {
    "colab": {
     "base_uri": "https://localhost:8080/"
    },
    "execution": {
     "iopub.execute_input": "2021-10-10T02:00:16.463077Z",
     "iopub.status.busy": "2021-10-10T02:00:16.462635Z",
     "iopub.status.idle": "2021-10-10T02:00:16.544991Z",
     "shell.execute_reply": "2021-10-10T02:00:16.545361Z"
    },
    "id": "nzrxJDyrLOpf",
    "outputId": "c19053d2-dc97-4e87-ee99-d17c6ea72112"
   },
   "outputs": [
    {
     "name": "stdout",
     "output_type": "stream",
     "text": [
      "1/1 [==============================] - 0s 169ms/step\n"
     ]
    },
    {
     "data": {
      "text/plain": [
       "array([[0., 0., 0., 0., 0., 0., 0., 0., 0., 1.]], dtype=float32)"
      ]
     },
     "execution_count": 112,
     "metadata": {},
     "output_type": "execute_result"
    }
   ],
   "source": [
    "np.round(model.predict(X_test_scaled[:1]), 2)"
   ]
  },
  {
   "cell_type": "code",
   "execution_count": 113,
   "id": "8cb40189",
   "metadata": {
    "colab": {
     "base_uri": "https://localhost:8080/"
    },
    "execution": {
     "iopub.execute_input": "2021-10-10T02:00:16.547692Z",
     "iopub.status.busy": "2021-10-10T02:00:16.547232Z",
     "iopub.status.idle": "2021-10-10T02:00:16.558147Z",
     "shell.execute_reply": "2021-10-10T02:00:16.558525Z"
    },
    "id": "08HJBSaVLOpf",
    "outputId": "bd3ee04a-eb78-4cff-a71b-9bbf879d8523"
   },
   "outputs": [
    {
     "data": {
      "text/plain": [
       "array([[[0.  , 0.  , 0.  , 0.  , 0.  , 0.12, 0.  , 0.11, 0.  , 0.78]],\n",
       "\n",
       "       [[0.  , 0.  , 0.  , 0.  , 0.  , 0.  , 0.  , 0.03, 0.  , 0.96]],\n",
       "\n",
       "       [[0.  , 0.  , 0.  , 0.  , 0.  , 0.03, 0.  , 0.06, 0.  , 0.92]],\n",
       "\n",
       "       [[0.  , 0.  , 0.  , 0.  , 0.  , 0.03, 0.  , 0.39, 0.  , 0.58]],\n",
       "\n",
       "       [[0.  , 0.  , 0.  , 0.  , 0.  , 0.03, 0.  , 0.44, 0.  , 0.53]],\n",
       "\n",
       "       [[0.  , 0.  , 0.  , 0.  , 0.  , 0.01, 0.  , 0.52, 0.  , 0.47]],\n",
       "\n",
       "       [[0.  , 0.  , 0.  , 0.  , 0.  , 0.01, 0.  , 0.01, 0.  , 0.98]],\n",
       "\n",
       "       [[0.  , 0.  , 0.  , 0.  , 0.  , 0.01, 0.  , 0.1 , 0.  , 0.89]],\n",
       "\n",
       "       [[0.  , 0.  , 0.  , 0.  , 0.  , 0.17, 0.  , 0.35, 0.  , 0.48]],\n",
       "\n",
       "       [[0.  , 0.  , 0.  , 0.  , 0.  , 0.  , 0.  , 0.01, 0.  , 0.99]],\n",
       "\n",
       "       [[0.  , 0.  , 0.  , 0.  , 0.  , 0.04, 0.  , 0.04, 0.  , 0.93]],\n",
       "\n",
       "       [[0.  , 0.  , 0.  , 0.  , 0.  , 0.39, 0.  , 0.09, 0.  , 0.51]],\n",
       "\n",
       "       [[0.  , 0.  , 0.  , 0.  , 0.  , 0.04, 0.  , 0.01, 0.  , 0.95]],\n",
       "\n",
       "       [[0.  , 0.  , 0.  , 0.  , 0.  , 0.  , 0.  , 0.27, 0.  , 0.73]],\n",
       "\n",
       "       [[0.  , 0.  , 0.  , 0.  , 0.  , 0.04, 0.  , 0.42, 0.  , 0.55]],\n",
       "\n",
       "       [[0.  , 0.  , 0.  , 0.  , 0.  , 0.07, 0.  , 0.16, 0.  , 0.78]],\n",
       "\n",
       "       [[0.  , 0.  , 0.  , 0.  , 0.  , 0.03, 0.  , 0.  , 0.  , 0.96]],\n",
       "\n",
       "       [[0.  , 0.  , 0.  , 0.  , 0.  , 0.  , 0.  , 0.21, 0.  , 0.79]],\n",
       "\n",
       "       [[0.  , 0.  , 0.  , 0.  , 0.  , 0.27, 0.  , 0.42, 0.  , 0.31]],\n",
       "\n",
       "       [[0.  , 0.  , 0.  , 0.  , 0.  , 0.02, 0.  , 0.06, 0.  , 0.92]],\n",
       "\n",
       "       [[0.  , 0.  , 0.  , 0.  , 0.  , 0.33, 0.  , 0.12, 0.  , 0.55]],\n",
       "\n",
       "       [[0.  , 0.  , 0.  , 0.  , 0.  , 0.05, 0.  , 0.27, 0.  , 0.68]],\n",
       "\n",
       "       [[0.  , 0.  , 0.  , 0.  , 0.  , 0.05, 0.  , 0.  , 0.  , 0.95]],\n",
       "\n",
       "       [[0.  , 0.  , 0.  , 0.  , 0.  , 0.03, 0.  , 0.07, 0.  , 0.9 ]],\n",
       "\n",
       "       [[0.  , 0.  , 0.  , 0.  , 0.  , 0.23, 0.  , 0.15, 0.  , 0.62]],\n",
       "\n",
       "       [[0.  , 0.  , 0.  , 0.  , 0.  , 0.01, 0.  , 0.09, 0.  , 0.91]],\n",
       "\n",
       "       [[0.  , 0.  , 0.  , 0.  , 0.  , 0.  , 0.  , 0.05, 0.  , 0.95]],\n",
       "\n",
       "       [[0.  , 0.  , 0.  , 0.  , 0.  , 0.01, 0.  , 0.07, 0.  , 0.92]],\n",
       "\n",
       "       [[0.  , 0.  , 0.  , 0.  , 0.  , 0.  , 0.  , 0.04, 0.  , 0.95]],\n",
       "\n",
       "       [[0.  , 0.  , 0.  , 0.  , 0.  , 0.03, 0.  , 0.5 , 0.  , 0.48]],\n",
       "\n",
       "       [[0.  , 0.  , 0.  , 0.  , 0.  , 0.  , 0.  , 0.06, 0.  , 0.94]],\n",
       "\n",
       "       [[0.  , 0.  , 0.  , 0.  , 0.  , 0.  , 0.  , 0.05, 0.  , 0.94]],\n",
       "\n",
       "       [[0.  , 0.  , 0.  , 0.  , 0.  , 0.01, 0.  , 0.06, 0.  , 0.93]],\n",
       "\n",
       "       [[0.  , 0.  , 0.  , 0.  , 0.  , 0.  , 0.  , 0.15, 0.  , 0.84]],\n",
       "\n",
       "       [[0.  , 0.  , 0.  , 0.  , 0.  , 0.01, 0.  , 0.  , 0.  , 0.98]],\n",
       "\n",
       "       [[0.  , 0.  , 0.  , 0.  , 0.  , 0.02, 0.  , 0.09, 0.  , 0.89]],\n",
       "\n",
       "       [[0.  , 0.  , 0.  , 0.  , 0.  , 0.01, 0.  , 0.53, 0.  , 0.47]],\n",
       "\n",
       "       [[0.  , 0.  , 0.  , 0.  , 0.  , 0.03, 0.  , 0.03, 0.  , 0.94]],\n",
       "\n",
       "       [[0.  , 0.  , 0.  , 0.  , 0.  , 0.01, 0.  , 0.02, 0.  , 0.97]],\n",
       "\n",
       "       [[0.  , 0.  , 0.  , 0.  , 0.  , 0.  , 0.  , 0.02, 0.  , 0.97]],\n",
       "\n",
       "       [[0.  , 0.  , 0.  , 0.  , 0.  , 0.44, 0.  , 0.15, 0.  , 0.41]],\n",
       "\n",
       "       [[0.  , 0.  , 0.  , 0.  , 0.  , 0.51, 0.  , 0.21, 0.  , 0.28]],\n",
       "\n",
       "       [[0.  , 0.  , 0.  , 0.  , 0.  , 0.  , 0.  , 0.05, 0.  , 0.95]],\n",
       "\n",
       "       [[0.  , 0.  , 0.  , 0.  , 0.  , 0.03, 0.  , 0.17, 0.  , 0.81]],\n",
       "\n",
       "       [[0.  , 0.  , 0.  , 0.  , 0.  , 0.02, 0.  , 0.03, 0.  , 0.95]],\n",
       "\n",
       "       [[0.  , 0.  , 0.  , 0.  , 0.  , 0.04, 0.  , 0.33, 0.  , 0.63]],\n",
       "\n",
       "       [[0.  , 0.  , 0.  , 0.  , 0.  , 0.02, 0.  , 0.05, 0.  , 0.93]],\n",
       "\n",
       "       [[0.  , 0.  , 0.  , 0.  , 0.  , 0.  , 0.  , 0.03, 0.  , 0.97]],\n",
       "\n",
       "       [[0.  , 0.  , 0.  , 0.  , 0.  , 0.  , 0.  , 0.93, 0.  , 0.07]],\n",
       "\n",
       "       [[0.  , 0.  , 0.  , 0.  , 0.  , 0.15, 0.  , 0.22, 0.  , 0.63]],\n",
       "\n",
       "       [[0.  , 0.  , 0.  , 0.  , 0.  , 0.03, 0.  , 0.05, 0.  , 0.93]],\n",
       "\n",
       "       [[0.  , 0.  , 0.  , 0.  , 0.  , 0.  , 0.  , 0.02, 0.  , 0.98]],\n",
       "\n",
       "       [[0.  , 0.  , 0.  , 0.  , 0.  , 0.1 , 0.  , 0.3 , 0.  , 0.61]],\n",
       "\n",
       "       [[0.  , 0.  , 0.  , 0.  , 0.  , 0.02, 0.  , 0.05, 0.  , 0.93]],\n",
       "\n",
       "       [[0.  , 0.  , 0.  , 0.  , 0.  , 0.05, 0.  , 0.37, 0.  , 0.59]],\n",
       "\n",
       "       [[0.  , 0.  , 0.  , 0.  , 0.  , 0.01, 0.  , 0.05, 0.  , 0.94]],\n",
       "\n",
       "       [[0.  , 0.  , 0.  , 0.  , 0.  , 0.01, 0.  , 0.07, 0.  , 0.92]],\n",
       "\n",
       "       [[0.  , 0.  , 0.  , 0.  , 0.  , 0.05, 0.  , 0.01, 0.  , 0.94]],\n",
       "\n",
       "       [[0.  , 0.  , 0.  , 0.  , 0.03, 0.13, 0.  , 0.74, 0.  , 0.09]],\n",
       "\n",
       "       [[0.  , 0.  , 0.  , 0.  , 0.  , 0.  , 0.  , 0.  , 0.  , 1.  ]],\n",
       "\n",
       "       [[0.  , 0.  , 0.  , 0.  , 0.  , 0.  , 0.  , 0.41, 0.  , 0.58]],\n",
       "\n",
       "       [[0.  , 0.  , 0.  , 0.  , 0.  , 0.03, 0.  , 0.46, 0.  , 0.52]],\n",
       "\n",
       "       [[0.  , 0.  , 0.  , 0.  , 0.  , 0.01, 0.  , 0.36, 0.  , 0.63]],\n",
       "\n",
       "       [[0.  , 0.  , 0.  , 0.  , 0.  , 0.  , 0.  , 0.11, 0.  , 0.89]],\n",
       "\n",
       "       [[0.  , 0.  , 0.  , 0.  , 0.  , 0.1 , 0.  , 0.07, 0.  , 0.83]],\n",
       "\n",
       "       [[0.  , 0.  , 0.  , 0.  , 0.  , 0.2 , 0.  , 0.15, 0.  , 0.65]],\n",
       "\n",
       "       [[0.  , 0.  , 0.  , 0.  , 0.  , 0.02, 0.  , 0.5 , 0.  , 0.48]],\n",
       "\n",
       "       [[0.  , 0.  , 0.  , 0.  , 0.  , 0.05, 0.  , 0.07, 0.  , 0.88]],\n",
       "\n",
       "       [[0.  , 0.  , 0.  , 0.  , 0.  , 0.01, 0.  , 0.31, 0.  , 0.68]],\n",
       "\n",
       "       [[0.  , 0.  , 0.  , 0.  , 0.  , 0.1 , 0.  , 0.07, 0.  , 0.84]],\n",
       "\n",
       "       [[0.  , 0.  , 0.  , 0.  , 0.  , 0.01, 0.  , 0.25, 0.  , 0.74]],\n",
       "\n",
       "       [[0.  , 0.  , 0.  , 0.  , 0.  , 0.01, 0.  , 0.  , 0.  , 0.99]],\n",
       "\n",
       "       [[0.  , 0.  , 0.  , 0.  , 0.  , 0.04, 0.  , 0.16, 0.  , 0.81]],\n",
       "\n",
       "       [[0.  , 0.  , 0.  , 0.  , 0.  , 0.11, 0.  , 0.02, 0.  , 0.87]],\n",
       "\n",
       "       [[0.  , 0.  , 0.  , 0.  , 0.  , 0.01, 0.  , 0.73, 0.  , 0.26]],\n",
       "\n",
       "       [[0.  , 0.  , 0.  , 0.  , 0.  , 0.68, 0.  , 0.08, 0.  , 0.24]],\n",
       "\n",
       "       [[0.  , 0.  , 0.  , 0.  , 0.  , 0.01, 0.  , 0.65, 0.  , 0.34]],\n",
       "\n",
       "       [[0.  , 0.  , 0.  , 0.  , 0.  , 0.13, 0.  , 0.08, 0.  , 0.8 ]],\n",
       "\n",
       "       [[0.  , 0.  , 0.  , 0.  , 0.  , 0.07, 0.  , 0.63, 0.  , 0.3 ]],\n",
       "\n",
       "       [[0.  , 0.  , 0.  , 0.  , 0.  , 0.01, 0.  , 0.29, 0.  , 0.69]],\n",
       "\n",
       "       [[0.  , 0.  , 0.  , 0.  , 0.  , 0.33, 0.  , 0.55, 0.  , 0.12]],\n",
       "\n",
       "       [[0.  , 0.  , 0.  , 0.  , 0.  , 0.  , 0.  , 0.18, 0.  , 0.82]],\n",
       "\n",
       "       [[0.  , 0.  , 0.  , 0.  , 0.  , 0.  , 0.  , 0.04, 0.  , 0.96]],\n",
       "\n",
       "       [[0.  , 0.  , 0.  , 0.  , 0.  , 0.03, 0.  , 0.03, 0.  , 0.95]],\n",
       "\n",
       "       [[0.  , 0.  , 0.  , 0.  , 0.  , 0.03, 0.  , 0.31, 0.  , 0.66]],\n",
       "\n",
       "       [[0.  , 0.  , 0.  , 0.  , 0.  , 0.11, 0.  , 0.08, 0.  , 0.8 ]],\n",
       "\n",
       "       [[0.  , 0.  , 0.  , 0.  , 0.  , 0.  , 0.  , 0.11, 0.  , 0.89]],\n",
       "\n",
       "       [[0.  , 0.  , 0.  , 0.  , 0.  , 0.02, 0.  , 0.1 , 0.  , 0.88]],\n",
       "\n",
       "       [[0.  , 0.  , 0.  , 0.  , 0.  , 0.01, 0.  , 0.02, 0.  , 0.97]],\n",
       "\n",
       "       [[0.  , 0.  , 0.  , 0.  , 0.  , 0.15, 0.  , 0.12, 0.  , 0.72]],\n",
       "\n",
       "       [[0.  , 0.  , 0.  , 0.  , 0.  , 0.08, 0.  , 0.04, 0.  , 0.87]],\n",
       "\n",
       "       [[0.  , 0.  , 0.  , 0.  , 0.  , 0.03, 0.  , 0.1 , 0.  , 0.87]],\n",
       "\n",
       "       [[0.  , 0.  , 0.  , 0.  , 0.  , 0.07, 0.  , 0.04, 0.  , 0.89]],\n",
       "\n",
       "       [[0.  , 0.  , 0.  , 0.  , 0.  , 0.06, 0.  , 0.04, 0.  , 0.9 ]],\n",
       "\n",
       "       [[0.  , 0.  , 0.  , 0.  , 0.  , 0.01, 0.  , 0.07, 0.  , 0.92]],\n",
       "\n",
       "       [[0.  , 0.  , 0.  , 0.  , 0.  , 0.01, 0.  , 0.47, 0.  , 0.52]],\n",
       "\n",
       "       [[0.  , 0.  , 0.  , 0.  , 0.  , 0.05, 0.  , 0.18, 0.  , 0.76]],\n",
       "\n",
       "       [[0.  , 0.  , 0.  , 0.  , 0.  , 0.01, 0.  , 0.34, 0.  , 0.64]],\n",
       "\n",
       "       [[0.  , 0.  , 0.  , 0.  , 0.  , 0.26, 0.  , 0.22, 0.  , 0.52]],\n",
       "\n",
       "       [[0.  , 0.  , 0.  , 0.  , 0.  , 0.07, 0.  , 0.6 , 0.  , 0.33]]],\n",
       "      dtype=float32)"
      ]
     },
     "execution_count": 113,
     "metadata": {},
     "output_type": "execute_result"
    }
   ],
   "source": [
    "np.round(y_probas[:, :1], 2)"
   ]
  },
  {
   "cell_type": "code",
   "execution_count": 114,
   "id": "b2b92371",
   "metadata": {
    "colab": {
     "base_uri": "https://localhost:8080/"
    },
    "execution": {
     "iopub.execute_input": "2021-10-10T02:00:16.562759Z",
     "iopub.status.busy": "2021-10-10T02:00:16.562081Z",
     "iopub.status.idle": "2021-10-10T02:00:16.565163Z",
     "shell.execute_reply": "2021-10-10T02:00:16.564768Z"
    },
    "id": "XMqmf4UmLOpf",
    "outputId": "9709dd00-57e5-44b8-a6a0-6e48a2988ba0"
   },
   "outputs": [
    {
     "data": {
      "text/plain": [
       "array([[0.  , 0.  , 0.  , 0.  , 0.  , 0.07, 0.  , 0.19, 0.  , 0.74]],\n",
       "      dtype=float32)"
      ]
     },
     "execution_count": 114,
     "metadata": {},
     "output_type": "execute_result"
    }
   ],
   "source": [
    "np.round(y_proba[:1], 2)"
   ]
  },
  {
   "cell_type": "markdown",
   "id": "c8b3381e",
   "metadata": {},
   "source": [
    "drop out에 대한 예측 결과와 같다."
   ]
  },
  {
   "cell_type": "code",
   "execution_count": 115,
   "id": "e2ddbcac",
   "metadata": {
    "colab": {
     "base_uri": "https://localhost:8080/"
    },
    "execution": {
     "iopub.execute_input": "2021-10-10T02:00:16.568447Z",
     "iopub.status.busy": "2021-10-10T02:00:16.567955Z",
     "iopub.status.idle": "2021-10-10T02:00:16.591509Z",
     "shell.execute_reply": "2021-10-10T02:00:16.591909Z"
    },
    "id": "lISHnMdnLOpf",
    "outputId": "e2bc990b-d758-43bc-a319-490554ba95fe"
   },
   "outputs": [
    {
     "data": {
      "text/plain": [
       "array([[0.  , 0.  , 0.  , 0.  , 0.  , 0.11, 0.  , 0.2 , 0.  , 0.23]],\n",
       "      dtype=float32)"
      ]
     },
     "execution_count": 115,
     "metadata": {},
     "output_type": "execute_result"
    }
   ],
   "source": [
    "y_std = y_probas.std(axis=0)\n",
    "np.round(y_std[:1], 2)"
   ]
  },
  {
   "cell_type": "code",
   "execution_count": 116,
   "id": "7336f012",
   "metadata": {
    "execution": {
     "iopub.execute_input": "2021-10-10T02:00:16.595392Z",
     "iopub.status.busy": "2021-10-10T02:00:16.594927Z",
     "iopub.status.idle": "2021-10-10T02:00:16.597247Z",
     "shell.execute_reply": "2021-10-10T02:00:16.597654Z"
    },
    "id": "iW-062pHLOpf"
   },
   "outputs": [],
   "source": [
    "y_pred = np.argmax(y_proba, axis=1)"
   ]
  },
  {
   "cell_type": "code",
   "execution_count": 117,
   "id": "a61707c2",
   "metadata": {
    "colab": {
     "base_uri": "https://localhost:8080/"
    },
    "execution": {
     "iopub.execute_input": "2021-10-10T02:00:16.601741Z",
     "iopub.status.busy": "2021-10-10T02:00:16.601262Z",
     "iopub.status.idle": "2021-10-10T02:00:16.605307Z",
     "shell.execute_reply": "2021-10-10T02:00:16.604894Z"
    },
    "id": "DL6bPgKCLOpg",
    "outputId": "1a952c13-8d90-474a-8568-403c321ec160"
   },
   "outputs": [
    {
     "data": {
      "text/plain": [
       "0.8675"
      ]
     },
     "execution_count": 117,
     "metadata": {},
     "output_type": "execute_result"
    }
   ],
   "source": [
    "accuracy = np.sum(y_pred == y_test) / len(y_test)\n",
    "accuracy"
   ]
  },
  {
   "cell_type": "code",
   "execution_count": 118,
   "id": "5cc6816d",
   "metadata": {
    "execution": {
     "iopub.execute_input": "2021-10-10T02:00:16.609862Z",
     "iopub.status.busy": "2021-10-10T02:00:16.609323Z",
     "iopub.status.idle": "2021-10-10T02:00:16.611700Z",
     "shell.execute_reply": "2021-10-10T02:00:16.611365Z"
    },
    "id": "yxvL3LWZLOpg"
   },
   "outputs": [],
   "source": [
    "class MCDropout(keras.layers.Dropout):\n",
    "    def call(self, inputs):\n",
    "        return super().call(inputs, training=True)\n",
    "\n",
    "class MCAlphaDropout(keras.layers.AlphaDropout):\n",
    "    def call(self, inputs):\n",
    "        return super().call(inputs, training=True)"
   ]
  },
  {
   "cell_type": "markdown",
   "id": "aa2c1ea4",
   "metadata": {},
   "source": [
    "드롭아웃 층 상속 -> call 메서드를 오버라이드 하여 training 변수를 true로 강제로 설정"
   ]
  },
  {
   "cell_type": "code",
   "execution_count": 119,
   "id": "f71156c5",
   "metadata": {
    "execution": {
     "iopub.execute_input": "2021-10-10T02:00:16.617256Z",
     "iopub.status.busy": "2021-10-10T02:00:16.616580Z",
     "iopub.status.idle": "2021-10-10T02:00:16.618380Z",
     "shell.execute_reply": "2021-10-10T02:00:16.618757Z"
    },
    "id": "Zzd5DCm7LOpg"
   },
   "outputs": [],
   "source": [
    "tf.random.set_seed(42)\n",
    "np.random.seed(42)"
   ]
  },
  {
   "cell_type": "code",
   "execution_count": 120,
   "id": "539ed8a0",
   "metadata": {
    "execution": {
     "iopub.execute_input": "2021-10-10T02:00:16.624514Z",
     "iopub.status.busy": "2021-10-10T02:00:16.624069Z",
     "iopub.status.idle": "2021-10-10T02:00:16.690819Z",
     "shell.execute_reply": "2021-10-10T02:00:16.690361Z"
    },
    "id": "WvapJbsLLOpg"
   },
   "outputs": [],
   "source": [
    "mc_model = keras.models.Sequential([\n",
    "    MCAlphaDropout(layer.rate) if isinstance(layer, keras.layers.AlphaDropout) else layer\n",
    "    for layer in model.layers\n",
    "])"
   ]
  },
  {
   "cell_type": "code",
   "execution_count": 121,
   "id": "177f25b6",
   "metadata": {
    "colab": {
     "base_uri": "https://localhost:8080/"
    },
    "execution": {
     "iopub.execute_input": "2021-10-10T02:00:16.695715Z",
     "iopub.status.busy": "2021-10-10T02:00:16.693780Z",
     "iopub.status.idle": "2021-10-10T02:00:16.700126Z",
     "shell.execute_reply": "2021-10-10T02:00:16.700476Z"
    },
    "id": "tkkDpmTaLOpg",
    "outputId": "e9d658e9-e226-48f0-b2a9-d17aa01d765c"
   },
   "outputs": [
    {
     "name": "stdout",
     "output_type": "stream",
     "text": [
      "Model: \"sequential_21\"\n",
      "_________________________________________________________________\n",
      " Layer (type)                Output Shape              Param #   \n",
      "=================================================================\n",
      " flatten_18 (Flatten)        (None, 784)               0         \n",
      "                                                                 \n",
      " mc_alpha_dropout (MCAlphaDr  (None, 784)              0         \n",
      " opout)                                                          \n",
      "                                                                 \n",
      " dense_263 (Dense)           (None, 300)               235500    \n",
      "                                                                 \n",
      " mc_alpha_dropout_1 (MCAlpha  (None, 300)              0         \n",
      " Dropout)                                                        \n",
      "                                                                 \n",
      " dense_264 (Dense)           (None, 100)               30100     \n",
      "                                                                 \n",
      " mc_alpha_dropout_2 (MCAlpha  (None, 100)              0         \n",
      " Dropout)                                                        \n",
      "                                                                 \n",
      " dense_265 (Dense)           (None, 10)                1010      \n",
      "                                                                 \n",
      "=================================================================\n",
      "Total params: 266,610\n",
      "Trainable params: 266,610\n",
      "Non-trainable params: 0\n",
      "_________________________________________________________________\n"
     ]
    }
   ],
   "source": [
    "mc_model.summary()"
   ]
  },
  {
   "cell_type": "code",
   "execution_count": 122,
   "id": "a6524bfa",
   "metadata": {
    "colab": {
     "base_uri": "https://localhost:8080/"
    },
    "execution": {
     "iopub.execute_input": "2021-10-10T02:00:16.706126Z",
     "iopub.status.busy": "2021-10-10T02:00:16.705673Z",
     "iopub.status.idle": "2021-10-10T02:00:16.709967Z",
     "shell.execute_reply": "2021-10-10T02:00:16.709500Z"
    },
    "id": "dXbWp13vLOpg",
    "outputId": "38247a2e-e33e-4fbe-c2b5-9e26beed52fa"
   },
   "outputs": [],
   "source": [
    "optimizer = keras.optimizers.SGD(learning_rate=0.01, momentum=0.9, nesterov=True)\n",
    "mc_model.compile(loss=\"sparse_categorical_crossentropy\", optimizer=optimizer, metrics=[\"accuracy\"])"
   ]
  },
  {
   "cell_type": "code",
   "execution_count": 123,
   "id": "58f93838",
   "metadata": {
    "execution": {
     "iopub.execute_input": "2021-10-10T02:00:16.713259Z",
     "iopub.status.busy": "2021-10-10T02:00:16.712858Z",
     "iopub.status.idle": "2021-10-10T02:00:16.716876Z",
     "shell.execute_reply": "2021-10-10T02:00:16.716384Z"
    },
    "id": "9ywhSDViLOpg"
   },
   "outputs": [],
   "source": [
    "mc_model.set_weights(model.get_weights())"
   ]
  },
  {
   "cell_type": "markdown",
   "id": "8c6bf2c5",
   "metadata": {
    "id": "JZd8UdsALOph"
   },
   "source": [
    "이제 MC 드롭아웃을 모델에 사용할 수 있습니다:"
   ]
  },
  {
   "cell_type": "code",
   "execution_count": 124,
   "id": "7fcabfcb",
   "metadata": {
    "colab": {
     "base_uri": "https://localhost:8080/"
    },
    "execution": {
     "iopub.execute_input": "2021-10-10T02:00:16.721357Z",
     "iopub.status.busy": "2021-10-10T02:00:16.720910Z",
     "iopub.status.idle": "2021-10-10T02:00:19.970164Z",
     "shell.execute_reply": "2021-10-10T02:00:19.969320Z"
    },
    "id": "IVSdXF7TLOph",
    "outputId": "9d63d6f7-e88c-4b37-c78c-d39378871cf9"
   },
   "outputs": [
    {
     "name": "stdout",
     "output_type": "stream",
     "text": [
      "1/1 [==============================] - 0s 113ms/step\n",
      "1/1 [==============================] - 0s 30ms/step\n",
      "1/1 [==============================] - 0s 37ms/step\n",
      "1/1 [==============================] - 0s 39ms/step\n",
      "1/1 [==============================] - 0s 37ms/step\n",
      "1/1 [==============================] - 0s 33ms/step\n",
      "1/1 [==============================] - 0s 38ms/step\n",
      "1/1 [==============================] - 0s 36ms/step\n",
      "1/1 [==============================] - 0s 41ms/step\n",
      "1/1 [==============================] - 0s 18ms/step\n",
      "1/1 [==============================] - 0s 47ms/step\n",
      "1/1 [==============================] - 0s 44ms/step\n",
      "1/1 [==============================] - 0s 21ms/step\n",
      "1/1 [==============================] - 0s 20ms/step\n",
      "1/1 [==============================] - 0s 51ms/step\n",
      "1/1 [==============================] - 0s 39ms/step\n",
      "1/1 [==============================] - 0s 35ms/step\n",
      "1/1 [==============================] - 0s 41ms/step\n",
      "1/1 [==============================] - 0s 49ms/step\n",
      "1/1 [==============================] - 0s 33ms/step\n",
      "1/1 [==============================] - 0s 46ms/step\n",
      "1/1 [==============================] - 0s 70ms/step\n",
      "1/1 [==============================] - 0s 18ms/step\n",
      "1/1 [==============================] - 0s 34ms/step\n",
      "1/1 [==============================] - 0s 42ms/step\n",
      "1/1 [==============================] - 0s 35ms/step\n",
      "1/1 [==============================] - 0s 45ms/step\n",
      "1/1 [==============================] - 0s 20ms/step\n",
      "1/1 [==============================] - 0s 48ms/step\n",
      "1/1 [==============================] - 0s 48ms/step\n",
      "1/1 [==============================] - 0s 34ms/step\n",
      "1/1 [==============================] - 0s 44ms/step\n",
      "1/1 [==============================] - 0s 26ms/step\n",
      "1/1 [==============================] - 0s 33ms/step\n",
      "1/1 [==============================] - 0s 41ms/step\n",
      "1/1 [==============================] - 0s 37ms/step\n",
      "1/1 [==============================] - 0s 46ms/step\n",
      "1/1 [==============================] - 0s 47ms/step\n",
      "1/1 [==============================] - 0s 42ms/step\n",
      "1/1 [==============================] - 0s 44ms/step\n",
      "1/1 [==============================] - 0s 45ms/step\n",
      "1/1 [==============================] - 0s 43ms/step\n",
      "1/1 [==============================] - 0s 41ms/step\n",
      "1/1 [==============================] - 0s 43ms/step\n",
      "1/1 [==============================] - 0s 36ms/step\n",
      "1/1 [==============================] - 0s 46ms/step\n",
      "1/1 [==============================] - 0s 25ms/step\n",
      "1/1 [==============================] - 0s 19ms/step\n",
      "1/1 [==============================] - 0s 28ms/step\n",
      "1/1 [==============================] - 0s 32ms/step\n",
      "1/1 [==============================] - 0s 44ms/step\n",
      "1/1 [==============================] - 0s 50ms/step\n",
      "1/1 [==============================] - 0s 35ms/step\n",
      "1/1 [==============================] - 0s 37ms/step\n",
      "1/1 [==============================] - 0s 33ms/step\n",
      "1/1 [==============================] - 0s 20ms/step\n",
      "1/1 [==============================] - 0s 22ms/step\n",
      "1/1 [==============================] - 0s 28ms/step\n",
      "1/1 [==============================] - 0s 23ms/step\n",
      "1/1 [==============================] - 0s 34ms/step\n",
      "1/1 [==============================] - 0s 42ms/step\n",
      "1/1 [==============================] - 0s 47ms/step\n",
      "1/1 [==============================] - 0s 21ms/step\n",
      "1/1 [==============================] - 0s 24ms/step\n",
      "1/1 [==============================] - 0s 53ms/step\n",
      "1/1 [==============================] - 0s 41ms/step\n",
      "1/1 [==============================] - 0s 46ms/step\n",
      "1/1 [==============================] - 0s 42ms/step\n",
      "1/1 [==============================] - 0s 40ms/step\n",
      "1/1 [==============================] - 0s 37ms/step\n",
      "1/1 [==============================] - 0s 33ms/step\n",
      "1/1 [==============================] - 0s 47ms/step\n",
      "1/1 [==============================] - 0s 18ms/step\n",
      "1/1 [==============================] - 0s 28ms/step\n",
      "1/1 [==============================] - 0s 26ms/step\n",
      "1/1 [==============================] - 0s 21ms/step\n",
      "1/1 [==============================] - 0s 17ms/step\n",
      "1/1 [==============================] - 0s 19ms/step\n",
      "1/1 [==============================] - 0s 25ms/step\n",
      "1/1 [==============================] - 0s 21ms/step\n",
      "1/1 [==============================] - 0s 23ms/step\n",
      "1/1 [==============================] - 0s 19ms/step\n",
      "1/1 [==============================] - 0s 20ms/step\n",
      "1/1 [==============================] - 0s 47ms/step\n",
      "1/1 [==============================] - 0s 42ms/step\n",
      "1/1 [==============================] - 0s 35ms/step\n",
      "1/1 [==============================] - 0s 22ms/step\n",
      "1/1 [==============================] - 0s 18ms/step\n",
      "1/1 [==============================] - 0s 36ms/step\n",
      "1/1 [==============================] - 0s 44ms/step\n",
      "1/1 [==============================] - 0s 49ms/step\n",
      "1/1 [==============================] - 0s 47ms/step\n",
      "1/1 [==============================] - 0s 48ms/step\n",
      "1/1 [==============================] - 0s 36ms/step\n",
      "1/1 [==============================] - 0s 42ms/step\n",
      "1/1 [==============================] - 0s 33ms/step\n",
      "1/1 [==============================] - 0s 37ms/step\n",
      "1/1 [==============================] - 0s 32ms/step\n",
      "1/1 [==============================] - 0s 38ms/step\n",
      "1/1 [==============================] - 0s 30ms/step\n"
     ]
    },
    {
     "data": {
      "text/plain": [
       "array([[0.  , 0.  , 0.  , 0.  , 0.  , 0.11, 0.  , 0.19, 0.  , 0.7 ]],\n",
       "      dtype=float32)"
      ]
     },
     "execution_count": 124,
     "metadata": {},
     "output_type": "execute_result"
    }
   ],
   "source": [
    "np.round(np.mean([mc_model.predict(X_test_scaled[:1]) for sample in range(100)], axis=0), 2)"
   ]
  },
  {
   "cell_type": "markdown",
   "id": "5d7836e3",
   "metadata": {
    "id": "MafcuHfYLOph"
   },
   "source": [
    "## 맥스 노름"
   ]
  },
  {
   "cell_type": "markdown",
   "id": "ba5fe433",
   "metadata": {},
   "source": [
    "뉴런에 대해 이볅의 연결 가중치가 ||w||2<=r이 되도록 제한"
   ]
  },
  {
   "cell_type": "code",
   "execution_count": 125,
   "id": "c4499253",
   "metadata": {
    "execution": {
     "iopub.execute_input": "2021-10-10T02:00:19.976363Z",
     "iopub.status.busy": "2021-10-10T02:00:19.975829Z",
     "iopub.status.idle": "2021-10-10T02:00:19.979568Z",
     "shell.execute_reply": "2021-10-10T02:00:19.978866Z"
    },
    "id": "Rm22pePYLOph"
   },
   "outputs": [],
   "source": [
    "layer = keras.layers.Dense(100, activation=\"selu\", kernel_initializer=\"lecun_normal\",\n",
    "                           kernel_constraint=keras.constraints.max_norm(1.))"
   ]
  },
  {
   "cell_type": "code",
   "execution_count": 126,
   "id": "e71e730f",
   "metadata": {
    "colab": {
     "base_uri": "https://localhost:8080/"
    },
    "execution": {
     "iopub.execute_input": "2021-10-10T02:00:19.988590Z",
     "iopub.status.busy": "2021-10-10T02:00:19.988066Z",
     "iopub.status.idle": "2021-10-10T02:00:31.439874Z",
     "shell.execute_reply": "2021-10-10T02:00:31.440249Z"
    },
    "id": "gWqSW1bvLOpi",
    "outputId": "6f4f5088-6426-45ca-ef9c-eb15404a9d46"
   },
   "outputs": [
    {
     "name": "stdout",
     "output_type": "stream",
     "text": [
      "Epoch 1/2\n",
      "1719/1719 [==============================] - 8s 4ms/step - loss: 0.4740 - accuracy: 0.8333 - val_loss: 0.3678 - val_accuracy: 0.8702\n",
      "Epoch 2/2\n",
      "1719/1719 [==============================] - 7s 4ms/step - loss: 0.3528 - accuracy: 0.8717 - val_loss: 0.3705 - val_accuracy: 0.8650\n"
     ]
    }
   ],
   "source": [
    "MaxNormDense = partial(keras.layers.Dense,\n",
    "                       activation=\"selu\", kernel_initializer=\"lecun_normal\",\n",
    "                       kernel_constraint=keras.constraints.max_norm(1.))\n",
    "\n",
    "model = keras.models.Sequential([\n",
    "    keras.layers.Flatten(input_shape=[28, 28]),\n",
    "    MaxNormDense(300),\n",
    "    MaxNormDense(100),\n",
    "    keras.layers.Dense(10, activation=\"softmax\")\n",
    "])\n",
    "model.compile(loss=\"sparse_categorical_crossentropy\", optimizer=\"nadam\", metrics=[\"accuracy\"])\n",
    "n_epochs = 2\n",
    "history = model.fit(X_train_scaled, y_train, epochs=n_epochs,\n",
    "                    validation_data=(X_valid_scaled, y_valid))"
   ]
  }
 ],
 "metadata": {
  "accelerator": "GPU",
  "colab": {
   "name": "11_training_deep_neural_networks.ipynb",
   "provenance": []
  },
  "kernelspec": {
   "display_name": "Python 3 (ipykernel)",
   "language": "python",
   "name": "python3"
  },
  "language_info": {
   "codemirror_mode": {
    "name": "ipython",
    "version": 3
   },
   "file_extension": ".py",
   "mimetype": "text/x-python",
   "name": "python",
   "nbconvert_exporter": "python",
   "pygments_lexer": "ipython3",
   "version": "3.9.12"
  },
  "nav_menu": {
   "height": "360px",
   "width": "416px"
  },
  "toc": {
   "navigate_menu": true,
   "number_sections": true,
   "sideBar": true,
   "threshold": 6,
   "toc_cell": false,
   "toc_section_display": "block",
   "toc_window_display": false
  }
 },
 "nbformat": 4,
 "nbformat_minor": 5
}
